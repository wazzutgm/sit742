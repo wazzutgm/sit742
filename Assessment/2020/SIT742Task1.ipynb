{
 "cells": [
  {
   "cell_type": "markdown",
   "metadata": {
    "colab_type": "text",
    "id": "EMX0qNbHot1x"
   },
   "source": [
    "# SIT742: Modern Data Science \n",
    "**(2020 Assessment Task 01: Exploration for Data Scientists Survey Data)**\n",
    "\n",
    "---\n",
    "- Materials in this module include resources collected from various open-source online repositories.\n",
    "- You are free to use, change and distribute this package.\n",
    "\n",
    "Prepared by **SIT742 Teaching Team**\n",
    "\n",
    "\n",
    "---\n",
    "\n",
    "<div class=\"alert alert-block alert-info\">\n",
    "Enter your information in the following cell. Please make sure you fill your Student ID and Name correctly.  \n",
    "</div>\n",
    "\n",
    "**Student Information:** Please fill your information below\n",
    "\n",
    "- Name:  \n",
    "- Student ID:  \n",
    "- Email:  \n",
    "- Lab Session and Tutor (for on campus students): \n",
    "\n",
    "---"
   ]
  },
  {
   "cell_type": "markdown",
   "metadata": {
    "colab_type": "text",
    "id": "cHdQMSVzJyip"
   },
   "source": [
    "## Overview\n",
    "\n",
    "In 2017, [Kaggle](https://www.kaggle.com) (a data science community and competition platform) conducted a survey on a large range of users registered as the data scientist in their platform. The survey data are broadly covered the skill set of the data scientists, the demographic of the data scientists, the feedback of the platform and many other information. \n",
    "\n",
    "In this task, you will need to \n",
    "\n",
    "- **Part 1**: Given the following two data sets, you are required to finish some required analysis, with the exploreation data analytics skills as well as visuilization skills\n",
    "     - [MCQResponses.csv](https://github.com/tulip-lab/sit742/raw/master/Assessment/2020/data/MCQResponses.csv): Participants' answers to multiple choice questions. Each column contains the answers of one respondent to a specific question.     \n",
    "     - [ConversionRates.csv](https://github.com/tulip-lab/sit742/raw/master/Assessment/2020/data/ConversionRates.csv): Currency conversion rates to USD. \n",
    "- **Part 2**: Given the following data set, you are required to find out top keywords for hiring the data scientists. \n",
    "    - [JobPostings.csv](https://github.com/tulip-lab/sit742/raw/master/Assessment/2020/data/JobPostings.csv): Data scientists job advertising in US with job descriptions, from JobPikr.\n",
    "\n",
    "\n",
    "You will be required to complete the coding to answer the questions with a neat and clean format, and your commenting and adherence to code standards will also be considered when marking. Further information on Python standards, please visit https://www.python.org/dev/peps/pep-0008/ \n",
    "\n",
    "\n",
    "**Note**: You are not necessary to stick to the partial code provided, and you can write your own code to implement the required tasks. But you should provide sufficient comments.\n"
   ]
  },
  {
   "cell_type": "markdown",
   "metadata": {
    "colab_type": "text",
    "id": "0d3FjO8fJyir"
   },
   "source": [
    "## Part 1 - What we could know about the Data Scientists? "
   ]
  },
  {
   "cell_type": "markdown",
   "metadata": {
    "_cell_guid": "06c9b38b-000e-4b8a-95f0-65a93bb332f2",
    "_uuid": "2bfa8ca86a226c9900a67a02236a072274bc0d18",
    "colab_type": "text",
    "id": "NuDhBkqaot17"
   },
   "source": [
    "### 1.0. Libraries and data files\n",
    "<a id=\"Load data\"></a>\n",
    "***\n"
   ]
  },
  {
   "cell_type": "code",
   "execution_count": null,
   "metadata": {
    "colab": {
     "base_uri": "https://localhost:8080/",
     "height": 193
    },
    "colab_type": "code",
    "id": "Tzx_NMcsJyiv",
    "outputId": "54746ab0-75bc-466d-826b-41766256eaf7"
   },
   "outputs": [],
   "source": [
    "!pip install wget"
   ]
  },
  {
   "cell_type": "code",
   "execution_count": null,
   "metadata": {
    "_cell_guid": "bf6d21b3-22d5-48e4-8a62-a50ef36bae42",
    "_kg_hide-input": true,
    "_kg_hide-output": false,
    "_uuid": "76567470049e7d7e878b76d72e81858f56bdbd2a",
    "colab": {},
    "colab_type": "code",
    "id": "7AVjZqvmot2A",
    "scrolled": true
   },
   "outputs": [],
   "source": [
    "import numpy as np\n",
    "import matplotlib.pyplot as plt\n",
    "import pandas as pd\n",
    "from pandas import datetime\n",
    "import wget\n",
    "import seaborn as sns\n",
    "sns.set(style=\"whitegrid\")"
   ]
  },
  {
   "cell_type": "code",
   "execution_count": null,
   "metadata": {
    "_cell_guid": "bf6d21b3-22d5-48e4-8a62-a50ef36bae42",
    "_kg_hide-input": true,
    "_kg_hide-output": false,
    "_uuid": "76567470049e7d7e878b76d72e81858f56bdbd2a",
    "colab": {},
    "colab_type": "code",
    "id": "7AVjZqvmot2A",
    "scrolled": true
   },
   "outputs": [],
   "source": [
    "link_to_data = 'https://github.com/tulip-lab/sit742/raw/master/Assessment/2020/data/MCQResponses.csv'\n",
    "DataSet = wget.download(link_to_data)\n",
    "\n",
    "link_to_data = 'https://github.com/tulip-lab/sit742/raw/master/Assessment/2020/data/ConversionRates.csv'\n",
    "DataSet = wget.download(link_to_data)\n",
    "\n",
    "link_to_data = 'https://github.com/tulip-lab/sit742/raw/master/Assessment/2020/data/JobPostings.csv'\n",
    "DataSet = wget.download(link_to_data)"
   ]
  },
  {
   "cell_type": "markdown",
   "metadata": {
    "colab_type": "text",
    "id": "xt84oidr-jof"
   },
   "source": [
    " <div class=\"alert alert-block alert-info\">\n",
    "\n",
    "**Code**: \n",
    "    You are required to load MCQResponses.csv into dataframe df_demog, and check the data statistics and general infommation by printing its top 5 rows.\n",
    "</div>"
   ]
  },
  {
   "cell_type": "code",
   "execution_count": null,
   "metadata": {
    "colab": {
     "base_uri": "https://localhost:8080/",
     "height": 395
    },
    "colab_type": "code",
    "id": "Xl5VV8v4ot2N",
    "outputId": "34fb6c39-5e20-45a5-9b25-64ca4481296d"
   },
   "outputs": [],
   "source": [
    "# Your code\n",
    "\n",
    "df_demog =  # Your code ...."
   ]
  },
  {
   "cell_type": "markdown",
   "metadata": {
    "colab_type": "text",
    "id": "7gclqLjREEe7"
   },
   "source": [
    "<div class=\"alert alert-block alert-info\">\n",
    "\n",
    "**Code**: \n",
    "    Check which columns have NAs (don't remove them now), and for each of those columns, display how many records with values\n",
    "\n",
    "\n",
    "<div class=\"alert alert-block alert-warning\">\n",
    "    \n",
    "**Report**: \n",
    "    **1.0.A** Please include your result for this coding task into your report, with proper section title '1.0.A'.\n",
    "</div>\n",
    "    </div>\n",
    "\n",
    "\n"
   ]
  },
  {
   "cell_type": "code",
   "execution_count": null,
   "metadata": {
    "colab": {
     "base_uri": "https://localhost:8080/",
     "height": 156
    },
    "colab_type": "code",
    "id": "jk5oshZLot2U",
    "outputId": "d600a287-7465-48f8-8d22-c8b56cf7fb61"
   },
   "outputs": [],
   "source": [
    "# Your Code\n",
    "\n"
   ]
  },
  {
   "cell_type": "code",
   "execution_count": null,
   "metadata": {
    "colab": {
     "base_uri": "https://localhost:8080/",
     "height": 329
    },
    "colab_type": "code",
    "id": "AXyiiOEGot2a",
    "outputId": "7642a05c-2e78-4d78-8af5-5e7396e3169e"
   },
   "outputs": [],
   "source": [
    "# Your Code\n",
    "\n"
   ]
  },
  {
   "cell_type": "markdown",
   "metadata": {
    "colab_type": "text",
    "id": "MclqalahEVm-"
   },
   "source": [
    "<div class=\"alert alert-block alert-info\">\n",
    "\n",
    "**Code**: \n",
    "    Select the users whose current job title is 'Data Scientist', and store into variable df_demog_ds    \n",
    "\n",
    "<div class=\"alert alert-block alert-warning\">\n",
    "    \n",
    "**Report**: \n",
    "    **1.0.B** Please include your result of `how many Data Scientists?' into your report, with proper section title  '1.0.B'.\n",
    "</div>\n",
    "</div>\n",
    "\n",
    "\n"
   ]
  },
  {
   "cell_type": "code",
   "execution_count": null,
   "metadata": {
    "colab": {
     "base_uri": "https://localhost:8080/",
     "height": 312
    },
    "colab_type": "code",
    "id": "sjdZZOc8ot2g",
    "outputId": "240ce3ed-46ea-4d85-e0c9-91cfd043e5da"
   },
   "outputs": [],
   "source": [
    "# Your code\n",
    "\n"
   ]
  },
  {
   "cell_type": "markdown",
   "metadata": {
    "_cell_guid": "3e161447-2816-45ec-872f-3a20da79c042",
    "_uuid": "d6bdc03f0c63a08754efc13378661dc986d2bcb8",
    "colab_type": "text",
    "id": "iuhutBLOot5O"
   },
   "source": [
    "### 1.1. Education\n",
    "<a id=\"education\"></a>\n",
    "***\n",
    "In data scientists job, education is important. Is it reasonable to ask data scientists to have a Master's or Doctoral degree? Let's find out. \n"
   ]
  },
  {
   "cell_type": "markdown",
   "metadata": {
    "colab_type": "text",
    "id": "yHyeeZvDot5Q"
   },
   "source": [
    "<div class=\"alert alert-block alert-info\">\n",
    "\n",
    "**Code**: \n",
    "    Plot and display as text output the number and percentage of data scientist with each type of formal education. \n",
    "\n",
    "<div class=\"alert alert-block alert-warning\">\n",
    "    \n",
    "**Report**: \n",
    "    **1.1.A** Please include your running result of this coding task into your report, with proper section title  '1.1.A'.\n",
    "</div>\n",
    "\n",
    "</div>"
   ]
  },
  {
   "cell_type": "code",
   "execution_count": null,
   "metadata": {
    "colab": {
     "base_uri": "https://localhost:8080/",
     "height": 139
    },
    "colab_type": "code",
    "id": "lRXfdfvgot5S",
    "outputId": "0e75e2b5-4e61-4e9c-cb70-141484e5fd45"
   },
   "outputs": [],
   "source": [
    "# Your code\n",
    "\n"
   ]
  },
  {
   "cell_type": "markdown",
   "metadata": {
    "_cell_guid": "551f7dba-71d3-4f77-8852-fce4f789d644",
    "_uuid": "31449fb18bfea68bb723b010b78dcab6c8fe5439",
    "colab_type": "text",
    "id": "K-yMEEFLot7P"
   },
   "source": [
    "### 1.2. Salary\n",
    "<a id=\"salary\"></a>\n",
    "\n",
    "Data science is considered a very well paying role, let's find out the salary information. Since all of the respondents did not come from one country, we can assume that they gave their salaries in their countries currency. We have filtered the data for you and provided exchange rates in a file called *ConversionRates.csv* which should already be imported. \n",
    "\n",
    "First of all, you need to merge the multiple choice data with the *ConversionRates.csv* by using the compensation currency and originCountry respectively. And then you will need to multiply the compensation amount with exchangeRateAUS to have the Australian dollors."
   ]
  },
  {
   "cell_type": "code",
   "execution_count": null,
   "metadata": {
    "colab": {
     "base_uri": "https://localhost:8080/",
     "height": 202
    },
    "colab_type": "code",
    "id": "BZaQ7vykot7U",
    "outputId": "14523a49-5dec-454a-9704-328c60b7a173"
   },
   "outputs": [],
   "source": [
    "# Your code\n"
   ]
  },
  {
   "cell_type": "markdown",
   "metadata": {
    "colab_type": "text",
    "id": "6MYDXU6dot7T"
   },
   "source": [
    "<div class=\"alert alert-block alert-info\">\n",
    "\n",
    "**Code**: \n",
    "Use the codes for each country to merge the files so that you can convert the salary data to Australian Dollars (AUD). Print out the maximum and median salary in AUD. Hint: think about what data type you have.\n",
    "    \n",
    "<div class=\"alert alert-block alert-warning\">\n",
    "    \n",
    "**Report**: \n",
    "    **1.2.A** In your report's section '1.2.A', answer what is the maximum and median salary in AUD.\n",
    "</div>\n",
    "\n",
    "\n",
    "</div>\n"
   ]
  },
  {
   "cell_type": "code",
   "execution_count": null,
   "metadata": {
    "colab": {},
    "colab_type": "code",
    "id": "tyMNN-r3Jyjc"
   },
   "outputs": [],
   "source": [
    "# Your Code\n",
    " "
   ]
  },
  {
   "cell_type": "code",
   "execution_count": null,
   "metadata": {
    "colab": {
     "base_uri": "https://localhost:8080/",
     "height": 173
    },
    "colab_type": "code",
    "id": "nA9JygJ2ot7v",
    "outputId": "2161e2cb-8d38-4a04-d207-48e1004411d5"
   },
   "outputs": [],
   "source": [
    "# Your code\n"
   ]
  },
  {
   "cell_type": "markdown",
   "metadata": {
    "colab_type": "text",
    "id": "kAtIFQgxMcR9"
   },
   "source": [
    "<div class=\"alert alert-block alert-info\">\n",
    "\n",
    "**Code**: \n",
    "Plot a boxplot of the Australian respondents salary distribution. Print out the maximum and median salaries for Australian repsondnts.\n",
    "\n",
    "    \n",
    "<div class=\"alert alert-block alert-warning\">\n",
    "    \n",
    "**Report**: \n",
    "    **1.2.B** In your report's section '1.2.B', answer what is the maximum and median salary in AUD for Australian respondents, and also include your plotted boxplot of this coding task into your report. \n",
    "</div>\n",
    "\n",
    "\n",
    "</div>\n"
   ]
  },
  {
   "cell_type": "code",
   "execution_count": null,
   "metadata": {
    "colab": {
     "base_uri": "https://localhost:8080/",
     "height": 301
    },
    "colab_type": "code",
    "id": "44a4HBqvMb_N",
    "outputId": "7ca7de86-0fb6-420d-ada5-386a26c36ee2"
   },
   "outputs": [],
   "source": [
    "plt.title(\"Boxplot of salary on Australia\")\n",
    "\n",
    "# Your code\n"
   ]
  },
  {
   "cell_type": "code",
   "execution_count": null,
   "metadata": {
    "colab": {
     "base_uri": "https://localhost:8080/",
     "height": 173
    },
    "colab_type": "code",
    "id": "RZDQMRRfMbSl",
    "outputId": "b02aa5ee-ccfa-4d03-8d99-d3387ac74f90"
   },
   "outputs": [],
   "source": [
    "# Your code\n",
    "\n"
   ]
  },
  {
   "cell_type": "markdown",
   "metadata": {
    "colab_type": "text",
    "id": "b5TQQt_1LSG2"
   },
   "source": [
    "<div class=\"alert alert-block alert-info\">\n",
    "\n",
    "**Code**: \n",
    "There are some outliers in the Australian salary plot. You are required to filter the salary of Australian respondents by removing any below 40,000 or above 250,000. \n",
    "\n",
    "    \n",
    "<div class=\"alert alert-block alert-warning\">\n",
    "    \n",
    "**Report**: \n",
    "    **1.2.C** In your report's section '1.2.C', answer what is the new maximum and median salary in AUD for Australian respondents after filtering, and also include your plotted boxplot of this coding task into your report. \n",
    "</div>\n",
    "\n",
    "\n",
    "</div>\n"
   ]
  },
  {
   "cell_type": "code",
   "execution_count": null,
   "metadata": {
    "colab": {
     "base_uri": "https://localhost:8080/",
     "height": 173
    },
    "colab_type": "code",
    "id": "2OCbrDb9MUdb",
    "outputId": "cac625f8-363e-439b-af04-cbf0e54fb2d1"
   },
   "outputs": [],
   "source": [
    "# your code\n",
    "\n"
   ]
  },
  {
   "cell_type": "code",
   "execution_count": null,
   "metadata": {
    "colab": {
     "base_uri": "https://localhost:8080/",
     "height": 301
    },
    "colab_type": "code",
    "id": "iDkjx7H1NhAj",
    "outputId": "fcef345c-3a9b-4897-927a-be05810b6d02"
   },
   "outputs": [],
   "source": [
    "plt.title(\"Boxplot of filtered salary on Australia\")\n",
    "\n",
    "# Your code\n"
   ]
  },
  {
   "cell_type": "markdown",
   "metadata": {
    "_cell_guid": "06c9b38b-000e-4b8a-95f0-65a93bb332f2",
    "_uuid": "2bfa8ca86a226c9900a67a02236a072274bc0d18",
    "colab_type": "text",
    "id": "WL_oOonnot2l"
   },
   "source": [
    "### 1.3. Exploring the data scientist Demographics\n",
    "<a id=\"demographics\"></a>\n",
    "***\n",
    "\n",
    "#### 1.3.1 Age\n",
    "<a id=\"age\"></a>\n",
    "You will need to build a boxplot to explore the age of all data scientists. \n",
    "Your plot must have a label for each axis, a tittle and also show the outliers."
   ]
  },
  {
   "cell_type": "code",
   "execution_count": null,
   "metadata": {
    "colab": {
     "base_uri": "https://localhost:8080/",
     "height": 301
    },
    "colab_type": "code",
    "id": "3qi9JyJHot2o",
    "outputId": "a4a60cbe-b15a-4b71-c3fe-64027b81bb62"
   },
   "outputs": [],
   "source": [
    "plt.title(\"Boxplot of Age\")\n",
    "\n",
    "ax = sns.boxplot(x=df_demog_ds[\"Age\"])"
   ]
  },
  {
   "cell_type": "markdown",
   "metadata": {
    "colab_type": "text",
    "id": "sQEUpSEOot2u"
   },
   "source": [
    "<div class=\"alert alert-block alert-info\">\n",
    "\n",
    "**Code**: \n",
    "        <ol>\n",
    "        <li> Calculate the five descriptive statistics for age as shown on the boxplot, as well as the mean. Please round your mean to integer.</li>\n",
    "        <li> Regardless of the errors that the data show, we are interested in working-age data scientists, how many aged between 24 and 60. </li>\n",
    "        <li> How many respondents were under 18?</li>\n",
    "    </ol>\n",
    "    \n",
    "\n",
    "    \n",
    "<div class=\"alert alert-block alert-warning\">\n",
    "    \n",
    "**Report**: \n",
    "    **1.3.A** In your report's section '1.3.A', answer \n",
    "        <ol>\n",
    "        <li> What is the mean age? </li>\n",
    "        <li> What is the median age? </li>\n",
    "        <li> how many data scientists aged between 24 and 60</li>\n",
    "        <li> how many respondents were under 18? </li>\n",
    "    </ol>\n",
    "    \n",
    "</div>\n",
    "\n",
    "\n",
    "</div>\n",
    "\n",
    "\n",
    "\n",
    "\n",
    "\n"
   ]
  },
  {
   "cell_type": "code",
   "execution_count": null,
   "metadata": {
    "colab": {
     "base_uri": "https://localhost:8080/",
     "height": 173
    },
    "colab_type": "code",
    "id": "NYdZjpklot2w",
    "outputId": "ff7d04f8-64e4-4f34-cf43-caa7588d7ed3"
   },
   "outputs": [],
   "source": [
    "# Your code\n"
   ]
  },
  {
   "cell_type": "code",
   "execution_count": null,
   "metadata": {
    "colab": {
     "base_uri": "https://localhost:8080/",
     "height": 35
    },
    "colab_type": "code",
    "id": "ngjxIviIot21",
    "outputId": "97a924af-e98b-4681-f6f0-c8aa303e5a09"
   },
   "outputs": [],
   "source": [
    "# Your code\n",
    "\n"
   ]
  },
  {
   "cell_type": "code",
   "execution_count": null,
   "metadata": {
    "colab": {
     "base_uri": "https://localhost:8080/",
     "height": 35
    },
    "colab_type": "code",
    "id": "bW7mnijvJyj1",
    "outputId": "53ddc018-37ad-4dff-d1ca-6946897e7e98"
   },
   "outputs": [],
   "source": [
    "# Your code\n",
    "\n"
   ]
  },
  {
   "cell_type": "code",
   "execution_count": null,
   "metadata": {
    "colab": {
     "base_uri": "https://localhost:8080/",
     "height": 35
    },
    "colab_type": "code",
    "id": "RxcGZ97Uot3M",
    "outputId": "41415243-6be8-48c4-87e7-f98f7a46e1e7"
   },
   "outputs": [],
   "source": [
    "# Your code: How many data scientsits aged between 24 and 60\n",
    "\n"
   ]
  },
  {
   "cell_type": "code",
   "execution_count": null,
   "metadata": {
    "colab": {
     "base_uri": "https://localhost:8080/",
     "height": 35
    },
    "colab_type": "code",
    "id": "3fehgZuEJyj8",
    "outputId": "ab079e51-749e-460c-e4d9-a5c23a514ede"
   },
   "outputs": [],
   "source": [
    "# Your Code: how many respondents under 18?\n"
   ]
  },
  {
   "cell_type": "markdown",
   "metadata": {
    "colab_type": "text",
    "id": "c-al5HYdot3W"
   },
   "source": [
    "#### 1.3.2 Gender\n",
    "<a id=\"gender\"></a>\n",
    "We are interested in the gender of respondents. Nowadays, the gender equity is important for companies and organizations. \n"
   ]
  },
  {
   "cell_type": "markdown",
   "metadata": {
    "_cell_guid": "4b0c5cbc-a703-4b39-95bd-510f07ece6c0",
    "_uuid": "214cae932a19a586e341914443aa89e62009e6c4",
    "colab_type": "text",
    "id": "aVdtFL5wot3Y"
   },
   "source": [
    "<div class=\"alert alert-block alert-info\">\n",
    "\n",
    "**Code**: \n",
    "Plot the gender distribution of the data scientist users using a Barchart. \n",
    "</div>\n"
   ]
  },
  {
   "cell_type": "code",
   "execution_count": null,
   "metadata": {
    "colab": {
     "base_uri": "https://localhost:8080/",
     "height": 301
    },
    "colab_type": "code",
    "id": "OcKUWzqqot3Z",
    "outputId": "401bc6aa-291d-4808-86f2-17994f8e8ef2"
   },
   "outputs": [],
   "source": [
    "plt.title(\"Boxplot of Gender\")\n",
    "\n",
    "# Your code\n"
   ]
  },
  {
   "cell_type": "markdown",
   "metadata": {},
   "source": [
    "Now let's see if any relationship between gender and age\n",
    "\n",
    "Create a box plot showing the age of all the data scientists according to gender (men, women and other identity)."
   ]
  },
  {
   "cell_type": "code",
   "execution_count": null,
   "metadata": {
    "colab": {
     "base_uri": "https://localhost:8080/",
     "height": 301
    },
    "colab_type": "code",
    "id": "fLPvkJt2ot30",
    "outputId": "dac6f3ae-67cf-49f1-8132-ecd33346f476"
   },
   "outputs": [],
   "source": [
    "plt.title(\"Boxplot of Age with GenderSelect\")\n",
    "\n",
    "# Your code here"
   ]
  },
  {
   "cell_type": "markdown",
   "metadata": {
    "colab_type": "text",
    "id": "MQb_Obrpot3e"
   },
   "source": [
    "<div class=\"alert alert-block alert-info\">\n",
    "\n",
    "**Code**: \n",
    "You are required to use the barchart to show the percentage of men, women and other identity.\n",
    "    \n",
    "    \n",
    "<div class=\"alert alert-block alert-warning\">\n",
    "    \n",
    "**Report**: \n",
    "    **1.3.B** In your report's section '1.3.B', include the bar chart generated from your code.\n",
    "</div>\n",
    "    \n",
    "\n",
    "</div>"
   ]
  },
  {
   "cell_type": "code",
   "execution_count": null,
   "metadata": {
    "colab": {
     "base_uri": "https://localhost:8080/",
     "height": 518
    },
    "colab_type": "code",
    "id": "H0tU0cJLot3h",
    "outputId": "dcd0fa35-7839-4d84-c472-4f3d79721bf8"
   },
   "outputs": [],
   "source": [
    "plt.figure(figsize=(12,8))\n",
    "plt.title('Distribution of Gender')\n",
    "plt.xlabel('Gender Select')\n",
    "plt.ylabel('Percentage [%]')\n",
    "\n",
    "# Your code\n",
    " "
   ]
  },
  {
   "cell_type": "markdown",
   "metadata": {
    "colab_type": "text",
    "id": "ohxh7aPWot4G"
   },
   "source": [
    "#### 1.3.3 Country\n",
    "<a id=\"country\"></a>\n",
    "The data scientists are working all over the world. The United States is regarded the largest data science community. India, China and some other countries are also having a fast growing recently. Is this true? Let's find out."
   ]
  },
  {
   "cell_type": "markdown",
   "metadata": {
    "colab_type": "text",
    "id": "gcW1HPZlot4J"
   },
   "source": [
    "<div class=\"alert alert-block alert-info\">\n",
    "\n",
    "**Code**: \n",
    "Find the top 5 countries of data scientists.\n",
    "    \n",
    "<div class=\"alert alert-block alert-warning\">\n",
    "    \n",
    "**Report**: \n",
    "    **1.3.C** In your report's section '1.3.C', answer what are those top 5 countries and their corresponding number of data scienists\n",
    "</div>\n",
    "    \n",
    "\n",
    "</div>"
   ]
  },
  {
   "cell_type": "code",
   "execution_count": null,
   "metadata": {
    "colab": {
     "base_uri": "https://localhost:8080/",
     "height": 202
    },
    "colab_type": "code",
    "id": "e14ly826ot4L",
    "outputId": "4b766db4-8f1b-490a-9c4a-5a361bd7071a"
   },
   "outputs": [],
   "source": [
    "# Your Code: create and fill value into df_country\n",
    "\n"
   ]
  },
  {
   "cell_type": "code",
   "execution_count": null,
   "metadata": {
    "_cell_guid": "f3da614f-96e2-45d1-ba78-9d08a58fa136",
    "_kg_hide-input": true,
    "_uuid": "34afcf67184929a6de8358a13a961d0b9ad25b6c",
    "colab": {
     "base_uri": "https://localhost:8080/",
     "height": 678
    },
    "colab_type": "code",
    "id": "4NfzLajkot4X",
    "outputId": "5eaf1aee-0581-4b25-b26f-a61ae5d7c53c"
   },
   "outputs": [],
   "source": [
    "# Show the Boxplot of country\n"
   ]
  },
  {
   "cell_type": "markdown",
   "metadata": {
    "colab_type": "text",
    "id": "t8LLns9IJykS"
   },
   "source": [
    "<div class=\"alert alert-block alert-info\">\n",
    "\n",
    "**Code**: \n",
    "Generate the distribution of top 5 countries of data scientists, using percentage barchart. You can not mannually input the name of top 5 countries (your code should not contain any name of the top 5 countries), and you are required to use python subset functions or many other functions.\n",
    "    \n",
    "<div class=\"alert alert-block alert-warning\">\n",
    "    \n",
    "**Report**: \n",
    "    **1.3.D** In your report's section '1.3.D', including the percentage barchart of those top 5 countries.\n",
    "</div>\n",
    "    \n",
    "\n",
    "</div>"
   ]
  },
  {
   "cell_type": "code",
   "execution_count": null,
   "metadata": {
    "colab": {
     "base_uri": "https://localhost:8080/",
     "height": 518
    },
    "colab_type": "code",
    "id": "M1g1CA3_ot4l",
    "outputId": "af7a5eef-7396-459e-ecf8-69d9f9f6ea6c"
   },
   "outputs": [],
   "source": [
    "#percentage\n",
    "plt.figure(figsize=(12,8))\n",
    "plt.title('Distribution of Top 5 country with data scientist count')\n",
    "plt.xlabel('Country')\n",
    "plt.ylabel('Percentage [%]')\n",
    "\n",
    "\n",
    "#Your Code: create and fill values into df_country_top5\n",
    "\n"
   ]
  },
  {
   "cell_type": "markdown",
   "metadata": {
    "colab_type": "text",
    "id": "rQNCS52Aot40"
   },
   "source": [
    "Now we have some understanding about the country, let's see if there is any relationship between country, age and gender.\n",
    "\n",
    "<div class=\"alert alert-block alert-info\">\n",
    "\n",
    "**Code**: \n",
    "You are required to output the mean and median age for each gender for the United States, India, Australia, Pakistan\n",
    "\n",
    "\n",
    "<div class=\"alert alert-block alert-warning\">\n",
    "    \n",
    "**Report**: \n",
    "    **1.3.E** In your report's section '1.3.E', including the results of above coding task.\n",
    "</div>\n",
    "\n",
    "\n",
    "</div>\n",
    "\n",
    "\n"
   ]
  },
  {
   "cell_type": "code",
   "execution_count": null,
   "metadata": {
    "colab": {
     "base_uri": "https://localhost:8080/",
     "height": 325
    },
    "colab_type": "code",
    "id": "C8x3hi3xot45",
    "outputId": "dc0ce279-87ba-4670-d9e1-38726f0f854e"
   },
   "outputs": [],
   "source": [
    "# Your Code\n",
    "\n"
   ]
  },
  {
   "cell_type": "markdown",
   "metadata": {
    "colab_type": "text",
    "id": "gYQNiE5Cot-I"
   },
   "source": [
    "## Part 2 - Data Science Job Advertising Data\n",
    "\n",
    "In this part, you are required to use the text processing skills to find out the insights in data science job adverising Data."
   ]
  },
  {
   "cell_type": "markdown",
   "metadata": {
    "colab_type": "text",
    "id": "LQmiP5-_Nc3b"
   },
   "source": [
    "### 2.1. Load the data and Extract the high frequency words\n",
    "<a id=\"text\"></a>\n",
    "\n",
    "Firstly, you will need to load the [JobPostings.csv](https://github.com/tulip-lab/sit742/raw/master/Assessment/2020/data/JobPostings.csv) data and sub-set out of the job description from it."
   ]
  },
  {
   "cell_type": "code",
   "execution_count": null,
   "metadata": {
    "colab": {
     "base_uri": "https://localhost:8080/",
     "height": 69
    },
    "colab_type": "code",
    "id": "zH8XAQ0xYGSc",
    "outputId": "6369ff7f-52d3-4a2a-a22d-8b284e76d8de"
   },
   "outputs": [],
   "source": [
    "import re\n",
    "import nltk\n",
    "from nltk.tokenize import RegexpTokenizer\n",
    "from nltk.probability import *\n",
    "from itertools import chain\n",
    "#from tqdm import tqdm\n",
    "import codecs\n",
    "from nltk.corpus import stopwords \n",
    "nltk.download('stopwords')"
   ]
  },
  {
   "cell_type": "code",
   "execution_count": null,
   "metadata": {
    "colab": {},
    "colab_type": "code",
    "id": "p_BSc5WkYcf4"
   },
   "outputs": [],
   "source": [
    "df_text = pd.read_csv('JobPostings.csv')"
   ]
  },
  {
   "cell_type": "markdown",
   "metadata": {
    "colab_type": "text",
    "id": "xm1vdjSKJykj"
   },
   "source": [
    "<div class=\"alert alert-block alert-info\">\n",
    "\n",
    "**Code**: \n",
    "You are required to extract the token and append them into the list 'token'.\n",
    "\n",
    "<div class=\"alert alert-block alert-warning\">\n",
    "    \n",
    "**Report**: \n",
    "    **2.1.A** In your report's section '2.1.A', including your code of this task. You can copy and paster your completed code in the following cell\n",
    "</div>\n",
    "\n",
    "\n",
    "</div>\n"
   ]
  },
  {
   "cell_type": "code",
   "execution_count": null,
   "metadata": {
    "colab": {},
    "colab_type": "code",
    "id": "Rz03Rd-GYYMw"
   },
   "outputs": [],
   "source": [
    "lower = []\n",
    "for item in df_text['job_description']:\n",
    "    lower.append(item.lower())           # lowercase description\n",
    "\n",
    "tokens = []\n",
    "\n",
    "# Your code: write your code here to define your tokenize, and add to tokens \n",
    "\n",
    "\n"
   ]
  },
  {
   "cell_type": "markdown",
   "metadata": {
    "colab_type": "text",
    "id": "VD4z8w8xOKDJ"
   },
   "source": [
    "Secondly, \n",
    "\n",
    "<div class=\"alert alert-block alert-info\">\n",
    "\n",
    "**Code**: \n",
    "You are required to find out the words freqency which is more than 6000 in the job descriptions. (Please use stopwords at beginning)\n",
    "\n",
    "\n",
    "<div class=\"alert alert-block alert-warning\">\n",
    "    \n",
    "**Report**: \n",
    "    **2.1.B** In your report's section '2.1.B', list those words with frequency > 6000.\n",
    "</div>\n",
    "\n",
    "\n",
    "</div>\n",
    "\n",
    "\n"
   ]
  },
  {
   "cell_type": "code",
   "execution_count": null,
   "metadata": {
    "colab": {},
    "colab_type": "code",
    "id": "c-Pag_N7Zew-"
   },
   "outputs": [],
   "source": [
    "stop_words = set(stopwords.words('english')) \n",
    "\n",
    "freq6000 = []\n",
    "\n",
    "# Your Code\n",
    "# find top common words with document frequencies > 6000\n",
    "# you may use function FreqDist() and sort()\n"
   ]
  },
  {
   "cell_type": "code",
   "execution_count": null,
   "metadata": {
    "colab": {
     "base_uri": "https://localhost:8080/",
     "height": 364
    },
    "colab_type": "code",
    "id": "S7JzfU6AaSQi",
    "outputId": "5948118d-956a-4ac2-d47d-d9ac37815910"
   },
   "outputs": [],
   "source": [
    "freq6000"
   ]
  },
  {
   "cell_type": "markdown",
   "metadata": {
    "colab_type": "text",
    "id": "EK9-BCbDJyky"
   },
   "source": [
    "Then,\n",
    "\n",
    "<div class=\"alert alert-block alert-info\">\n",
    "\n",
    "**Code**: \n",
    "You are required to sort and display the top 10 high frequency words in 'freq6000'\n",
    "\n",
    "<div class=\"alert alert-block alert-warning\">\n",
    "    \n",
    "**Report**: \n",
    "    **2.1.C** In your report's section '2.1.C', list those top 10 words\n",
    "</div>\n",
    "\n",
    "\n",
    "</div>\n",
    "\n",
    "\n",
    "\n",
    "\n"
   ]
  },
  {
   "cell_type": "code",
   "execution_count": null,
   "metadata": {
    "colab": {
     "base_uri": "https://localhost:8080/",
     "height": 355
    },
    "colab_type": "code",
    "id": "doWvhqRmJykz",
    "outputId": "5411c8b2-23ec-43a6-d41d-20ea9ffcd335"
   },
   "outputs": [],
   "source": [
    "# Your Code to sort and display the top 10 high fequency words in 'freq6000'\n",
    "\n"
   ]
  },
  {
   "cell_type": "markdown",
   "metadata": {},
   "source": [
    "Finally,\n",
    "\n",
    "<div class=\"alert alert-block alert-info\">\n",
    "\n",
    "**Code**: \n",
    "You are required to carry out one more analytics on this data set, and implement it below.\n",
    "\n",
    "<div class=\"alert alert-block alert-warning\">\n",
    "    \n",
    "**Report**: \n",
    "    **2.1.D** In your report's section '2.1.D', describe your self-defined text analysis task, and the discovery from your analysis.\n",
    "</div>\n",
    "\n",
    "\n",
    "</div>\n",
    "\n",
    "\n",
    "\n",
    "\n",
    "\n"
   ]
  },
  {
   "cell_type": "code",
   "execution_count": null,
   "metadata": {},
   "outputs": [],
   "source": [
    "# Your Code below\n",
    "\n"
   ]
  }
 ],
 "metadata": {
  "colab": {
   "collapsed_sections": [],
   "name": "2020SIT742Task1Sol.ipynb",
   "provenance": [],
   "toc_visible": true
  },
  "kernelspec": {
   "display_name": "Python 3",
   "language": "python",
   "name": "python3"
  },
  "language_info": {
   "codemirror_mode": {
    "name": "ipython",
    "version": 3
   },
   "file_extension": ".py",
   "mimetype": "text/x-python",
   "name": "python",
   "nbconvert_exporter": "python",
   "pygments_lexer": "ipython3",
   "version": "3.7.6"
  }
 },
 "nbformat": 4,
 "nbformat_minor": 4
}
