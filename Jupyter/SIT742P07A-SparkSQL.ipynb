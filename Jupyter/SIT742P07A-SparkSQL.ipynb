{
  "nbformat": 4,
  "nbformat_minor": 0,
  "metadata": {
    "colab": {
      "name": "SIT742P07A-SparkSQL.ipynb",
      "version": "0.3.2",
      "provenance": [],
      "collapsed_sections": [],
      "toc_visible": true
    },
    "language_info": {
      "mimetype": "text/x-python",
      "nbconvert_exporter": "python",
      "version": "3.5.5",
      "name": "python",
      "file_extension": ".py",
      "pygments_lexer": "ipython3",
      "codemirror_mode": {
        "version": 3,
        "name": "ipython"
      }
    },
    "kernelspec": {
      "display_name": "Python 3.5",
      "name": "python3",
      "language": "python"
    }
  },
  "cells": [
    {
      "metadata": {
        "colab_type": "text",
        "id": "FK3_qvIrh3Lz"
      },
      "cell_type": "markdown",
      "source": [
        "# SIT742: Modern Data Science \n",
        "**(Week 07: Big Data Platform (II))**\n",
        "\n",
        "\n",
        "---\n",
        "- Materials in this module include resources collected from various open-source online repositories.\n",
        "- You are free to use, change and distribute this package.\n",
        "- If you found any issue/bug for this document, please submit an issue at [tulip-lab/sit742](https://github.com/tulip-lab/sit742/issues)\n",
        "\n",
        "Prepared by **SIT742 Teaching Team**\n",
        "\n",
        "--- \n",
        "\n",
        "## Session 7A - SparkSQL and Data Understanding \n",
        "---\n",
        "\n",
        "### Table of Content\n",
        "\n",
        "Part A: SparkSQL\n",
        "\n",
        "1. Loading in a DataFrame\n",
        "\n",
        "2. Creating SQLContext\n",
        "\n",
        "3. Creating DataFrame\n",
        "\n",
        "4. Grouping Aggregation\n",
        "\n",
        "5. Running SQL Queries\n",
        "\n",
        "Part B: SparkSQL Application\n",
        "\n",
        "6.  Getting the data and creating the RDD\n",
        "\n",
        "7. Getting a Data Frame\n",
        "\n",
        "8. Queries as DataFrame operations\n",
        "\n",
        "\n",
        "---\n",
        "\n",
        "## Introduction ##\n",
        " \n",
        "This notebook will introduce Spark capabilities to deal with data in a structured way. Basically, everything turns around the concept of *Data Frame* and using *SQL language* to query them. We will see how the data frame abstraction, very popular in other data analytics ecosystems (e.g. R and Python/Pandas), it is very powerfull when performing exploratory data analysis. \n",
        "\n",
        "In fact, it is very easy to express data queries when used together with the SQL language. Moreover, Spark distributes this column-based data structure transparently, in order to make the querying process as efficient as possible.      \n",
        " \n",
        "This lab session will assume that you have uploaded two data files into cloud, and note down the address:\n",
        "- mtcars.csv\n",
        "- kddcup_data_10_percent-d8e1d.gz\n"
      ]
    },
    {
      "metadata": {
        "id": "LtLolzbVY3j9",
        "colab_type": "text"
      },
      "cell_type": "markdown",
      "source": [
        "# Part A: SparkSQL"
      ]
    },
    {
      "metadata": {
        "colab_type": "text",
        "id": "CwTeJHXPh3L2"
      },
      "cell_type": "markdown",
      "source": [
        "### 1.Loading in a DataFrame\n",
        "To create a Spark DataFrame we load an external DataFrame, called `mtcars`. This DataFrame includes 32 observations on 11 variables.\n",
        "\n",
        "[, 1]\tmpg\tMiles/(US) --> gallon  \n",
        "[, 2]\tcyl\t--> Number of cylinders  \n",
        "[, 3]\tdisp\t--> Displacement (cu.in.)  \n",
        "[, 4]\thp -->\tGross horsepower  \n",
        "[, 5]\tdrat -->\tRear axle ratio  \n",
        "[, 6]\twt -->\tWeight (lb/1000)  \n",
        "[, 7]\tqsec -->\t1/4 mile time  \n",
        "[, 8]\tvs -->\tV/S  \n",
        "[, 9]\tam -->\tTransmission (0 = automatic, 1 = manual)  \n",
        "[,10]\tgear -->\tNumber of forward gears  \n",
        "[,11]\tcarb -->\tNumber of carburetors  "
      ]
    },
    {
      "metadata": {
        "colab_type": "code",
        "id": "2IVBZtPYh3L3",
        "colab": {}
      },
      "cell_type": "code",
      "source": [
        "!pip install wget"
      ],
      "execution_count": 0,
      "outputs": []
    },
    {
      "metadata": {
        "colab_type": "code",
        "id": "K4pcGZbRh3L7",
        "colab": {}
      },
      "cell_type": "code",
      "source": [
        "import wget\n",
        "\n",
        "link_to_data = 'https://github.com/tulip-lab/sit742/raw/master/Jupyter/data/mtcars.csv'\n",
        "DataSet = wget.download(link_to_data)"
      ],
      "execution_count": 0,
      "outputs": []
    },
    {
      "metadata": {
        "colab_type": "code",
        "id": "ZgQBUBGmh3L-",
        "colab": {}
      },
      "cell_type": "code",
      "source": [
        "import pandas as pd\n",
        "mtcars = pd.read_csv('mtcars.csv')"
      ],
      "execution_count": 0,
      "outputs": []
    },
    {
      "metadata": {
        "scrolled": true,
        "colab_type": "code",
        "id": "8bn_g86Bh3MA",
        "colab": {}
      },
      "cell_type": "code",
      "source": [
        "mtcars.head()"
      ],
      "execution_count": 0,
      "outputs": []
    },
    {
      "metadata": {
        "colab_type": "text",
        "id": "VLqidgEsh3MC"
      },
      "cell_type": "markdown",
      "source": [
        "### 2.Initialize SQLContext\n",
        "To work with dataframes we need a SQLContext which is created using `SQLContext(sc)`. SQLContext uses SparkContext which was the main entry point for Spark functionality, named `sc`. \n",
        "\n",
        "A SparkContext represents the connection to a Spark cluster, and can be used to create RDDs, accumulators and broadcast variables on that cluster. Only one SparkContext may be active per JVM. You must stop() the active SparkContext before creating a new one."
      ]
    },
    {
      "metadata": {
        "colab_type": "code",
        "id": "hiTfYwOpinyN",
        "colab": {}
      },
      "cell_type": "code",
      "source": [
        "!apt-get install openjdk-8-jdk-headless -qq > /dev/null\n",
        "!wget -q https://archive.apache.org/dist/spark/spark-2.4.0/spark-2.4.0-bin-hadoop2.7.tgz\n",
        "!tar xf spark-2.4.0-bin-hadoop2.7.tgz\n",
        "!pip install -q findspark\n",
        "\n",
        "import os\n",
        "os.environ[\"JAVA_HOME\"] = \"/usr/lib/jvm/java-8-openjdk-amd64\"\n",
        "os.environ[\"SPARK_HOME\"] = \"/content/spark-2.4.0-bin-hadoop2.7\"\n",
        "\n",
        "import findspark\n",
        "findspark.init() "
      ],
      "execution_count": 0,
      "outputs": []
    },
    {
      "metadata": {
        "colab_type": "code",
        "id": "JpFoyri0h3MD",
        "colab": {}
      },
      "cell_type": "code",
      "source": [
        "from pyspark import SparkContext\n",
        "from pyspark.sql import SQLContext\n",
        "\n",
        "#The getOrCreate function for the SparkContext may be used to get or instantiate a SparkContext and register it as a singleton object.\n",
        "sc = SparkContext.getOrCreate()\n",
        "\n",
        "#SQLContext is the entry point for working with structured data (rows and columns) in Spark, in Spark 1.x.\n",
        "#As of Spark 2.0, this is replaced by SparkSession. \n",
        "#However, we are keeping the class here for backward compatibility.\n",
        "#A SQLContext can be used create DataFrame, register DataFrame as tables, execute SQL over tables, cache tables, and read parquet files\n",
        "sqlContext = SQLContext(sc)"
      ],
      "execution_count": 0,
      "outputs": []
    },
    {
      "metadata": {
        "colab_type": "text",
        "id": "doJ6p8Shh3MF"
      },
      "cell_type": "markdown",
      "source": [
        "### 3.Creating Spark DataFrames\n",
        "With SQLContext and a loaded local DataFrame, we create a Spark DataFrame:"
      ]
    },
    {
      "metadata": {
        "colab_type": "code",
        "id": "9ECTDKYTh3MG",
        "colab": {}
      },
      "cell_type": "code",
      "source": [
        "#Creates a DataFrame from an RDD, a list or a pandas.DataFrame\n",
        "sdf = sqlContext.createDataFrame(mtcars) \n",
        "#Prints out the schema in the tree format.\n",
        "sdf.printSchema()"
      ],
      "execution_count": 0,
      "outputs": []
    },
    {
      "metadata": {
        "colab_type": "text",
        "id": "jE7OEjWLh3MH"
      },
      "cell_type": "markdown",
      "source": [
        "You can also directly load this csv file into a Spark DataFrame."
      ]
    },
    {
      "metadata": {
        "colab_type": "code",
        "id": "GN2d6lXBh3MJ",
        "colab": {}
      },
      "cell_type": "code",
      "source": [
        "#Sample 1\n",
        "#Returns a DataFrameReader that can be used to read data in as a DataFrame.\n",
        "sdf2 = sqlContext.read.csv(\"mtcars.csv\")\n",
        "print(sdf2)\n",
        "\n",
        "\n",
        "#Sample 2 to define a specific format\n",
        "#Specifies the input data source format.\n",
        "sdf3=sqlContext.read.format('csv').load('mtcars.csv')\n",
        "print(sdf3)"
      ],
      "execution_count": 0,
      "outputs": []
    },
    {
      "metadata": {
        "colab_type": "text",
        "id": "FB64EqmZh3MK"
      },
      "cell_type": "markdown",
      "source": [
        "#### (3a) Displays the content of the DataFrame \n"
      ]
    },
    {
      "metadata": {
        "scrolled": true,
        "colab_type": "code",
        "id": "-vnHoYeWh3ML",
        "colab": {}
      },
      "cell_type": "code",
      "source": [
        "sdf.show(5)"
      ],
      "execution_count": 0,
      "outputs": []
    },
    {
      "metadata": {
        "colab_type": "text",
        "id": "l5EyxC_8h3MM"
      },
      "cell_type": "markdown",
      "source": [
        "#### (3b) Selecting columns"
      ]
    },
    {
      "metadata": {
        "scrolled": true,
        "colab_type": "code",
        "id": "22cyMzU2h3MN",
        "colab": {}
      },
      "cell_type": "code",
      "source": [
        "sdf.select('mpg').show(5)"
      ],
      "execution_count": 0,
      "outputs": []
    },
    {
      "metadata": {
        "colab_type": "text",
        "id": "kDAw-uUth3MO"
      },
      "cell_type": "markdown",
      "source": [
        "#### (3c)  Filtering Data\n",
        "Filter the DataFrame to only retain rows with `mpg` less than 18"
      ]
    },
    {
      "metadata": {
        "colab_type": "code",
        "id": "uwTmPCmnh3MP",
        "colab": {}
      },
      "cell_type": "code",
      "source": [
        "sdf.filter(sdf['mpg'] < 18).show(5)"
      ],
      "execution_count": 0,
      "outputs": []
    },
    {
      "metadata": {
        "colab_type": "text",
        "id": "D5oJ2FWjh3MR"
      },
      "cell_type": "markdown",
      "source": [
        "#### (3d)  Operating on Columns\n",
        "Spark also provides a number of functions that can directly applied to columns for data processing and aggregation. The example below shows the use of basic arithmetic functions to convert lb to metric ton."
      ]
    },
    {
      "metadata": {
        "colab_type": "code",
        "id": "iEsLIAAvh3MS",
        "colab": {}
      },
      "cell_type": "code",
      "source": [
        "# A new clomun name 'wtTon' is created and its value equals 'wt' * 0.45\n",
        "sdf.withColumn('wtTon', sdf['wt'] * 0.45).show(6)"
      ],
      "execution_count": 0,
      "outputs": []
    },
    {
      "metadata": {
        "colab_type": "code",
        "id": "U7jQbGjah3MU",
        "colab": {}
      },
      "cell_type": "code",
      "source": [
        "sdf.show(6)"
      ],
      "execution_count": 0,
      "outputs": []
    },
    {
      "metadata": {
        "colab_type": "text",
        "id": "sTYersd9h3MW"
      },
      "cell_type": "markdown",
      "source": [
        "###4.Grouping, Aggregation\n",
        "Spark DataFrames support a number of commonly used functions to aggregate data after grouping. For example we can compute the average weight of cars by their cylinders as shown below:"
      ]
    },
    {
      "metadata": {
        "colab_type": "code",
        "id": "jV5KWdv2h3MX",
        "colab": {}
      },
      "cell_type": "code",
      "source": [
        "sdf.groupby(['cyl'])\\\n",
        ".agg({\"wt\": \"AVG\"})\\\n",
        ".show(5)\n",
        "\n",
        "#It also equals the below line:\n",
        "sdf.groupby(['cyl']).agg({\"wt\": \"AVG\"}).show(5)"
      ],
      "execution_count": 0,
      "outputs": []
    },
    {
      "metadata": {
        "colab_type": "code",
        "id": "xRCXT1ykh3Md",
        "colab": {}
      },
      "cell_type": "code",
      "source": [
        "# We can also sort the output from the aggregation to get the most common cars\n",
        "car_counts = sdf.groupby(['cyl'])\\\n",
        ".agg({\"wt\": \"count\"})\\\n",
        ".sort(\"count(wt)\", ascending=False)\\\n",
        ".show(5)"
      ],
      "execution_count": 0,
      "outputs": []
    },
    {
      "metadata": {
        "colab_type": "text",
        "id": "z8T2LxMih3Mg"
      },
      "cell_type": "markdown",
      "source": [
        "### 5.Running SQL Queries from Spark DataFrames\n",
        "A Spark DataFrame can also be registered as a temporary table in Spark SQL and registering a DataFrame as a table allows you to run SQL queries over its data. The `sql` function enables applications to run SQL queries programmatically and returns the result as a DataFrame.\n",
        "\n"
      ]
    },
    {
      "metadata": {
        "colab_type": "code",
        "id": "nS2N_w0ph3Mh",
        "colab": {}
      },
      "cell_type": "code",
      "source": [
        "# Register this DataFrame as a table.\n",
        "sdf.registerTempTable(\"cars\")\n",
        "\n",
        "# SQL statements can be run by using the sql method\n",
        "highgearcars = sqlContext.sql(\"SELECT gear FROM cars WHERE cyl >= 4 AND cyl <= 9\")\n",
        "highgearcars.show(6)\n",
        "    "
      ],
      "execution_count": 0,
      "outputs": []
    },
    {
      "metadata": {
        "colab_type": "text",
        "id": "BUsyGXlYh3Mj"
      },
      "cell_type": "markdown",
      "source": [
        "## Part B: SparkSQL Application"
      ]
    },
    {
      "metadata": {
        "colab_type": "text",
        "id": "3S65v5gsh3Mk"
      },
      "cell_type": "markdown",
      "source": [
        "### 6.Getting the data and creating the RDD"
      ]
    },
    {
      "metadata": {
        "colab_type": "text",
        "id": "yMfA3XGDh3Ml"
      },
      "cell_type": "markdown",
      "source": [
        "As we did in previous notebooks, we will use the reduced dataset (10 percent) provided for the [KDD Cup 1999](http://kdd.ics.uci.edu/databases/kddcup99/kddcup99.html), containing nearly half million nework interactions. The file is provided as a Gzip file that we will download from the GitHub. \n",
        "\n",
        "You can also use the urllib to download the orginal Gzip file as below codes:\n",
        "```\n",
        "import urllib\n",
        "f = urllib.urlretrieve (\"http://kdd.ics.uci.edu/databases/kddcup99/kddcup.data_10_percent.gz\", \"kddcup.data_10_percent.gz\")\n",
        "```"
      ]
    },
    {
      "metadata": {
        "colab_type": "code",
        "id": "OT5mRphWh3Mm",
        "colab": {}
      },
      "cell_type": "code",
      "source": [
        "import wget\n",
        "link_to_data = 'https://github.com/tulip-lab/sit742/blob/master/Jupyter/data/kddcup.data_10_percent.gz?raw=true'\n",
        "DataSet = wget.download(link_to_data, out='kdd.gz')"
      ],
      "execution_count": 0,
      "outputs": []
    },
    {
      "metadata": {
        "colab_type": "code",
        "id": "7TtPuauZh3Mn",
        "colab": {}
      },
      "cell_type": "code",
      "source": [
        "!ls -l\n",
        "!pwd"
      ],
      "execution_count": 0,
      "outputs": []
    },
    {
      "metadata": {
        "colab_type": "code",
        "id": "rGBn15krh3Mp",
        "colab": {}
      },
      "cell_type": "code",
      "source": [
        "data_file = \"kdd.gz\"\n",
        "\n",
        "#textFile is used to read a text file from HDFS, \n",
        "#a local file system (available on all nodes), \n",
        "#or any Hadoop-supported file system URI, and return it as an RDD of Strings.\n",
        "#In here, we assume that the file \"kdd.gz\" haved been in the HDFS\n",
        "raw_data = sc.textFile(data_file).cache()"
      ],
      "execution_count": 0,
      "outputs": []
    },
    {
      "metadata": {
        "colab_type": "text",
        "id": "wBHMNiQfh3Mq"
      },
      "cell_type": "markdown",
      "source": [
        "### 7.Getting a Data Frame"
      ]
    },
    {
      "metadata": {
        "colab_type": "text",
        "id": "M0L5eo9qh3Mr"
      },
      "cell_type": "markdown",
      "source": [
        "A Spark `DataFrame` is a distributed collection of data organized into named columns. It is conceptually equivalent to a table in a relational database or a data frame in R or Pandas. They can be constructed from a wide array of sources such as a existing RDD in our case."
      ]
    },
    {
      "metadata": {
        "colab_type": "text",
        "id": "h7p2cOPXh3Mr"
      },
      "cell_type": "markdown",
      "source": [
        "The entry point into all SQL functionality in Spark is the `SQLContext` class. To create a basic instance, all we need is a `SparkContext` reference. Since we are running Spark in shell mode (using pySpark) we can use the global context object `sc` for this purpose.    "
      ]
    },
    {
      "metadata": {
        "colab_type": "code",
        "id": "e-n3zqZdh3Ms",
        "colab": {}
      },
      "cell_type": "code",
      "source": [
        "from pyspark.sql import SQLContext\n",
        "sqlContext = SQLContext(sc)"
      ],
      "execution_count": 0,
      "outputs": []
    },
    {
      "metadata": {
        "colab_type": "text",
        "id": "38t_qtE5h3Mu"
      },
      "cell_type": "markdown",
      "source": [
        "#### (7a) Inferring the schema"
      ]
    },
    {
      "metadata": {
        "colab_type": "text",
        "id": "HOTn61x2h3Mv"
      },
      "cell_type": "markdown",
      "source": [
        "With a `SQLContext`, we are ready to create a `DataFrame` from our existing RDD. But first we need to tell Spark SQL the schema in our data.   "
      ]
    },
    {
      "metadata": {
        "colab_type": "text",
        "id": "3VLh3U1Xh3Mv"
      },
      "cell_type": "markdown",
      "source": [
        "Spark SQL can convert an RDD of `Row` objects to a `DataFrame`. Rows are constructed by passing a list of key/value pairs as *kwargs* to the `Row` class. The keys define the column names, and the types are inferred by looking at the first row. Therefore, it is important that there is no missing data in the first row of the RDD in order to properly infer the schema."
      ]
    },
    {
      "metadata": {
        "colab_type": "text",
        "id": "us4USMoRh3Mw"
      },
      "cell_type": "markdown",
      "source": [
        "In our case, we first need to split the comma separated data, and then use the information in KDD's 1999 task description to obtain the [column names](http://kdd.ics.uci.edu/databases/kddcup99/kddcup.names).  "
      ]
    },
    {
      "metadata": {
        "colab_type": "code",
        "id": "HQmuTXp_h3Mw",
        "colab": {}
      },
      "cell_type": "code",
      "source": [
        "from pyspark.sql import Row\n",
        "\n",
        "\n",
        "#Map is used to return an iterator that applies function to every item of iterable, yielding the results. \n",
        "#If additional iterable arguments are passed, function must take that many arguments and is applied to the items from all iterables in parallel. \n",
        "#With multiple iterables, the iterator stops when the shortest iterable is exhausted.\n",
        "csv_data = raw_data.map(lambda l: l.split(\",\"))\n",
        "row_data = csv_data.map(lambda p: Row(\n",
        "    duration=int(p[0]), \n",
        "    protocol_type=p[1],\n",
        "    service=p[2],\n",
        "    flag=p[3],\n",
        "    src_bytes=int(p[4]),\n",
        "    dst_bytes=int(p[5])\n",
        "    )\n",
        ")"
      ],
      "execution_count": 0,
      "outputs": []
    },
    {
      "metadata": {
        "colab_type": "code",
        "id": "fh3QDIN7h3My",
        "colab": {}
      },
      "cell_type": "code",
      "source": [
        "help(sqlContext)"
      ],
      "execution_count": 0,
      "outputs": []
    },
    {
      "metadata": {
        "colab_type": "text",
        "id": "ReJOY-xkh3Mz"
      },
      "cell_type": "markdown",
      "source": [
        "Once we have our RDD of `Row` we can infer and register the schema.  "
      ]
    },
    {
      "metadata": {
        "colab_type": "code",
        "id": "lyVjzbF4h3M0",
        "colab": {}
      },
      "cell_type": "code",
      "source": [
        "#Creates a DataFrame from an RDD, a list or a pandas.DataFrame.\n",
        "interactions_df = sqlContext.createDataFrame(row_data)"
      ],
      "execution_count": 0,
      "outputs": []
    },
    {
      "metadata": {
        "colab_type": "code",
        "id": "I-CjscEDh3M1",
        "colab": {}
      },
      "cell_type": "code",
      "source": [
        "#Registers this RDD as a temporary table using the given name.\n",
        "interactions_df.registerTempTable(\"interactions\")"
      ],
      "execution_count": 0,
      "outputs": []
    },
    {
      "metadata": {
        "colab_type": "text",
        "id": "XxoWQb44h3M2"
      },
      "cell_type": "markdown",
      "source": [
        "Now we can run SQL queries over our data frame that has been registered as a table.  "
      ]
    },
    {
      "metadata": {
        "colab_type": "code",
        "id": "Rq2JNE3th3M3",
        "colab": {}
      },
      "cell_type": "code",
      "source": [
        "# Select tcp network interactions with more than 1 second duration and no transfer from destination\n",
        "# The sqlContext is uesd to returns a DataFrame representing the result of the given query.\n",
        "tcp_interactions = sqlContext.sql(\"\"\"\n",
        "    SELECT duration, dst_bytes FROM interactions WHERE protocol_type = 'tcp' AND duration > 1000 AND dst_bytes = 0\n",
        "\"\"\")\n",
        "tcp_interactions.show()"
      ],
      "execution_count": 0,
      "outputs": []
    },
    {
      "metadata": {
        "colab_type": "text",
        "id": "35qDetV_h3M4"
      },
      "cell_type": "markdown",
      "source": [
        "The results of SQL queries are RDDs and support all the normal RDD operations.  "
      ]
    },
    {
      "metadata": {
        "colab_type": "code",
        "id": "YCwynY9Nh3M4",
        "colab": {}
      },
      "cell_type": "code",
      "source": [
        "# Output duration together with dst_bytes\n",
        "# Return a new RDD by applying a function to each element of this RDD.\n",
        "tcp_interactions_out = tcp_interactions.rdd.map(lambda p: \"Duration: {}, Dest. bytes: {}\".format(p.duration, p.dst_bytes))\n",
        "for ti_out in tcp_interactions_out.collect():\n",
        "    print(ti_out)"
      ],
      "execution_count": 0,
      "outputs": []
    },
    {
      "metadata": {
        "colab_type": "text",
        "id": "z1j30aDVh3M6"
      },
      "cell_type": "markdown",
      "source": [
        "We can easily have a look at our data frame schema using `printSchema`.  "
      ]
    },
    {
      "metadata": {
        "colab_type": "code",
        "id": "5G2gKHWsh3M6",
        "colab": {}
      },
      "cell_type": "code",
      "source": [
        "interactions_df.printSchema()"
      ],
      "execution_count": 0,
      "outputs": []
    },
    {
      "metadata": {
        "colab_type": "text",
        "id": "PwyuGRLPh3M8"
      },
      "cell_type": "markdown",
      "source": [
        "### 8.Queries as `DataFrame` operations"
      ]
    },
    {
      "metadata": {
        "colab_type": "text",
        "id": "JRtyQgqdh3M-"
      },
      "cell_type": "markdown",
      "source": [
        "Spark `DataFrame` provides a domain-specific language for structured data manipulation. This language includes methods we can concatenate in order to do selection, filtering, grouping, etc. For example, let's say we want to count how many interactions are there for each protocol type. We can proceed as follows.  "
      ]
    },
    {
      "metadata": {
        "colab_type": "code",
        "id": "PirwiZv4h3M_",
        "colab": {}
      },
      "cell_type": "code",
      "source": [
        "from time import time\n",
        "\n",
        "t0 = time()\n",
        "interactions_df.select(\"protocol_type\", \"duration\", \"dst_bytes\").groupBy(\"protocol_type\").count().show()\n",
        "tt = time() - t0\n",
        "\n",
        "print(\"Query performed in {} seconds\".format(round(tt,3)))"
      ],
      "execution_count": 0,
      "outputs": []
    },
    {
      "metadata": {
        "colab_type": "text",
        "id": "Put6CVcBh3NA"
      },
      "cell_type": "markdown",
      "source": [
        "Now imagine that we want to count how many interactions last more than 1 second, with no data transfer from destination, grouped by protocol type. We can just add to filter calls to the previous.   "
      ]
    },
    {
      "metadata": {
        "colab_type": "code",
        "id": "Mj8HXB-6h3NB",
        "colab": {}
      },
      "cell_type": "code",
      "source": [
        "t0 = time()\n",
        "interactions_df.select(\"protocol_type\", \"duration\", \"dst_bytes\").filter(interactions_df.duration>1000).filter(interactions_df.dst_bytes==0).groupBy(\"protocol_type\").count().show()\n",
        "tt = time() - t0\n",
        "\n",
        "print(\"Query performed in {} seconds\".format(round(tt,3)))"
      ],
      "execution_count": 0,
      "outputs": []
    },
    {
      "metadata": {
        "colab_type": "text",
        "id": "YFdljE5fh3NC"
      },
      "cell_type": "markdown",
      "source": [
        "We can use this to perform some [exploratory data analysis](http://en.wikipedia.org/wiki/Exploratory_data_analysis). Let's count how many attack and normal interactions we have. First we need to add the label column to our data.    "
      ]
    },
    {
      "metadata": {
        "colab_type": "code",
        "id": "bCQx7bX3h3ND",
        "colab": {}
      },
      "cell_type": "code",
      "source": [
        "def get_label_type(label):\n",
        "    if label!=\"normal.\":\n",
        "        return \"attack\"\n",
        "    else:\n",
        "        return \"normal\"\n",
        "    \n",
        "row_labeled_data = csv_data.map(lambda p: Row(\n",
        "    duration=int(p[0]), \n",
        "    protocol_type=p[1],\n",
        "    service=p[2],\n",
        "    flag=p[3],\n",
        "    src_bytes=int(p[4]),\n",
        "    dst_bytes=int(p[5]),\n",
        "    label=get_label_type(p[41])\n",
        "    )\n",
        ")\n",
        "interactions_labeled_df = sqlContext.createDataFrame(row_labeled_data)"
      ],
      "execution_count": 0,
      "outputs": []
    },
    {
      "metadata": {
        "colab_type": "text",
        "id": "VaIxW6znh3NF"
      },
      "cell_type": "markdown",
      "source": [
        "This time we don't need to register the schema since we are going to use the OO query interface.  "
      ]
    },
    {
      "metadata": {
        "colab_type": "text",
        "id": "o_z8_n1Kh3NF"
      },
      "cell_type": "markdown",
      "source": [
        "Let's check the previous actually works by counting attack and normal data in our data frame.  "
      ]
    },
    {
      "metadata": {
        "colab_type": "code",
        "id": "Q31tE2sgh3NF",
        "colab": {}
      },
      "cell_type": "code",
      "source": [
        "t0 = time()\n",
        "interactions_labeled_df.select(\"label\").groupBy(\"label\").count().show()\n",
        "tt = time() - t0\n",
        "\n",
        "print(\"Query performed in {} seconds\".format(round(tt,3)))"
      ],
      "execution_count": 0,
      "outputs": []
    },
    {
      "metadata": {
        "colab_type": "text",
        "id": "-POnaJAUh3NH"
      },
      "cell_type": "markdown",
      "source": [
        "Now we want to count them by label and protocol type, in order to see how important the protocol type is to detect when an interaction is or not an attack.  "
      ]
    },
    {
      "metadata": {
        "colab_type": "code",
        "id": "LfQgEhhvh3NI",
        "colab": {}
      },
      "cell_type": "code",
      "source": [
        "t0 = time()\n",
        "interactions_labeled_df.select(\"label\", \"protocol_type\").groupBy(\"label\", \"protocol_type\").count().show()\n",
        "tt = time() - t0\n",
        "\n",
        "print(\"Query performed in {} seconds\".format(round(tt,3)))"
      ],
      "execution_count": 0,
      "outputs": []
    },
    {
      "metadata": {
        "colab_type": "text",
        "id": "XmryXB3kh3NK"
      },
      "cell_type": "markdown",
      "source": [
        "At first sight it seems that *udp* interactions are in lower proportion between network attacks versus other protocol types.  "
      ]
    },
    {
      "metadata": {
        "colab_type": "text",
        "id": "p8Ub4yuEh3NL"
      },
      "cell_type": "markdown",
      "source": [
        "And we can do much more sofisticated groupings. For example, add to the previous a \"split\" based on data transfer from target.   "
      ]
    },
    {
      "metadata": {
        "colab_type": "code",
        "id": "8u0t0an8h3NL",
        "colab": {}
      },
      "cell_type": "code",
      "source": [
        "t0 = time()\n",
        "interactions_labeled_df.select(\"label\", \"protocol_type\", \"dst_bytes\").groupBy(\"label\", \"protocol_type\", interactions_labeled_df.dst_bytes==0).count().show()\n",
        "tt = time() - t0\n",
        "\n",
        "print(\"Query performed in {} seconds\".format(round(tt,3)))"
      ],
      "execution_count": 0,
      "outputs": []
    },
    {
      "metadata": {
        "colab_type": "text",
        "id": "IIq3qh9zh3NM"
      },
      "cell_type": "markdown",
      "source": [
        "We see how relevant is this new split to determine if a network interaction is an attack.  "
      ]
    },
    {
      "metadata": {
        "colab_type": "text",
        "id": "NCbeFsx5h3NM"
      },
      "cell_type": "markdown",
      "source": [
        "We will stop here, but we can see how powerfull this type of queries are in order to explore our data. Actually we can replicate all the splits we saw in previous notebooks, when introducing classification trees, just by selecting, groping, and filtering our dataframe. For a more detailed (but less real-world) list of Spark's `DataFrame` operations and data sources, have a look at the oficial documentation [here](https://spark.apache.org/docs/latest/sql-programming-guide.html#dataframe-operations).    "
      ]
    }
  ]
}