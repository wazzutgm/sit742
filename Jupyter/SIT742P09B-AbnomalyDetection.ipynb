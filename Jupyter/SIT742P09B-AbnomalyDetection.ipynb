{
  "nbformat": 4,
  "nbformat_minor": 0,
  "metadata": {
    "colab": {
      "name": "SIT742P09B-AbnomalyDetection.ipynb",
      "version": "0.3.2",
      "provenance": [],
      "toc_visible": true
    },
    "language_info": {
      "mimetype": "text/x-python",
      "nbconvert_exporter": "python",
      "version": "3.5.5",
      "name": "python",
      "pygments_lexer": "ipython3",
      "file_extension": ".py",
      "codemirror_mode": {
        "version": 3,
        "name": "ipython"
      }
    },
    "kernelspec": {
      "display_name": "Python 3.5",
      "name": "python3",
      "language": "python"
    }
  },
  "cells": [
    {
      "metadata": {
        "id": "ZhFDcXqpTWj6",
        "colab_type": "text"
      },
      "cell_type": "markdown",
      "source": [
        "# SIT742: Modern Data Science \n",
        "**(Week 09: Data Analytics (II))**\n",
        "\n",
        "---\n",
        "- Materials in this module include resources collected from various open-source online repositories.\n",
        "- You are free to use, change and distribute this package.\n",
        "- If you found any issue/bug for this document, please submit an issue at [tulip-lab/sit742](https://github.com/tulip-lab/sit742/issues)\n",
        "\n",
        "Prepared by **SIT742 Teaching Team**\n",
        "\n",
        "---\n",
        "\n",
        "## Session 9B - Abnormality Analytics\n",
        "\n",
        "**The purpose of this session is to demonstrate:**\n",
        "\n",
        "1. To understand characteristics of data in anomaly and novel detection problems\n",
        "2. How to implement standard anomaly and novel detection algorithms \n",
        "\n",
        "** References and additional reading and resources**\n",
        "- [Novelty and outlier detection with scikit-learn](http://scikit-learn.org/stable/modules/outlier_detection.html)\n",
        "\n",
        "---\n",
        "\n"
      ]
    },
    {
      "metadata": {
        "id": "AQhUHNi_TWj8",
        "colab_type": "text"
      },
      "cell_type": "markdown",
      "source": [
        " # 1.Challenges with anomaly and novel detection datasets"
      ]
    },
    {
      "metadata": {
        "id": "a4BVWBwuTWj9",
        "colab_type": "text"
      },
      "cell_type": "markdown",
      "source": [
        "When dealing with anomaly and novel detection problems, you usually encounter the following challenges:\n",
        "1. High dimensional data which contains a relatively large number of attributes. It is not possible to plot data points for getting the sense of data.\n",
        "2. Imbalanced data whose class distribution is not (approximately) equal between two classes: normal and abnormal. For example, in the application of credit card fraud detection, the number of fraud transactions usually covers only 5% to 10% of entire datasets. Therefore, the standard classification algorithms are usually failed to apply into anomaly and novel detection problems.\n",
        "\n",
        "In this section, you would have a chance to explore the following datasets\n",
        "- [EMNIST Dataset](https://www.nist.gov/itl/iad/image-group/emnist-dataset) is a set of handwritten digits and characters, each of which is a 28x28 pixel image. In this practical application, we subsample about 10% of characters which are considered as abnormal data points. The digits are treated as normal data. You can think of a real-world application of this dataset as a handwritten form recognition for detecting phone numbers. \n",
        "\n",
        "You can learn the different characteristics of these datasets in the following codes."
      ]
    },
    {
      "metadata": {
        "id": "3TCimLpsTWj-",
        "colab_type": "text"
      },
      "cell_type": "markdown",
      "source": [
        "#  2.Anomaly Detection Dataset: EMNIST"
      ]
    },
    {
      "metadata": {
        "id": "ZorGsSuiTWj_",
        "colab_type": "text"
      },
      "cell_type": "markdown",
      "source": [
        " *__EMNIST__* dataset contains many of digit images and a few of non-digit images. Our aim is to train a model using this dataset to detect non-digit images. We can apply this model to build a machine to verify a valid phone number written by hand. You now can load EMNIST data (in csv format) and view data properties using the following code. The first column represents labels of data instances. The rest are feature vectors of data instances.\n",
        "\n",
        "Now you can load data and get some basic information of dataset using <code>info()</code> function."
      ]
    },
    {
      "metadata": {
        "id": "TLoQ63lRTWj_",
        "colab_type": "code",
        "colab": {}
      },
      "cell_type": "code",
      "source": [
        "!ls"
      ],
      "execution_count": 0,
      "outputs": []
    },
    {
      "metadata": {
        "id": "0QpyzmknTWkD",
        "colab_type": "code",
        "colab": {}
      },
      "cell_type": "code",
      "source": [
        "!pip install wget\n",
        "import wget\n",
        "    \n",
        "link_to_data = 'https://github.com/tulip-lab/sit742/blob/master/Jupyter/data/emnist.digits_letters.small.csv?raw=true'\n",
        "DataSet = wget.download(link_to_data) "
      ],
      "execution_count": 0,
      "outputs": []
    },
    {
      "metadata": {
        "id": "S-DUi8ERTWkF",
        "colab_type": "code",
        "colab": {}
      },
      "cell_type": "code",
      "source": [
        "import numpy as np\n",
        "import pandas as pd\n",
        "df = pd.read_csv('emnist.digits_letters.small.csv',index_col=0)\n",
        "df.info()"
      ],
      "execution_count": 0,
      "outputs": []
    },
    {
      "metadata": {
        "id": "5451i9voTWkK",
        "colab_type": "code",
        "colab": {}
      },
      "cell_type": "code",
      "source": [
        "df = df.sort_values(['0'])  # for further visualization"
      ],
      "execution_count": 0,
      "outputs": []
    },
    {
      "metadata": {
        "id": "5oiYBQURTWkP",
        "colab_type": "text"
      },
      "cell_type": "markdown",
      "source": [
        "You can also have a look at the top five rows using the DataFrame’s <code>head()</code> method."
      ]
    },
    {
      "metadata": {
        "id": "RbwLMoukTWkQ",
        "colab_type": "code",
        "colab": {}
      },
      "cell_type": "code",
      "source": [
        "df.head()"
      ],
      "execution_count": 0,
      "outputs": []
    },
    {
      "metadata": {
        "id": "lD5AZJT0TWkT",
        "colab_type": "text"
      },
      "cell_type": "markdown",
      "source": [
        "For using *numpy* array methods, you can convert the data frame *df* to a numpy array object *data_array*."
      ]
    },
    {
      "metadata": {
        "id": "ptXaw5v2TWkU",
        "colab_type": "code",
        "colab": {}
      },
      "cell_type": "code",
      "source": [
        "data_array = df.as_matrix()\n",
        "x = data_array[:,1:]\n",
        "y = data_array[:,0]\n",
        "\n",
        "num_samples = x.shape[0]\n",
        "\n",
        "print(\"Feature matrix for the first 5 images\\n {}\".format(x[:5,:]))\n",
        "print(\"\\nLabels for the first 5 images\\n {}\".format(y[:5]))\n",
        "\n",
        "print(\"\\nNumber of samples: {}\".format(num_samples))"
      ],
      "execution_count": 0,
      "outputs": []
    },
    {
      "metadata": {
        "id": "bcY3GGVeTWkW",
        "colab_type": "text"
      },
      "cell_type": "markdown",
      "source": [
        "Since the dataset contains images, you can sample and plot some digits images (labeled as 1) in the dataset. Note that you need to reshape to a matrix before using imshow to view this image because the feature vector is flattened in 1D."
      ]
    },
    {
      "metadata": {
        "id": "E7ZaNy88TWkX",
        "colab_type": "code",
        "colab": {}
      },
      "cell_type": "code",
      "source": [
        "%pylab inline\n",
        "pylab.rcParams['figure.figsize'] = (10, 6)                         # configure the size of images\n",
        "\n",
        "import matplotlib.pyplot as plt \n",
        "num_subplots = 5                                                           # the number of images plotted\n",
        "fig, ax = plt.subplots(1,num_subplots)\n",
        "for idx in range(num_subplots):\n",
        "    n = np.random.randint(np.sum(y < 0), len(y))           # randomly choose an image index\n",
        "    img1 = x[n,:].reshape((28,28)).T                                 # reshape the vector into the image size 28x28\n",
        "    ax[idx].imshow(img1, cmap = plt.get_cmap('gray')) # show the selected image\n",
        "plt.show()"
      ],
      "execution_count": 0,
      "outputs": []
    },
    {
      "metadata": {
        "id": "kNbYdhzqTWkZ",
        "colab_type": "text"
      },
      "cell_type": "markdown",
      "source": [
        "Similarly, you can sample and plot some non-digit images in the dataset."
      ]
    },
    {
      "metadata": {
        "id": "eU0JsLvjTWka",
        "colab_type": "code",
        "colab": {}
      },
      "cell_type": "code",
      "source": [
        "%pylab inline\n",
        "pylab.rcParams['figure.figsize'] = (10, 6)\n",
        "\n",
        "import matplotlib.pyplot as plt\n",
        "num_subplots = 5\n",
        "fig, ax = plt.subplots(1,num_subplots)                            # the number of images plotted\n",
        "for idx in range(5):\n",
        "    n = np.random.randint(0, np.sum(y < 0))                    # randomly choose an image index\n",
        "    img1 = x[n,:].reshape((28,28)).T                                   # reshape the vector into the image size 28x28\n",
        "    ax[idx].imshow(img1, cmap = plt.get_cmap('gray'))   # show the selected image\n",
        "plt.show()"
      ],
      "execution_count": 0,
      "outputs": []
    },
    {
      "metadata": {
        "id": "4tgqHVo8TWkc",
        "colab_type": "text"
      },
      "cell_type": "markdown",
      "source": [
        "## 2.1.Dataset Statistics"
      ]
    },
    {
      "metadata": {
        "id": "P-ARCvrqTWkc",
        "colab_type": "text"
      },
      "cell_type": "markdown",
      "source": [
        "First, we examine the ratio between normal data (labeled as **'1'**) and abnormal data (labeled as **'-1'**). Intuitively, we can see it is an imbalanced dataset."
      ]
    },
    {
      "metadata": {
        "id": "mVrGv5jLTWkd",
        "colab_type": "code",
        "colab": {}
      },
      "cell_type": "code",
      "source": [
        "import matplotlib.pyplot as plt\n",
        "(counts, _) = np.histogram(y,2)\n",
        "fig = plt.figure()\n",
        "ax = fig.add_subplot(111)\n",
        "ax.bar([0,1], counts)\n",
        "classlabels=[\"abnormal\",\"normal\"]\n",
        "\n",
        "rects =ax.patches\n",
        "\n",
        "# Now make labels of percentage\n",
        "labels = ['{:.3f}%'.format(i*100) for i in counts/np.sum(counts)]\n",
        "for rect, label in zip(rects, labels):\n",
        "    height = rect.get_height()\n",
        "#     plt.text(1, 173 , \"dadad\")\n",
        "    ax.text(rect.get_x() + rect.get_width()/2, height + 2, label, ha='center', va='bottom')\n",
        "\n",
        "plt.ylabel(\"Count\")\n",
        "plt.xticks(np.arange(2),classlabels)\n",
        "plt.show()"
      ],
      "execution_count": 0,
      "outputs": []
    },
    {
      "metadata": {
        "id": "27CYD91kTWkf",
        "colab_type": "text"
      },
      "cell_type": "markdown",
      "source": [
        "You also visualize data in 2D using PCA approach. In particular, You project it in the first two principal components space and plot it using scatter function."
      ]
    },
    {
      "metadata": {
        "id": "Yl0wySF3TWkg",
        "colab_type": "code",
        "colab": {}
      },
      "cell_type": "code",
      "source": [
        "from sklearn.decomposition import PCA\n",
        "\n",
        "x_reduced = PCA(n_components=2).fit_transform(x) # reduce data dimension to 2\n",
        "\n",
        "plt.figure(2, figsize=(8, 6))\n",
        "plt.scatter(x_reduced[:, 0], x_reduced[:, 1], c=y, cmap='PiYG')  # plot 2-d data where each data point is decorated with its label.\n",
        "plt.show()"
      ],
      "execution_count": 0,
      "outputs": []
    },
    {
      "metadata": {
        "id": "pvIi-P1VTWki",
        "colab_type": "text"
      },
      "cell_type": "markdown",
      "source": [
        "# 3.Anomaly Detection Systems using Classifier"
      ]
    },
    {
      "metadata": {
        "id": "9089XFHTTWkj",
        "colab_type": "text"
      },
      "cell_type": "markdown",
      "source": [
        "The dataset is provided with labels, each of which is categorical data. Therefore, we can apply classification algorithms to learn and predict. We can use *Logistic Regression* and *Naive Bayes* models for our systems. We can report the performance of chosen method in terms of *accuracy, precision, recall, and F-measure*."
      ]
    },
    {
      "metadata": {
        "scrolled": false,
        "id": "NTKKmNRbTWkk",
        "colab_type": "code",
        "colab": {}
      },
      "cell_type": "code",
      "source": [
        "from sklearn import decomposition\n",
        "pca = decomposition.PCA(n_components=100)\n",
        "pca_X = pca.fit_transform(x)\n",
        "\n",
        "\n",
        "from sklearn.model_selection import train_test_split\n",
        "from sklearn.linear_model import LogisticRegression\n",
        "\n",
        "\n",
        "from sklearn.metrics import accuracy_score\n",
        "from sklearn.metrics import precision_score\n",
        "from sklearn.metrics import recall_score\n",
        "from sklearn.metrics import f1_score\n",
        "\n",
        "X_train, X_test, y_train, y_test = train_test_split(pca_X, y, test_size = 0.3, random_state=2)\n",
        "logistic = LogisticRegression()\n",
        "logistic.fit(X_train, y_train)\n",
        "\n",
        "y_prediction=logistic.predict(X_test )\n",
        "\n",
        "rec=recall_score(y_test,y_prediction, average='macro')\n",
        "pre=precision_score(y_test,y_prediction, average='macro')\n",
        "acc=accuracy_score(y_test,y_prediction)\n",
        "f1=f1_score(y_test,y_prediction, average='macro')\n",
        "print(\"\\t\\t\\tAccuracy\\tPrecision\\tRecall\\t\\tF-measure\")\n",
        "print(\"Logistic Regression\\t{:f}\\t{:f}\\t{:f}\\t{:f}\".format(acc,pre,rec,f1))\n",
        "\n",
        "\n",
        "\n",
        "from sklearn.naive_bayes import GaussianNB\n",
        "\n",
        "model=GaussianNB()\n",
        "model.fit( X_train, y_train )\n",
        "y_prediction = model.predict( X_test )\n",
        "\n",
        "rec=recall_score(y_test,y_prediction, average='macro')\n",
        "pre=precision_score(y_test,y_prediction, average='macro')\n",
        "acc=accuracy_score(y_test,y_prediction)\n",
        "f1=f1_score(y_test,y_prediction, average='macro')\n",
        "print(\"Naive Bayes\\t\\t{:f}\\t{:f}\\t{:f}\\t{:f}\".format(acc,pre,rec,f1))\n",
        "\n"
      ],
      "execution_count": 0,
      "outputs": []
    },
    {
      "metadata": {
        "id": "R3lfi8jeTWko",
        "colab_type": "text"
      },
      "cell_type": "markdown",
      "source": [
        "We can observe that the accuracy is always high in this problem since the nature of data. If we choose all data point as normal, the accuracy now is the proportion of normal class, ~ 91%., similar to Naive Bayes classifier. However, the other metrics are not good. We need a class of better algorithms to deal with imbalanced data in anomaly detection problems.\n",
        "In week 3 and 4, we present three algorithms designed to cope with this problem:\n",
        "- Two distance-based approaches: $DB(p,d)$ and $DB(k,N)$\n",
        "- PCA-based approach.\n",
        "\n",
        "In the following section, we introduce you two distance-based approaches: $DB(p,d)$ and $DB(k,N)$."
      ]
    },
    {
      "metadata": {
        "id": "LdYp2AepTWkp",
        "colab_type": "text"
      },
      "cell_type": "markdown",
      "source": [
        "# 4.Anomaly Detection Systems with Specialized Design Algorithms"
      ]
    },
    {
      "metadata": {
        "id": "jSEUKPcOTWkq",
        "colab_type": "text"
      },
      "cell_type": "markdown",
      "source": [
        "## 4.1.Distance-based approaches"
      ]
    },
    {
      "metadata": {
        "id": "GOH8nLlgTWkr",
        "colab_type": "text"
      },
      "cell_type": "markdown",
      "source": [
        "### 4.1.1.$DB(p,d)$ algorithm "
      ]
    },
    {
      "metadata": {
        "id": "KNy3cKLaTWks",
        "colab_type": "text"
      },
      "cell_type": "markdown",
      "source": [
        "In  $DB(p,d)$  algorithm, an object  $o$  is an anomaly if at least a fraction  $p$  of objects in dataset has distances greater than  $d$  from  oo."
      ]
    },
    {
      "metadata": {
        "id": "1YP1B8UBTWkv",
        "colab_type": "code",
        "colab": {}
      },
      "cell_type": "code",
      "source": [
        "import numpy as np\n",
        "import pandas as pd\n",
        "from sklearn.metrics.pairwise import pairwise_distances\n",
        "from sklearn import metrics\n"
      ],
      "execution_count": 0,
      "outputs": []
    },
    {
      "metadata": {
        "id": "tSlvJPzyTWky",
        "colab_type": "text"
      },
      "cell_type": "markdown",
      "source": [
        "Then, we calculate distance matrix."
      ]
    },
    {
      "metadata": {
        "id": "fwEkMKzYTWkz",
        "colab_type": "code",
        "colab": {}
      },
      "cell_type": "code",
      "source": [
        "# calculate distance matrix\n",
        "dist_matrix = pairwise_distances(x, metric='euclidean')\n",
        "np.max(dist_matrix)"
      ],
      "execution_count": 0,
      "outputs": []
    },
    {
      "metadata": {
        "id": "vEbtieXpTWk1",
        "colab_type": "text"
      },
      "cell_type": "markdown",
      "source": [
        "Now, we need to set model hyper-parameters   $d$  and  $p$ and compute the proportion of objects in dataset have distances greater than $d$ from a given data point. If it is greater than $p$, we mark it as an anomaly."
      ]
    },
    {
      "metadata": {
        "id": "f6bbgl2WTWk2",
        "colab_type": "code",
        "colab": {}
      },
      "cell_type": "code",
      "source": [
        "# set model hyper-parameters\n",
        "d = 74.0\n",
        "p = 0.009\n",
        "\n",
        "dist_matrix_greater_d = dist_matrix > d\n",
        "sum_dist_matrix_greater_d = np.sum(dist_matrix_greater_d, axis=1)\n",
        "percent_greater_d = sum_dist_matrix_greater_d / (num_samples - 1)\n",
        "\n",
        "y_predict = np.ones(num_samples)\n",
        "y_predict[percent_greater_d > p] = -1"
      ],
      "execution_count": 0,
      "outputs": []
    },
    {
      "metadata": {
        "id": "V1_o29ogTWk7",
        "colab_type": "text"
      },
      "cell_type": "markdown",
      "source": [
        "It is used as anomaly score. The higher anomaly score is, the most likely it is an anomaly."
      ]
    },
    {
      "metadata": {
        "id": "5vyayUOYTWk8",
        "colab_type": "code",
        "colab": {}
      },
      "cell_type": "code",
      "source": [
        "import matplotlib.pyplot as plt\n",
        "\n",
        "plt.figure(2, figsize=(12, 8))\n",
        "\n",
        "data_idx = np.arange(num_samples)\n",
        "idx_anomaly = data_idx[percent_greater_d > p]\n",
        "\n",
        "plt.scatter(data_idx, sum_dist_matrix_greater_d,s=3)\n",
        "plt.scatter(data_idx[percent_greater_d > p], sum_dist_matrix_greater_d[percent_greater_d > p],s=3)\n",
        "threshold_line = np.ones(num_samples) * np.min(sum_dist_matrix_greater_d[idx_anomaly])\n",
        "plt.plot(data_idx, threshold_line, color='green', linewidth=1.5)\n",
        "plt.yscale('log')\n",
        "plt.show()"
      ],
      "execution_count": 0,
      "outputs": []
    },
    {
      "metadata": {
        "id": "zj4yXE6rTWk-",
        "colab_type": "code",
        "colab": {}
      },
      "cell_type": "code",
      "source": [
        "print('Classification results:')\n",
        "print(metrics.classification_report(y, y_predict))\n",
        "\n",
        "confusion_mat = metrics.confusion_matrix(y, y_predict, [1, -1])\n",
        "print('Confusion matrix')\n",
        "df_confusion = pd.DataFrame(confusion_mat, columns=['Prediction Positive ','Prediction Negative'])\n",
        "df_confusion.index = ['Original Positive','Original Negative']\n",
        "df_confusion"
      ],
      "execution_count": 0,
      "outputs": []
    },
    {
      "metadata": {
        "id": "5kEyHeo6TWlA",
        "colab_type": "text"
      },
      "cell_type": "markdown",
      "source": [
        "### 4.1.2. $DB(k,N)$ algorithm "
      ]
    },
    {
      "metadata": {
        "id": "VWF1dKKzTWlA",
        "colab_type": "text"
      },
      "cell_type": "markdown",
      "source": [
        "\n",
        "Now, we implement $DB(k,N)$ algorithm. \n",
        " - **Input**: $k$ (the number of nearest neighbours), $N$ (the number of anomalies) and the dataset\n",
        " - **Output**: anomalies in the dataset\n",
        " \n",
        "First, we load dataset."
      ]
    },
    {
      "metadata": {
        "id": "DQLK34bYTWlB",
        "colab_type": "code",
        "colab": {}
      },
      "cell_type": "code",
      "source": [
        "import numpy as np\n",
        "import pandas as pd\n",
        "from sklearn.neighbors import NearestNeighbors\n",
        "from sklearn import metrics\n",
        "\n",
        "# load data\n",
        "df = pd.read_csv('emnist.digits_letters.small.csv',index_col=0)\n",
        "data_array = df.as_matrix()\n",
        "x = data_array[:,1:]\n",
        "\n",
        "num_samples = x.shape[0]\n",
        "print('Number of samples:', num_samples)"
      ],
      "execution_count": 0,
      "outputs": []
    },
    {
      "metadata": {
        "id": "QTXWIi_sTWlD",
        "colab_type": "text"
      },
      "cell_type": "markdown",
      "source": [
        "In  $DB(k,N)$ algorithm, an object  oo  is an anomaly if it is in top  $N$  data instances whose distances to its  $k$  nearest neighbours are largest. Now, we need to set model hyper-parameters  $k$  and  $N$. Then for each data instance, we find $k$ nearest neighbours."
      ]
    },
    {
      "metadata": {
        "id": "_97YSRbiTWlD",
        "colab_type": "code",
        "colab": {}
      },
      "cell_type": "code",
      "source": [
        "# set model hyper-parameters\n",
        "k = 10\n",
        "N = 50\n",
        "# find k-NN\n",
        "nbrs = NearestNeighbors(n_neighbors=k+1, algorithm='ball_tree').fit(x)\n",
        "distances, indices = nbrs.kneighbors(x)\n",
        "avg_distances = np.average(distances, axis=1)"
      ],
      "execution_count": 0,
      "outputs": []
    },
    {
      "metadata": {
        "id": "5h6aLxdHTWlG",
        "colab_type": "text"
      },
      "cell_type": "markdown",
      "source": [
        "It is used as anomaly score. The higher anomaly score is, the most likely it is an anomaly. We mark top $N$ data instance that have the largest distance to $k$ nearest neighbours."
      ]
    },
    {
      "metadata": {
        "id": "kcVefmJdTWlG",
        "colab_type": "code",
        "colab": {}
      },
      "cell_type": "code",
      "source": [
        "# get top N far from neighbours\n",
        "plt.figure(2, figsize=(12, 8))\n",
        "\n",
        "idx_anomaly = avg_distances.argsort()[-N:][::-1]\n",
        "plt.scatter(np.arange(num_samples),avg_distances,s=3)\n",
        "plt.scatter(idx_anomaly,avg_distances[idx_anomaly],color='red',s=3)\n",
        "threshold_line = np.ones(num_samples) * np.min(avg_distances[idx_anomaly])\n",
        "plt.plot(np.arange(num_samples), threshold_line, color='green',linewidth=1)\n",
        "plt.show()"
      ],
      "execution_count": 0,
      "outputs": []
    },
    {
      "metadata": {
        "id": "moQIaIm7TWlJ",
        "colab_type": "text"
      },
      "cell_type": "markdown",
      "source": [
        "Finally, we report the prediction performance."
      ]
    },
    {
      "metadata": {
        "scrolled": true,
        "id": "Z9vOC2SuTWlK",
        "colab_type": "code",
        "colab": {}
      },
      "cell_type": "code",
      "source": [
        "y_predict = np.ones(num_samples)\n",
        "y_predict[idx_anomaly] = -1\n",
        "print('Classification results:')\n",
        "print(metrics.classification_report(y, y_predict))\n",
        "\n",
        "confusion_mat = metrics.confusion_matrix(y, y_predict, [1, -1])\n",
        "print('Confusion matrix')\n",
        "df_confusion = pd.DataFrame(confusion_mat, columns=['Prediction Positive ','Prediction Negative'])\n",
        "df_confusion.index = ['Original Positive','Original Negative']\n",
        "df_confusion"
      ],
      "execution_count": 0,
      "outputs": []
    },
    {
      "metadata": {
        "id": "UF3kQN77TWlM",
        "colab_type": "text"
      },
      "cell_type": "markdown",
      "source": [
        "We also have a ROC plot."
      ]
    },
    {
      "metadata": {
        "scrolled": false,
        "id": "zVodNtk_TWlM",
        "colab_type": "code",
        "colab": {}
      },
      "cell_type": "code",
      "source": [
        "from sklearn import metrics\n",
        "FPR, TPR, _ = metrics.roc_curve(y, avg_distances, pos_label=[1])\n",
        "plt.plot(TPR,FPR)\n",
        "plt.show()"
      ],
      "execution_count": 0,
      "outputs": []
    },
    {
      "metadata": {
        "id": "2B9kbyjOTWlO",
        "colab_type": "text"
      },
      "cell_type": "markdown",
      "source": [
        "# 5.Practical Coding Exercises\n",
        "\n",
        "1. In section 3, can you report the performance for some other classification algorithms such as [K-NN](http://scikit-learn.org/stable/modules/generated/sklearn.neighbors.KNeighborsClassifier.html) and [Decision Tree Classifier](http://scikit-learn.org/stable/modules/generated/sklearn.tree.DecisionTreeClassifier.html) ?\n",
        "2. You can try to vary $d$ and $p$ values in $DP(d,p)$ algorithm and $k$ and $N$ values for $DP(k,N)$ algorithm and report the best values for each algorithm in terms of F-measure.\n",
        "3. We provide you a subset of [Statlog (German Credit Data) Data Set](https://archive.ics.uci.edu/ml/datasets/Statlog+(German+Credit+Data)) in **german.csv**. You can try to understand the data statistics and use distance-based anomaly detection in Section 2 to 4 and report the results."
      ]
    }
  ]
}