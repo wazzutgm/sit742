{
  "nbformat": 4,
  "nbformat_minor": 0,
  "metadata": {
    "colab": {
      "name": "SIT742P02C-OperationsinPandas.ipynb",
      "version": "0.3.2",
      "provenance": [],
      "collapsed_sections": [],
      "toc_visible": true
    },
    "kernelspec": {
      "display_name": "Python 3.5",
      "name": "python3",
      "language": "python"
    }
  },
  "cells": [
    {
      "metadata": {
        "id": "AnDLLTlAVp98",
        "colab_type": "text"
      },
      "cell_type": "markdown",
      "source": [
        "# SIT742: Modern Data Science \n",
        "**(Week 02: A Touch of Data Science)**\n",
        "\n",
        "---\n",
        "- Materials in this module include resources collected from various open-source online repositories.\n",
        "- You are free to use, change and distribute this package.\n",
        "- If you found any issue/bug for this document, please submit an issue at [tulip-lab/sit742](https://github.com/tulip-lab/sit742/issues)\n",
        "\n",
        "Prepared by **SIT742 Teaching Team**\n",
        "\n",
        "---\n",
        "\n",
        "\n",
        "\n",
        "# Session 2C - Operations in Pandas"
      ]
    },
    {
      "metadata": {
        "id": "6y00ux36Vp-G",
        "colab_type": "text"
      },
      "cell_type": "markdown",
      "source": [
        "# Pandas\n",
        "\n",
        "Credits: The following are notes taken while working through [Python for Data Analysis](http://www.amazon.com/Python-Data-Analysis-Wrangling-IPython/dp/1449319793) by Wes McKinney\n",
        "\n",
        "\n",
        "\n",
        "Pandas is a strange name, kind of an acronym: Python, Numerical, Data Analysis?\n",
        "(or so I thought, seems the name comes from Panel Data, either way, nothing to do with Chinese bamboo chewing bears)\n",
        "Because pandas is an external library you need to import it. There are several ways that you will see imports done:\n",
        "* import pandas\n",
        "* from pandas import tools\n",
        "* import pandas as pd\n",
        "\n",
        "## Table of Content\n",
        "\n",
        "1. Series\n",
        "2. DataFrame\n",
        "3. Reindexing\n",
        "1. Dropping Entries\n",
        "1. Indexing, Selecting, Filtering\n",
        "1. Arithmetic and Data Alignment\n",
        "1. Function Application and Mapping\n",
        "1. Sorting and Ranking\n",
        "1. Axis Indices with Duplicate Values\n",
        "1. Summarizing and Computing Descriptive Statistics\n",
        "1. Cleaning Data \n",
        "1. Input and Output  "
      ]
    },
    {
      "metadata": {
        "id": "-XdOTaSAVp-K",
        "colab_type": "code",
        "colab": {}
      },
      "cell_type": "code",
      "source": [
        "#You can review week 1 lab materials to recall what is Module ? and how to import a Module? \n",
        "from pandas import Series, DataFrame\n",
        "import pandas as pd\n",
        "import numpy as np"
      ],
      "execution_count": 0,
      "outputs": []
    },
    {
      "metadata": {
        "id": "TBOp1orOVp-X",
        "colab_type": "text"
      },
      "cell_type": "markdown",
      "source": [
        "## 1. Series\n",
        "\n",
        "A Series is a one-dimensional array-like object containing an array of data and an associated array of data labels.  The data can be any NumPy data type and the labels are the Series' index."
      ]
    },
    {
      "metadata": {
        "id": "_pwF5TWHVp-a",
        "colab_type": "text"
      },
      "cell_type": "markdown",
      "source": [
        "Create a Series:"
      ]
    },
    {
      "metadata": {
        "id": "3TcFNhwuVp-c",
        "colab_type": "code",
        "colab": {}
      },
      "cell_type": "code",
      "source": [
        "ser_1 = Series([1, 1, 2, -3, -5, 8, 13])\n",
        "ser_1"
      ],
      "execution_count": 0,
      "outputs": []
    },
    {
      "metadata": {
        "id": "lOSv3qBHVp-m",
        "colab_type": "text"
      },
      "cell_type": "markdown",
      "source": [
        "Get the array representation of a Series:"
      ]
    },
    {
      "metadata": {
        "id": "l5DE_8trVp-p",
        "colab_type": "code",
        "colab": {}
      },
      "cell_type": "code",
      "source": [
        "ser_1.values"
      ],
      "execution_count": 0,
      "outputs": []
    },
    {
      "metadata": {
        "id": "JCxtRtH0Vp-y",
        "colab_type": "text"
      },
      "cell_type": "markdown",
      "source": [
        "Index objects are immutable and hold the axis labels and metadata such as names and axis names.\n",
        "\n",
        "Get the index of the Series:"
      ]
    },
    {
      "metadata": {
        "id": "36YpUAW3Vp-1",
        "colab_type": "code",
        "colab": {}
      },
      "cell_type": "code",
      "source": [
        "ser_1.index"
      ],
      "execution_count": 0,
      "outputs": []
    },
    {
      "metadata": {
        "id": "B3osaFY7Vp--",
        "colab_type": "text"
      },
      "cell_type": "markdown",
      "source": [
        "Create a Series with a custom index:"
      ]
    },
    {
      "metadata": {
        "id": "sJwZEpqgVp_C",
        "colab_type": "code",
        "colab": {}
      },
      "cell_type": "code",
      "source": [
        "ser_2 = Series([1, 1, 2, -3, -5], index=['a', 'b', 'c', 'd', 'e'])\n",
        "ser_2"
      ],
      "execution_count": 0,
      "outputs": []
    },
    {
      "metadata": {
        "id": "DVmNWyMqVp_L",
        "colab_type": "text"
      },
      "cell_type": "markdown",
      "source": [
        "Get a value from a Series:"
      ]
    },
    {
      "metadata": {
        "id": "dIG2FbueVp_P",
        "colab_type": "code",
        "colab": {}
      },
      "cell_type": "code",
      "source": [
        "ser_2[4] == ser_2['e']"
      ],
      "execution_count": 0,
      "outputs": []
    },
    {
      "metadata": {
        "id": "KQpUj2qPVp_a",
        "colab_type": "text"
      },
      "cell_type": "markdown",
      "source": [
        "Get a set of values from a Series by passing in a list:"
      ]
    },
    {
      "metadata": {
        "id": "PxWldE0pVp_e",
        "colab_type": "code",
        "colab": {}
      },
      "cell_type": "code",
      "source": [
        "ser_2[['c', 'a', 'b']]"
      ],
      "execution_count": 0,
      "outputs": []
    },
    {
      "metadata": {
        "id": "ktiZh9Z9Vp_r",
        "colab_type": "text"
      },
      "cell_type": "markdown",
      "source": [
        "Get values great than 0:"
      ]
    },
    {
      "metadata": {
        "id": "X50SBkYeVp_x",
        "colab_type": "code",
        "colab": {}
      },
      "cell_type": "code",
      "source": [
        "ser_2[ser_2 > 0]"
      ],
      "execution_count": 0,
      "outputs": []
    },
    {
      "metadata": {
        "id": "2rtn6AO6Vp_7",
        "colab_type": "text"
      },
      "cell_type": "markdown",
      "source": [
        "Scalar multiply:"
      ]
    },
    {
      "metadata": {
        "id": "l4LtS-YDVp_-",
        "colab_type": "code",
        "colab": {}
      },
      "cell_type": "code",
      "source": [
        "ser_2 * 2"
      ],
      "execution_count": 0,
      "outputs": []
    },
    {
      "metadata": {
        "id": "1CiehcB4VqAH",
        "colab_type": "text"
      },
      "cell_type": "markdown",
      "source": [
        "Apply a numpy math function:"
      ]
    },
    {
      "metadata": {
        "id": "ZveZARxpVqAJ",
        "colab_type": "code",
        "colab": {}
      },
      "cell_type": "code",
      "source": [
        "import numpy as np\n",
        "#The np.exp() is used to calculate the exponential of all elements in the input array\n",
        "np.exp(ser_2)"
      ],
      "execution_count": 0,
      "outputs": []
    },
    {
      "metadata": {
        "id": "5HKLlcqNVqAR",
        "colab_type": "text"
      },
      "cell_type": "markdown",
      "source": [
        "A Series is like a fixed-length, ordered dict.  \n",
        "\n",
        "Create a series by passing in a dict:"
      ]
    },
    {
      "metadata": {
        "id": "UOqi_C0tVqAU",
        "colab_type": "code",
        "colab": {}
      },
      "cell_type": "code",
      "source": [
        "dict_1 = {'foo' : 100, 'bar' : 200, 'baz' : 300}\n",
        "ser_3 = Series(dict_1)\n",
        "ser_3"
      ],
      "execution_count": 0,
      "outputs": []
    },
    {
      "metadata": {
        "id": "UyfGTS8eVqAf",
        "colab_type": "text"
      },
      "cell_type": "markdown",
      "source": [
        "Re-order a Series by passing in an index (indices not found are NaN):"
      ]
    },
    {
      "metadata": {
        "id": "tyZQwUsoVqAi",
        "colab_type": "code",
        "colab": {}
      },
      "cell_type": "code",
      "source": [
        "#There is no value for index item 'qux', it will be set with value 'NaN'#\n",
        "#In addition , Nan is considered as a float, pleasa refer the IEEE 754 (https://en.wikipedia.org/wiki/IEEE_754).\n",
        "#As a result, the dtype will changed into float64\n",
        "index = ['foo', 'bar', 'baz', 'qux']\n",
        "ser_4 = Series(dict_1, index=index)\n",
        "ser_"
      ],
      "execution_count": 0,
      "outputs": []
    },
    {
      "metadata": {
        "id": "7BFvDkiNVqAu",
        "colab_type": "text"
      },
      "cell_type": "markdown",
      "source": [
        "Check for NaN with the pandas method:"
      ]
    },
    {
      "metadata": {
        "id": "MmRFinnvVqAw",
        "colab_type": "code",
        "colab": {}
      },
      "cell_type": "code",
      "source": [
        "pd.isnull(ser_4)"
      ],
      "execution_count": 0,
      "outputs": []
    },
    {
      "metadata": {
        "id": "EvY8SIWJVqA5",
        "colab_type": "text"
      },
      "cell_type": "markdown",
      "source": [
        "Check for NaN with the Series method:"
      ]
    },
    {
      "metadata": {
        "id": "B2LsRxgBVqBB",
        "colab_type": "code",
        "colab": {}
      },
      "cell_type": "code",
      "source": [
        "ser_4.isnull()"
      ],
      "execution_count": 0,
      "outputs": []
    },
    {
      "metadata": {
        "id": "gGsjvUD7VqBO",
        "colab_type": "text"
      },
      "cell_type": "markdown",
      "source": [
        "Series automatically aligns differently indexed data in arithmetic operations:"
      ]
    },
    {
      "metadata": {
        "id": "fCXZ8pwjVqBR",
        "colab_type": "code",
        "colab": {}
      },
      "cell_type": "code",
      "source": [
        "ser_3 + ser_4"
      ],
      "execution_count": 0,
      "outputs": []
    },
    {
      "metadata": {
        "id": "bkKu3bQmVqBb",
        "colab_type": "text"
      },
      "cell_type": "markdown",
      "source": [
        "Name a Series:"
      ]
    },
    {
      "metadata": {
        "id": "39fDo_00VqBe",
        "colab_type": "code",
        "colab": {}
      },
      "cell_type": "code",
      "source": [
        "ser_4.name = 'foobarbazqux'"
      ],
      "execution_count": 0,
      "outputs": []
    },
    {
      "metadata": {
        "id": "DZfcCr63VqBl",
        "colab_type": "text"
      },
      "cell_type": "markdown",
      "source": [
        "Name a Series index:"
      ]
    },
    {
      "metadata": {
        "id": "IX825eESVqBo",
        "colab_type": "code",
        "colab": {}
      },
      "cell_type": "code",
      "source": [
        "ser_4.index.name = 'label'"
      ],
      "execution_count": 0,
      "outputs": []
    },
    {
      "metadata": {
        "id": "yAyAWBA_VqB2",
        "colab_type": "code",
        "colab": {}
      },
      "cell_type": "code",
      "source": [
        "ser_4"
      ],
      "execution_count": 0,
      "outputs": []
    },
    {
      "metadata": {
        "id": "4OgEA3IcVqB-",
        "colab_type": "text"
      },
      "cell_type": "markdown",
      "source": [
        "Rename a Series' index in place:"
      ]
    },
    {
      "metadata": {
        "id": "OKu3DLAwVqCB",
        "colab_type": "code",
        "colab": {}
      },
      "cell_type": "code",
      "source": [
        "ser_4.index = ['fo', 'br', 'bz', 'qx']\n",
        "ser_4"
      ],
      "execution_count": 0,
      "outputs": []
    },
    {
      "metadata": {
        "id": "nNPE9JVCVqCI",
        "colab_type": "text"
      },
      "cell_type": "markdown",
      "source": [
        "## 2. DataFrame\n",
        "\n",
        "A DataFrame is a tabular data structure containing an ordered collection of columns.  Each column can have a different type.  DataFrames have both row and column indices and is analogous to a dict of Series.  Row and column operations are treated roughly symmetrically.  Columns returned when indexing a DataFrame are views of the underlying data, not a copy.  To obtain a copy, use the Series' copy method.\n",
        "\n",
        "Create a DataFrame:"
      ]
    },
    {
      "metadata": {
        "id": "z54ymizLVqCM",
        "colab_type": "code",
        "colab": {}
      },
      "cell_type": "code",
      "source": [
        "data_1 = {'state' : ['VA', 'VA', 'VA', 'MD', 'MD'],\n",
        "          'year' : [2012, 2013, 2014, 2014, 2015],\n",
        "          'pop' : [5.0, 5.1, 5.2, 4.0, 4.1]}\n",
        "df_1 = DataFrame(data_1)\n",
        "df_1"
      ],
      "execution_count": 0,
      "outputs": []
    },
    {
      "metadata": {
        "id": "eCYGJPc6VqCW",
        "colab_type": "text"
      },
      "cell_type": "markdown",
      "source": [
        "Create a DataFrame specifying a sequence of columns:"
      ]
    },
    {
      "metadata": {
        "id": "iaLNOd6cVqCZ",
        "colab_type": "code",
        "colab": {}
      },
      "cell_type": "code",
      "source": [
        "df_2 = DataFrame(data_1, columns=['year', 'state', 'pop'])\n",
        "df_2"
      ],
      "execution_count": 0,
      "outputs": []
    },
    {
      "metadata": {
        "id": "wWk9CCj5VqCk",
        "colab_type": "text"
      },
      "cell_type": "markdown",
      "source": [
        "Like Series, columns that are not present in the data are NaN:"
      ]
    },
    {
      "metadata": {
        "id": "IWyA3xf2VqCn",
        "colab_type": "code",
        "colab": {}
      },
      "cell_type": "code",
      "source": [
        "df_3 = DataFrame(data_1, columns=['year', 'state', 'pop', 'unempl'])\n",
        "df_3"
      ],
      "execution_count": 0,
      "outputs": []
    },
    {
      "metadata": {
        "id": "Fum6fsH9VqCv",
        "colab_type": "text"
      },
      "cell_type": "markdown",
      "source": [
        "Retrieve a column by key, returning a Series:\n"
      ]
    },
    {
      "metadata": {
        "id": "vj9PSdgpVqC0",
        "colab_type": "code",
        "colab": {}
      },
      "cell_type": "code",
      "source": [
        "df_3['state']"
      ],
      "execution_count": 0,
      "outputs": []
    },
    {
      "metadata": {
        "id": "8pmCpwBHVqC9",
        "colab_type": "text"
      },
      "cell_type": "markdown",
      "source": [
        "Retrive a column by attribute, returning a Series:"
      ]
    },
    {
      "metadata": {
        "id": "Cm0gtqyWVqDA",
        "colab_type": "code",
        "colab": {}
      },
      "cell_type": "code",
      "source": [
        "df_3.year"
      ],
      "execution_count": 0,
      "outputs": []
    },
    {
      "metadata": {
        "id": "YceQ_iH4VqDM",
        "colab_type": "text"
      },
      "cell_type": "markdown",
      "source": [
        "Retrieve a row by position:\n",
        "Python has provide three function, ix(), loc(), iloc ()  to select rows and columns in Pandas DataFrames\n",
        "\n",
        "*   Selecting data by label or by a conditional statment (.loc)\n",
        "*   Selecting data by row numbers (.iloc)\n",
        "*   Selecting in a hybrid approach (.ix) (**now Deprecated in Pandas 0.20.1**)\n",
        "\n",
        "\n",
        "\n"
      ]
    },
    {
      "metadata": {
        "id": "sHMotUPTs0YY",
        "colab_type": "code",
        "colab": {}
      },
      "cell_type": "code",
      "source": [
        "df_3.loc[:,['year']]"
      ],
      "execution_count": 0,
      "outputs": []
    },
    {
      "metadata": {
        "id": "yeDULL4Fszhz",
        "colab_type": "code",
        "colab": {}
      },
      "cell_type": "code",
      "source": [
        "df_3.iloc[:,2]"
      ],
      "execution_count": 0,
      "outputs": []
    },
    {
      "metadata": {
        "id": "ZtFl2fS6VqDP",
        "colab_type": "code",
        "colab": {}
      },
      "cell_type": "code",
      "source": [
        "df_3.ix[0]"
      ],
      "execution_count": 0,
      "outputs": []
    },
    {
      "metadata": {
        "id": "uDPvcGNzVqDV",
        "colab_type": "text"
      },
      "cell_type": "markdown",
      "source": [
        "Update a column by assignment:"
      ]
    },
    {
      "metadata": {
        "id": "5IufJ-9xVqDX",
        "colab_type": "code",
        "colab": {}
      },
      "cell_type": "code",
      "source": [
        "df_3['unempl'] = np.arange(5)\n",
        "df_3"
      ],
      "execution_count": 0,
      "outputs": []
    },
    {
      "metadata": {
        "id": "aHMg_brbVqDe",
        "colab_type": "text"
      },
      "cell_type": "markdown",
      "source": [
        "Assign a Series to a column (note if assigning a list or array, the length must match the DataFrame, unlike a Series):"
      ]
    },
    {
      "metadata": {
        "id": "jixfvr5FVqDg",
        "colab_type": "code",
        "colab": {}
      },
      "cell_type": "code",
      "source": [
        "unempl = Series([6.0, 6.0, 6.1], index=[2, 3, 4])\n",
        "df_3['unempl'] = unempl\n",
        "df_3"
      ],
      "execution_count": 0,
      "outputs": []
    },
    {
      "metadata": {
        "id": "qELq5QK6VqDm",
        "colab_type": "text"
      },
      "cell_type": "markdown",
      "source": [
        "Assign a new column that doesn't exist to create a new column:"
      ]
    },
    {
      "metadata": {
        "id": "2S2xuaKXVqDo",
        "colab_type": "code",
        "colab": {}
      },
      "cell_type": "code",
      "source": [
        "df_3['state_dup'] = df_3['state']\n",
        "df_3"
      ],
      "execution_count": 0,
      "outputs": []
    },
    {
      "metadata": {
        "id": "dhJcB2BQVqDv",
        "colab_type": "text"
      },
      "cell_type": "markdown",
      "source": [
        "Delete a column:"
      ]
    },
    {
      "metadata": {
        "id": "NlWtYYSCVqDx",
        "colab_type": "code",
        "colab": {}
      },
      "cell_type": "code",
      "source": [
        "del df_3['state_dup']\n",
        "df_3"
      ],
      "execution_count": 0,
      "outputs": []
    },
    {
      "metadata": {
        "id": "Ddd8hj4SVqEB",
        "colab_type": "text"
      },
      "cell_type": "markdown",
      "source": [
        "Create a DataFrame from a nested dict of dicts (the keys in the inner dicts are unioned and sorted to form the index in the result, unless an explicit index is specified):"
      ]
    },
    {
      "metadata": {
        "id": "TPA5hrZ0VqED",
        "colab_type": "code",
        "colab": {}
      },
      "cell_type": "code",
      "source": [
        "pop = {'VA' : {2013 : 5.1, 2014 : 5.2},\n",
        "       'MD' : {2014 : 4.0, 2015 : 4.1}}\n",
        "df_4 = DataFrame(pop)\n",
        "df_4"
      ],
      "execution_count": 0,
      "outputs": []
    },
    {
      "metadata": {
        "id": "4EzQ3P8KVqEP",
        "colab_type": "text"
      },
      "cell_type": "markdown",
      "source": [
        "Transpose the DataFrame:"
      ]
    },
    {
      "metadata": {
        "id": "TqsUuLPmVqET",
        "colab_type": "code",
        "colab": {}
      },
      "cell_type": "code",
      "source": [
        "df_4.T"
      ],
      "execution_count": 0,
      "outputs": []
    },
    {
      "metadata": {
        "id": "IQWNC69YVqEd",
        "colab_type": "text"
      },
      "cell_type": "markdown",
      "source": [
        "Create a DataFrame from a dict of Series:"
      ]
    },
    {
      "metadata": {
        "id": "4y1wwy2mVqEk",
        "colab_type": "code",
        "colab": {}
      },
      "cell_type": "code",
      "source": [
        "data_2 = {'VA' : df_4['VA'][1:],\n",
        "          'MD' : df_4['MD'][2:]}\n",
        "df_5 = DataFrame(data_2)\n",
        "df_5"
      ],
      "execution_count": 0,
      "outputs": []
    },
    {
      "metadata": {
        "id": "BwINvzz7VqEs",
        "colab_type": "text"
      },
      "cell_type": "markdown",
      "source": [
        "Set the DataFrame index name:"
      ]
    },
    {
      "metadata": {
        "id": "fN6oBt-1VqEu",
        "colab_type": "code",
        "colab": {}
      },
      "cell_type": "code",
      "source": [
        "df_5.index.name = 'year'\n",
        "df_5"
      ],
      "execution_count": 0,
      "outputs": []
    },
    {
      "metadata": {
        "id": "F8kPSYueVqE1",
        "colab_type": "text"
      },
      "cell_type": "markdown",
      "source": [
        "Set the DataFrame columns name:"
      ]
    },
    {
      "metadata": {
        "id": "2yDKE5fzVqE3",
        "colab_type": "code",
        "colab": {}
      },
      "cell_type": "code",
      "source": [
        "df_5.columns.name = 'state'\n",
        "df_5"
      ],
      "execution_count": 0,
      "outputs": []
    },
    {
      "metadata": {
        "id": "T-KQM90iVqE-",
        "colab_type": "text"
      },
      "cell_type": "markdown",
      "source": [
        "Return the data contained in a DataFrame as a 2D ndarray:"
      ]
    },
    {
      "metadata": {
        "id": "vEweDfAAVqFA",
        "colab_type": "code",
        "colab": {}
      },
      "cell_type": "code",
      "source": [
        "df_5.values"
      ],
      "execution_count": 0,
      "outputs": []
    },
    {
      "metadata": {
        "id": "pdl5EX6iVqFG",
        "colab_type": "text"
      },
      "cell_type": "markdown",
      "source": [
        "If the columns are different dtypes, the 2D ndarray's dtype will accomodate all of the columns:"
      ]
    },
    {
      "metadata": {
        "id": "z16TT5rTVqFI",
        "colab_type": "code",
        "colab": {}
      },
      "cell_type": "code",
      "source": [
        "df_3.values"
      ],
      "execution_count": 0,
      "outputs": []
    },
    {
      "metadata": {
        "id": "CgjK5r68VqFP",
        "colab_type": "text"
      },
      "cell_type": "markdown",
      "source": [
        "## 3. Reindexing"
      ]
    },
    {
      "metadata": {
        "id": "LNuzdtueVqFS",
        "colab_type": "text"
      },
      "cell_type": "markdown",
      "source": [
        "Create a new object with the data conformed to a new index.  Any missing values are set to NaN."
      ]
    },
    {
      "metadata": {
        "id": "I8s6ucQ7VqFV",
        "colab_type": "code",
        "colab": {}
      },
      "cell_type": "code",
      "source": [
        "df_3"
      ],
      "execution_count": 0,
      "outputs": []
    },
    {
      "metadata": {
        "id": "1UOgSqPTVqFa",
        "colab_type": "text"
      },
      "cell_type": "markdown",
      "source": [
        "Reindexing rows returns a new frame with the specified index:"
      ]
    },
    {
      "metadata": {
        "id": "VXhmFrZpVqFc",
        "colab_type": "code",
        "colab": {}
      },
      "cell_type": "code",
      "source": [
        "df_3.reindex(list(reversed(range(0, 6))))"
      ],
      "execution_count": 0,
      "outputs": []
    },
    {
      "metadata": {
        "id": "8fkBZ30dVqFm",
        "colab_type": "text"
      },
      "cell_type": "markdown",
      "source": [
        "Missing values can be set to something other than NaN:"
      ]
    },
    {
      "metadata": {
        "id": "dEl52D4zVqFo",
        "colab_type": "code",
        "colab": {}
      },
      "cell_type": "code",
      "source": [
        "#for the DataFrame.reindex method\n",
        "#The parameter of \"fill_vaule\" is used to replace missing values. \n",
        "#Defaults to NaN, but can be any “compatible” value.\n",
        "df_3.reindex(range(0, 6), fill_value=0)"
      ],
      "execution_count": 0,
      "outputs": []
    },
    {
      "metadata": {
        "id": "RB34GsmZVqFu",
        "colab_type": "text"
      },
      "cell_type": "markdown",
      "source": [
        "Interpolate ordered data like a time series:"
      ]
    },
    {
      "metadata": {
        "id": "DEdjbE59VqF3",
        "colab_type": "code",
        "colab": {}
      },
      "cell_type": "code",
      "source": [
        "ser_5 = Series(['foo', 'bar', 'baz'], index=[0, 2, 4])"
      ],
      "execution_count": 0,
      "outputs": []
    },
    {
      "metadata": {
        "id": "w2DTs-dqVqF9",
        "colab_type": "code",
        "colab": {}
      },
      "cell_type": "code",
      "source": [
        "ser_5.reindex(range(5), method='ffill')"
      ],
      "execution_count": 0,
      "outputs": []
    },
    {
      "metadata": {
        "id": "O2hyG-5QVqGD",
        "colab_type": "code",
        "colab": {}
      },
      "cell_type": "code",
      "source": [
        "ser_5.reindex(range(5), method='bfill')"
      ],
      "execution_count": 0,
      "outputs": []
    },
    {
      "metadata": {
        "id": "Eao5SKmkVqGK",
        "colab_type": "text"
      },
      "cell_type": "markdown",
      "source": [
        "Reindex columns:"
      ]
    },
    {
      "metadata": {
        "id": "SYyDMuwCVqGL",
        "colab_type": "code",
        "colab": {}
      },
      "cell_type": "code",
      "source": [
        "df_3.reindex(columns=['state', 'pop', 'unempl', 'year'])"
      ],
      "execution_count": 0,
      "outputs": []
    },
    {
      "metadata": {
        "id": "BQqYQih2VqGR",
        "colab_type": "text"
      },
      "cell_type": "markdown",
      "source": [
        "Reindex rows and columns while filling rows:"
      ]
    },
    {
      "metadata": {
        "id": "rmFF6FNeVqGU",
        "colab_type": "code",
        "colab": {}
      },
      "cell_type": "code",
      "source": [
        "df_3.reindex(index=list(reversed(range(0, 6))),\n",
        "             fill_value=0,\n",
        "             columns=['state', 'pop', 'unempl', 'year'])"
      ],
      "execution_count": 0,
      "outputs": []
    },
    {
      "metadata": {
        "id": "7gFTsjSYVqGa",
        "colab_type": "text"
      },
      "cell_type": "markdown",
      "source": [
        "Reindex using ix:"
      ]
    },
    {
      "metadata": {
        "id": "-TnJ5x1OVqGe",
        "colab_type": "code",
        "colab": {}
      },
      "cell_type": "code",
      "source": [
        "df_6 = df_3.ix[range(0, 7), ['state', 'pop', 'unempl', 'year']]\n",
        "df_6"
      ],
      "execution_count": 0,
      "outputs": []
    },
    {
      "metadata": {
        "id": "BE5eRcXOVqGl",
        "colab_type": "text"
      },
      "cell_type": "markdown",
      "source": [
        "## 4. Dropping Entries"
      ]
    },
    {
      "metadata": {
        "id": "5Y3mva6eVqGs",
        "colab_type": "text"
      },
      "cell_type": "markdown",
      "source": [
        "Drop rows from a Series or DataFrame:"
      ]
    },
    {
      "metadata": {
        "id": "Os6ibbB7VqGu",
        "colab_type": "code",
        "colab": {}
      },
      "cell_type": "code",
      "source": [
        "df_7 = df_6.drop([0, 1])\n",
        "df_7"
      ],
      "execution_count": 0,
      "outputs": []
    },
    {
      "metadata": {
        "id": "lawC-BiqVqG0",
        "colab_type": "text"
      },
      "cell_type": "markdown",
      "source": [
        "Drop columns from a DataFrame:"
      ]
    },
    {
      "metadata": {
        "id": "zkhkJ8EcVqG2",
        "colab_type": "code",
        "colab": {}
      },
      "cell_type": "code",
      "source": [
        "df_7 = df_7.drop('unempl', axis=1)\n",
        "df_7"
      ],
      "execution_count": 0,
      "outputs": []
    },
    {
      "metadata": {
        "id": "MXp47uJUVqG-",
        "colab_type": "text"
      },
      "cell_type": "markdown",
      "source": [
        "## 5. Indexing, Selecting, Filtering"
      ]
    },
    {
      "metadata": {
        "id": "-PPgwjUdVqHA",
        "colab_type": "text"
      },
      "cell_type": "markdown",
      "source": [
        "Series indexing is similar to NumPy array indexing with the added bonus of being able to use the Series' index values."
      ]
    },
    {
      "metadata": {
        "id": "pQYJoBzSVqHC",
        "colab_type": "code",
        "colab": {}
      },
      "cell_type": "code",
      "source": [
        "ser_2"
      ],
      "execution_count": 0,
      "outputs": []
    },
    {
      "metadata": {
        "id": "ypRrxCrwVqHJ",
        "colab_type": "text"
      },
      "cell_type": "markdown",
      "source": [
        "Select a value from a Series:"
      ]
    },
    {
      "metadata": {
        "id": "knAWkoPaVqHL",
        "colab_type": "code",
        "colab": {}
      },
      "cell_type": "code",
      "source": [
        "ser_2[0] == ser_2['a']"
      ],
      "execution_count": 0,
      "outputs": []
    },
    {
      "metadata": {
        "id": "wWIKsQFEVqHS",
        "colab_type": "text"
      },
      "cell_type": "markdown",
      "source": [
        "Select a slice from a Series:"
      ]
    },
    {
      "metadata": {
        "id": "JHn9zf_9VqHU",
        "colab_type": "code",
        "colab": {}
      },
      "cell_type": "code",
      "source": [
        "ser_2[1:4]"
      ],
      "execution_count": 0,
      "outputs": []
    },
    {
      "metadata": {
        "id": "sRy_LMkOVqHa",
        "colab_type": "text"
      },
      "cell_type": "markdown",
      "source": [
        "Select specific values from a Series:"
      ]
    },
    {
      "metadata": {
        "id": "8tONQsPuVqHc",
        "colab_type": "code",
        "colab": {}
      },
      "cell_type": "code",
      "source": [
        "ser_2[['b', 'c', 'd']]"
      ],
      "execution_count": 0,
      "outputs": []
    },
    {
      "metadata": {
        "id": "DYz32OuZVqHi",
        "colab_type": "text"
      },
      "cell_type": "markdown",
      "source": [
        "Select from a Series based on a filter:"
      ]
    },
    {
      "metadata": {
        "id": "K2AHMgh1VqHk",
        "colab_type": "code",
        "colab": {}
      },
      "cell_type": "code",
      "source": [
        "ser_2[ser_2 > 0]"
      ],
      "execution_count": 0,
      "outputs": []
    },
    {
      "metadata": {
        "id": "fMwPjiJwVqHt",
        "colab_type": "text"
      },
      "cell_type": "markdown",
      "source": [
        "Select a slice from a Series with labels (note the end point is inclusive):"
      ]
    },
    {
      "metadata": {
        "id": "7T-AcDpZVqHv",
        "colab_type": "code",
        "colab": {}
      },
      "cell_type": "code",
      "source": [
        "ser_2['a':'b']"
      ],
      "execution_count": 0,
      "outputs": []
    },
    {
      "metadata": {
        "id": "iC9Y1wBFVqHz",
        "colab_type": "text"
      },
      "cell_type": "markdown",
      "source": [
        "Assign to a Series slice (note the end point is inclusive):"
      ]
    },
    {
      "metadata": {
        "id": "mHf5--veVqH1",
        "colab_type": "code",
        "colab": {}
      },
      "cell_type": "code",
      "source": [
        "ser_2['a':'b'] = 0\n",
        "ser_2"
      ],
      "execution_count": 0,
      "outputs": []
    },
    {
      "metadata": {
        "id": "OP-oy46hVqIC",
        "colab_type": "text"
      },
      "cell_type": "markdown",
      "source": [
        "Pandas supports indexing into a DataFrame."
      ]
    },
    {
      "metadata": {
        "id": "lzIwygmPVqIE",
        "colab_type": "code",
        "colab": {}
      },
      "cell_type": "code",
      "source": [
        "df_6"
      ],
      "execution_count": 0,
      "outputs": []
    },
    {
      "metadata": {
        "id": "QeOEsdopVqIL",
        "colab_type": "text"
      },
      "cell_type": "markdown",
      "source": [
        "Select specified columns from a DataFrame:"
      ]
    },
    {
      "metadata": {
        "id": "HwUfToh4VqIN",
        "colab_type": "code",
        "colab": {}
      },
      "cell_type": "code",
      "source": [
        "df_6[['pop', 'unempl']]"
      ],
      "execution_count": 0,
      "outputs": []
    },
    {
      "metadata": {
        "id": "1yZLZlNFVqIU",
        "colab_type": "text"
      },
      "cell_type": "markdown",
      "source": [
        "Select a slice from a DataFrame:"
      ]
    },
    {
      "metadata": {
        "id": "uD1fr91yVqIc",
        "colab_type": "code",
        "colab": {}
      },
      "cell_type": "code",
      "source": [
        "df_6[:2]"
      ],
      "execution_count": 0,
      "outputs": []
    },
    {
      "metadata": {
        "id": "DyMyPPILVqIi",
        "colab_type": "text"
      },
      "cell_type": "markdown",
      "source": [
        "Select from a DataFrame based on a filter:"
      ]
    },
    {
      "metadata": {
        "id": "7snYXnr7VqIj",
        "colab_type": "code",
        "colab": {}
      },
      "cell_type": "code",
      "source": [
        "df_6[df_6['pop'] > 5]"
      ],
      "execution_count": 0,
      "outputs": []
    },
    {
      "metadata": {
        "id": "jHEBW5MqVqIo",
        "colab_type": "text"
      },
      "cell_type": "markdown",
      "source": [
        "Perform a scalar comparison on a DataFrame:"
      ]
    },
    {
      "metadata": {
        "id": "N8gaZoQlVqIr",
        "colab_type": "code",
        "colab": {}
      },
      "cell_type": "code",
      "source": [
        "df_6 > 5"
      ],
      "execution_count": 0,
      "outputs": []
    },
    {
      "metadata": {
        "id": "jAVxHmndVqIx",
        "colab_type": "text"
      },
      "cell_type": "markdown",
      "source": [
        "Perform a scalar comparison on a DataFrame, retain the values that pass the filter:"
      ]
    },
    {
      "metadata": {
        "id": "x4XzUGEIVqIy",
        "colab_type": "code",
        "colab": {}
      },
      "cell_type": "code",
      "source": [
        "df_6[df_6 > 5]"
      ],
      "execution_count": 0,
      "outputs": []
    },
    {
      "metadata": {
        "id": "pb2L4LcEVqI9",
        "colab_type": "text"
      },
      "cell_type": "markdown",
      "source": [
        "Select a slice of rows from a DataFrame (note the end point is inclusive):"
      ]
    },
    {
      "metadata": {
        "id": "O3Na5ja3VqI_",
        "colab_type": "code",
        "colab": {}
      },
      "cell_type": "code",
      "source": [
        "df_6.ix[2:3]"
      ],
      "execution_count": 0,
      "outputs": []
    },
    {
      "metadata": {
        "id": "gSHp3_GrVqJJ",
        "colab_type": "text"
      },
      "cell_type": "markdown",
      "source": [
        "Select a slice of rows from a specific column of a DataFrame:"
      ]
    },
    {
      "metadata": {
        "id": "0gbPCZnsVqJO",
        "colab_type": "code",
        "colab": {}
      },
      "cell_type": "code",
      "source": [
        "df_6.ix[0:2, 'pop']"
      ],
      "execution_count": 0,
      "outputs": []
    },
    {
      "metadata": {
        "id": "IWFO4a7NVqJY",
        "colab_type": "text"
      },
      "cell_type": "markdown",
      "source": [
        "Select rows based on an arithmetic operation on a specific row:"
      ]
    },
    {
      "metadata": {
        "id": "EKclLgVdVqJZ",
        "colab_type": "code",
        "colab": {}
      },
      "cell_type": "code",
      "source": [
        "df_6.ix[df_6.unempl > 5.0]"
      ],
      "execution_count": 0,
      "outputs": []
    },
    {
      "metadata": {
        "id": "ClB-NC_gVqJf",
        "colab_type": "text"
      },
      "cell_type": "markdown",
      "source": [
        "## 6. Arithmetic and Data Alignment"
      ]
    },
    {
      "metadata": {
        "id": "YCJ5dbCMVqJg",
        "colab_type": "text"
      },
      "cell_type": "markdown",
      "source": [
        "Adding Series objects results in the union of index pairs if the pairs are not the same, resulting in NaN for indices that do not overlap:"
      ]
    },
    {
      "metadata": {
        "id": "UKWygEpEVqJi",
        "colab_type": "code",
        "colab": {}
      },
      "cell_type": "code",
      "source": [
        "np.random.seed(0)\n",
        "ser_6 = Series(np.random.randn(5),\n",
        "               index=['a', 'b', 'c', 'd', 'e'])\n",
        "ser_6"
      ],
      "execution_count": 0,
      "outputs": []
    },
    {
      "metadata": {
        "id": "UAEiRqmRVqJm",
        "colab_type": "code",
        "colab": {}
      },
      "cell_type": "code",
      "source": [
        "np.random.seed(1)\n",
        "ser_7 = Series(np.random.randn(5),\n",
        "               index=['a', 'c', 'e', 'f', 'g'])\n",
        "ser_7"
      ],
      "execution_count": 0,
      "outputs": []
    },
    {
      "metadata": {
        "id": "-EIx4hpSVqJr",
        "colab_type": "code",
        "colab": {}
      },
      "cell_type": "code",
      "source": [
        "ser_6 + ser_7"
      ],
      "execution_count": 0,
      "outputs": []
    },
    {
      "metadata": {
        "id": "5TGRfaaXVqJ2",
        "colab_type": "text"
      },
      "cell_type": "markdown",
      "source": [
        "Set a fill value instead of NaN for indices that do not overlap:"
      ]
    },
    {
      "metadata": {
        "id": "jvmB9kVJVqJ4",
        "colab_type": "code",
        "colab": {}
      },
      "cell_type": "code",
      "source": [
        "ser_6.add(ser_7, fill_value=0)"
      ],
      "execution_count": 0,
      "outputs": []
    },
    {
      "metadata": {
        "id": "dJMiIPM8VqJ8",
        "colab_type": "text"
      },
      "cell_type": "markdown",
      "source": [
        "Adding DataFrame objects results in the union of index pairs for rows and columns if the pairs are not the same, resulting in NaN for indices that do not overlap:"
      ]
    },
    {
      "metadata": {
        "id": "sik9oe_-VqJ-",
        "colab_type": "code",
        "colab": {}
      },
      "cell_type": "code",
      "source": [
        "np.random.seed(0)\n",
        "df_8 = DataFrame(np.random.rand(9).reshape((3, 3)),\n",
        "                 columns=['a', 'b', 'c'])\n",
        "df_8"
      ],
      "execution_count": 0,
      "outputs": []
    },
    {
      "metadata": {
        "id": "O-Ktsa5GVqKD",
        "colab_type": "code",
        "colab": {}
      },
      "cell_type": "code",
      "source": [
        "np.random.seed(1)\n",
        "df_9 = DataFrame(np.random.rand(9).reshape((3, 3)),\n",
        "                 columns=['b', 'c', 'd'])\n",
        "df_9"
      ],
      "execution_count": 0,
      "outputs": []
    },
    {
      "metadata": {
        "id": "O1_4YK6wVqKG",
        "colab_type": "code",
        "colab": {}
      },
      "cell_type": "code",
      "source": [
        "df_8 + df_9"
      ],
      "execution_count": 0,
      "outputs": []
    },
    {
      "metadata": {
        "id": "db9g2CUQVqKK",
        "colab_type": "text"
      },
      "cell_type": "markdown",
      "source": [
        "Set a fill value instead of NaN for indices that do not overlap:"
      ]
    },
    {
      "metadata": {
        "id": "C2cASM8OVqKM",
        "colab_type": "code",
        "colab": {}
      },
      "cell_type": "code",
      "source": [
        "df_10 = df_8.add(df_9, fill_value=0)\n",
        "df_10"
      ],
      "execution_count": 0,
      "outputs": []
    },
    {
      "metadata": {
        "id": "3j9i77qKVqKQ",
        "colab_type": "text"
      },
      "cell_type": "markdown",
      "source": [
        "Like NumPy, pandas supports arithmetic operations between DataFrames and Series.\n",
        "\n",
        "Match the index of the Series on the DataFrame's columns, broadcasting down the rows:"
      ]
    },
    {
      "metadata": {
        "id": "gT7H6eFLVqKR",
        "colab_type": "code",
        "colab": {}
      },
      "cell_type": "code",
      "source": [
        "ser_8 = df_10.ix[0]\n",
        "df_11 = df_10 - ser_8\n",
        "df_11"
      ],
      "execution_count": 0,
      "outputs": []
    },
    {
      "metadata": {
        "id": "uES86xMnVqKV",
        "colab_type": "text"
      },
      "cell_type": "markdown",
      "source": [
        "Match the index of the Series on the DataFrame's columns, broadcasting down the rows and union the indices that do not match:"
      ]
    },
    {
      "metadata": {
        "id": "3wIl0FxjVqKY",
        "colab_type": "code",
        "colab": {}
      },
      "cell_type": "code",
      "source": [
        "ser_9 = Series(range(3), index=['a', 'd', 'e'])\n",
        "ser_9"
      ],
      "execution_count": 0,
      "outputs": []
    },
    {
      "metadata": {
        "id": "idZ7bYyNVqKh",
        "colab_type": "code",
        "colab": {}
      },
      "cell_type": "code",
      "source": [
        "df_11 - ser_9"
      ],
      "execution_count": 0,
      "outputs": []
    },
    {
      "metadata": {
        "id": "_HokmoeIVqKp",
        "colab_type": "text"
      },
      "cell_type": "markdown",
      "source": [
        "Broadcast over the columns and match the rows (axis=0) by using an arithmetic method:"
      ]
    },
    {
      "metadata": {
        "id": "rsqMYS4AVqKq",
        "colab_type": "code",
        "colab": {}
      },
      "cell_type": "code",
      "source": [
        "df_10"
      ],
      "execution_count": 0,
      "outputs": []
    },
    {
      "metadata": {
        "id": "AFN2dYfEVqKx",
        "colab_type": "code",
        "colab": {}
      },
      "cell_type": "code",
      "source": [
        "ser_10 = Series([100, 200, 300])\n",
        "ser_10"
      ],
      "execution_count": 0,
      "outputs": []
    },
    {
      "metadata": {
        "id": "h74ZHIamVqK4",
        "colab_type": "code",
        "colab": {}
      },
      "cell_type": "code",
      "source": [
        "df_10.sub(ser_10, axis=0)"
      ],
      "execution_count": 0,
      "outputs": []
    },
    {
      "metadata": {
        "id": "c4Zr57f0VqK8",
        "colab_type": "text"
      },
      "cell_type": "markdown",
      "source": [
        "## 7. Function Application and Mapping"
      ]
    },
    {
      "metadata": {
        "id": "XmHli4QiVqK9",
        "colab_type": "text"
      },
      "cell_type": "markdown",
      "source": [
        "NumPy ufuncs (element-wise array methods) operate on pandas objects:"
      ]
    },
    {
      "metadata": {
        "id": "B6rIa0EDVqK-",
        "colab_type": "code",
        "colab": {}
      },
      "cell_type": "code",
      "source": [
        "df_11 = np.abs(df_11)\n",
        "df_11"
      ],
      "execution_count": 0,
      "outputs": []
    },
    {
      "metadata": {
        "id": "lVLmxLPEVqLF",
        "colab_type": "text"
      },
      "cell_type": "markdown",
      "source": [
        "Apply a function on 1D arrays to each column:"
      ]
    },
    {
      "metadata": {
        "id": "raphVwKhVqLH",
        "colab_type": "code",
        "colab": {}
      },
      "cell_type": "code",
      "source": [
        "func_1 = lambda x: x.max() - x.min()\n",
        "df_11.apply(func_1)"
      ],
      "execution_count": 0,
      "outputs": []
    },
    {
      "metadata": {
        "id": "5dguRawpVqLK",
        "colab_type": "text"
      },
      "cell_type": "markdown",
      "source": [
        "Apply a function on 1D arrays to each row:"
      ]
    },
    {
      "metadata": {
        "id": "x9OHf4ifVqLL",
        "colab_type": "code",
        "colab": {}
      },
      "cell_type": "code",
      "source": [
        "df_11.apply(func_1, axis=1)"
      ],
      "execution_count": 0,
      "outputs": []
    },
    {
      "metadata": {
        "id": "gtGW55olVqLP",
        "colab_type": "text"
      },
      "cell_type": "markdown",
      "source": [
        "Apply a function and return a DataFrame:"
      ]
    },
    {
      "metadata": {
        "id": "mvY0RDafVqLR",
        "colab_type": "code",
        "colab": {}
      },
      "cell_type": "code",
      "source": [
        "func_2 = lambda x: Series([x.min(), x.max()], index=['min', 'max'])\n",
        "df_11.apply(func_2)"
      ],
      "execution_count": 0,
      "outputs": []
    },
    {
      "metadata": {
        "id": "mrHbjJZQVqLU",
        "colab_type": "text"
      },
      "cell_type": "markdown",
      "source": [
        "Apply an element-wise Python function to a DataFrame:"
      ]
    },
    {
      "metadata": {
        "id": "CdGx2aFPVqLV",
        "colab_type": "code",
        "colab": {}
      },
      "cell_type": "code",
      "source": [
        "func_3 = lambda x: '%.2f' %x\n",
        "df_11.applymap(func_3)"
      ],
      "execution_count": 0,
      "outputs": []
    },
    {
      "metadata": {
        "id": "6R5u0MSiVqLZ",
        "colab_type": "text"
      },
      "cell_type": "markdown",
      "source": [
        "Apply an element-wise Python function to a Series:"
      ]
    },
    {
      "metadata": {
        "id": "OmomZLbiVqLa",
        "colab_type": "code",
        "colab": {}
      },
      "cell_type": "code",
      "source": [
        "df_11['a'].map(func_3)"
      ],
      "execution_count": 0,
      "outputs": []
    },
    {
      "metadata": {
        "id": "f7fXP_CNVqLd",
        "colab_type": "text"
      },
      "cell_type": "markdown",
      "source": [
        "## 8. Sorting and Ranking"
      ]
    },
    {
      "metadata": {
        "id": "PVamyR8eVqLk",
        "colab_type": "code",
        "colab": {}
      },
      "cell_type": "code",
      "source": [
        "ser_4"
      ],
      "execution_count": 0,
      "outputs": []
    },
    {
      "metadata": {
        "id": "mrM0UP7qVqLo",
        "colab_type": "text"
      },
      "cell_type": "markdown",
      "source": [
        "Sort a Series by its index:"
      ]
    },
    {
      "metadata": {
        "id": "duoW8ZpqVqLp",
        "colab_type": "code",
        "colab": {}
      },
      "cell_type": "code",
      "source": [
        "ser_4.sort_index()"
      ],
      "execution_count": 0,
      "outputs": []
    },
    {
      "metadata": {
        "id": "fgCFQmYZVqLv",
        "colab_type": "text"
      },
      "cell_type": "markdown",
      "source": [
        "Sort a Series by its values:"
      ]
    },
    {
      "metadata": {
        "id": "5EYhSIexVqLw",
        "colab_type": "code",
        "colab": {}
      },
      "cell_type": "code",
      "source": [
        "ser_4.sort_values()"
      ],
      "execution_count": 0,
      "outputs": []
    },
    {
      "metadata": {
        "id": "Ff6S5DJ3VqL1",
        "colab_type": "code",
        "colab": {}
      },
      "cell_type": "code",
      "source": [
        "df_12 = DataFrame(np.arange(12).reshape((3, 4)),\n",
        "                  index=['three', 'one', 'two'],\n",
        "                  columns=['c', 'a', 'b', 'd'])\n",
        "df_12"
      ],
      "execution_count": 0,
      "outputs": []
    },
    {
      "metadata": {
        "id": "sGTfY4B6VqL6",
        "colab_type": "text"
      },
      "cell_type": "markdown",
      "source": [
        "Sort a DataFrame by its index:"
      ]
    },
    {
      "metadata": {
        "id": "OA-WL8jkVqL7",
        "colab_type": "code",
        "colab": {}
      },
      "cell_type": "code",
      "source": [
        "df_12.sort_index()"
      ],
      "execution_count": 0,
      "outputs": []
    },
    {
      "metadata": {
        "id": "eHYx3zZDVqMA",
        "colab_type": "text"
      },
      "cell_type": "markdown",
      "source": [
        "Sort a DataFrame by columns in descending order:"
      ]
    },
    {
      "metadata": {
        "id": "-ZFuH-a8VqMC",
        "colab_type": "code",
        "colab": {}
      },
      "cell_type": "code",
      "source": [
        "df_12.sort_index(axis=1, ascending=False)"
      ],
      "execution_count": 0,
      "outputs": []
    },
    {
      "metadata": {
        "id": "L8ZgqIxdVqMH",
        "colab_type": "text"
      },
      "cell_type": "markdown",
      "source": [
        "Sort a DataFrame's values by column:"
      ]
    },
    {
      "metadata": {
        "id": "VoV2bbEOVqMJ",
        "colab_type": "code",
        "colab": {}
      },
      "cell_type": "code",
      "source": [
        "df_12.sort_values(by=['d', 'c'])"
      ],
      "execution_count": 0,
      "outputs": []
    },
    {
      "metadata": {
        "id": "TtMCIRYRVqMM",
        "colab_type": "text"
      },
      "cell_type": "markdown",
      "source": [
        "Ranking is similar to numpy.argsort except that ties are broken by assigning each group the mean rank:"
      ]
    },
    {
      "metadata": {
        "id": "HOWTvKbUVqMP",
        "colab_type": "code",
        "colab": {}
      },
      "cell_type": "code",
      "source": [
        "ser_11 = Series([7, -5, 7, 4, 2, 0, 4, 7])\n",
        "ser_11 = ser_11.sort_values()\n",
        "ser_11"
      ],
      "execution_count": 0,
      "outputs": []
    },
    {
      "metadata": {
        "id": "n8ukuqUZVqMX",
        "colab_type": "code",
        "colab": {}
      },
      "cell_type": "code",
      "source": [
        "ser_11.rank()"
      ],
      "execution_count": 0,
      "outputs": []
    },
    {
      "metadata": {
        "id": "Xkl0-p_eVqMc",
        "colab_type": "text"
      },
      "cell_type": "markdown",
      "source": [
        "Rank a Series according to when they appear in the data:"
      ]
    },
    {
      "metadata": {
        "id": "i1bDu0xMVqMd",
        "colab_type": "code",
        "colab": {}
      },
      "cell_type": "code",
      "source": [
        "ser_11.rank(method='first')"
      ],
      "execution_count": 0,
      "outputs": []
    },
    {
      "metadata": {
        "id": "rUv9ZxhOVqMh",
        "colab_type": "text"
      },
      "cell_type": "markdown",
      "source": [
        "Rank a Series in descending order, using the maximum rank for the group:"
      ]
    },
    {
      "metadata": {
        "id": "aRhQClHzVqMi",
        "colab_type": "code",
        "colab": {}
      },
      "cell_type": "code",
      "source": [
        "ser_11.rank(ascending=False, method='max')"
      ],
      "execution_count": 0,
      "outputs": []
    },
    {
      "metadata": {
        "id": "yVlw27AHVqMo",
        "colab_type": "text"
      },
      "cell_type": "markdown",
      "source": [
        "DataFrames can rank over rows or columns."
      ]
    },
    {
      "metadata": {
        "id": "9nBIUS1zVqMp",
        "colab_type": "code",
        "colab": {}
      },
      "cell_type": "code",
      "source": [
        "df_13 = DataFrame({'foo' : [7, -5, 7, 4, 2, 0, 4, 7],\n",
        "                   'bar' : [-5, 4, 2, 0, 4, 7, 7, 8],\n",
        "                   'baz' : [-1, 2, 3, 0, 5, 9, 9, 5]})\n",
        "df_13"
      ],
      "execution_count": 0,
      "outputs": []
    },
    {
      "metadata": {
        "id": "xp1vTPGsVqMs",
        "colab_type": "text"
      },
      "cell_type": "markdown",
      "source": [
        "Rank a DataFrame over rows:"
      ]
    },
    {
      "metadata": {
        "id": "8crpyZkvVqMu",
        "colab_type": "code",
        "colab": {}
      },
      "cell_type": "code",
      "source": [
        "df_13.rank()"
      ],
      "execution_count": 0,
      "outputs": []
    },
    {
      "metadata": {
        "id": "f4SK2EpwVqMx",
        "colab_type": "text"
      },
      "cell_type": "markdown",
      "source": [
        "Rank a DataFrame over columns:"
      ]
    },
    {
      "metadata": {
        "id": "3vmlU74SVqMy",
        "colab_type": "code",
        "colab": {}
      },
      "cell_type": "code",
      "source": [
        "df_13.rank(axis=1)"
      ],
      "execution_count": 0,
      "outputs": []
    },
    {
      "metadata": {
        "id": "WjeHx6LLVqM3",
        "colab_type": "text"
      },
      "cell_type": "markdown",
      "source": [
        "## 9. Axis Indexes with Duplicate Values"
      ]
    },
    {
      "metadata": {
        "id": "z20QieDkVqM4",
        "colab_type": "text"
      },
      "cell_type": "markdown",
      "source": [
        "Labels do not have to be unique in Pandas:"
      ]
    },
    {
      "metadata": {
        "id": "NTxlLemxVqM5",
        "colab_type": "code",
        "colab": {}
      },
      "cell_type": "code",
      "source": [
        "ser_12 = Series(range(5), index=['foo', 'foo', 'bar', 'bar', 'baz'])\n",
        "ser_12"
      ],
      "execution_count": 0,
      "outputs": []
    },
    {
      "metadata": {
        "id": "GiwVRejcVqM8",
        "colab_type": "code",
        "colab": {}
      },
      "cell_type": "code",
      "source": [
        "ser_12.index.is_unique"
      ],
      "execution_count": 0,
      "outputs": []
    },
    {
      "metadata": {
        "id": "inKAfFUoVqNA",
        "colab_type": "text"
      },
      "cell_type": "markdown",
      "source": [
        "Select Series elements:"
      ]
    },
    {
      "metadata": {
        "id": "VIS2opqUVqNB",
        "colab_type": "code",
        "colab": {}
      },
      "cell_type": "code",
      "source": [
        "ser_12['foo']"
      ],
      "execution_count": 0,
      "outputs": []
    },
    {
      "metadata": {
        "id": "DAjtm13VVqNL",
        "colab_type": "text"
      },
      "cell_type": "markdown",
      "source": [
        "Select DataFrame elements:"
      ]
    },
    {
      "metadata": {
        "id": "hLAZyJ5aVqNS",
        "colab_type": "code",
        "colab": {}
      },
      "cell_type": "code",
      "source": [
        "df_14 = DataFrame(np.random.randn(5, 4),\n",
        "                  index=['foo', 'foo', 'bar', 'bar', 'baz'])\n",
        "df_14"
      ],
      "execution_count": 0,
      "outputs": []
    },
    {
      "metadata": {
        "id": "3XIfzJIRVqNZ",
        "colab_type": "code",
        "colab": {}
      },
      "cell_type": "code",
      "source": [
        "df_14.ix['bar']"
      ],
      "execution_count": 0,
      "outputs": []
    },
    {
      "metadata": {
        "id": "dtB3FPUEVqNh",
        "colab_type": "text"
      },
      "cell_type": "markdown",
      "source": [
        "## 10. Summarizing and Computing Descriptive Statistics"
      ]
    },
    {
      "metadata": {
        "id": "AsRiusdwVqNk",
        "colab_type": "text"
      },
      "cell_type": "markdown",
      "source": [
        "Unlike NumPy arrays, Pandas descriptive statistics automatically exclude missing data.  NaN values are excluded unless the entire row or column is NA."
      ]
    },
    {
      "metadata": {
        "id": "KEOMbcnqVqNo",
        "colab_type": "code",
        "colab": {}
      },
      "cell_type": "code",
      "source": [
        "df_6"
      ],
      "execution_count": 0,
      "outputs": []
    },
    {
      "metadata": {
        "id": "stqI5fJ8VqN3",
        "colab_type": "code",
        "colab": {}
      },
      "cell_type": "code",
      "source": [
        "df_6.sum()"
      ],
      "execution_count": 0,
      "outputs": []
    },
    {
      "metadata": {
        "id": "La9O5ucUVqN6",
        "colab_type": "text"
      },
      "cell_type": "markdown",
      "source": [
        "Sum over the rows:"
      ]
    },
    {
      "metadata": {
        "id": "qws2o9cAVqN7",
        "colab_type": "code",
        "colab": {}
      },
      "cell_type": "code",
      "source": [
        "df_6.sum(axis=1)"
      ],
      "execution_count": 0,
      "outputs": []
    },
    {
      "metadata": {
        "id": "ZBV0i77cVqN-",
        "colab_type": "text"
      },
      "cell_type": "markdown",
      "source": [
        "Account for NaNs:"
      ]
    },
    {
      "metadata": {
        "id": "7j4aenY2VqN_",
        "colab_type": "code",
        "colab": {}
      },
      "cell_type": "code",
      "source": [
        "df_6.sum(axis=1, skipna=False)"
      ],
      "execution_count": 0,
      "outputs": []
    },
    {
      "metadata": {
        "id": "kqMhV3-fVqOC",
        "colab_type": "text"
      },
      "cell_type": "markdown",
      "source": [
        "## 11. Cleaning Data\n",
        "* Replace\n",
        "* Drop\n",
        "* Concatenate"
      ]
    },
    {
      "metadata": {
        "id": "MFTTmDlcVqOD",
        "colab_type": "code",
        "colab": {}
      },
      "cell_type": "code",
      "source": [
        "from pandas import Series, DataFrame\n",
        "import pandas as pd"
      ],
      "execution_count": 0,
      "outputs": []
    },
    {
      "metadata": {
        "id": "522vqVEkVqOG",
        "colab_type": "text"
      },
      "cell_type": "markdown",
      "source": [
        "Setup a DataFrame:"
      ]
    },
    {
      "metadata": {
        "id": "Q7Zhr3LVVqOH",
        "colab_type": "code",
        "colab": {}
      },
      "cell_type": "code",
      "source": [
        "data_1 = {'state' : ['VA', 'VA', 'VA', 'MD', 'MD'],\n",
        "          'year' : [2012, 2013, 2014, 2014, 2015],\n",
        "          'population' : [5.0, 5.1, 5.2, 4.0, 4.1]}\n",
        "df_15 = DataFrame(data_1)\n",
        "df_15"
      ],
      "execution_count": 0,
      "outputs": []
    },
    {
      "metadata": {
        "id": "ShLfVMjCVqOL",
        "colab_type": "text"
      },
      "cell_type": "markdown",
      "source": [
        "### 11.1 Replace"
      ]
    },
    {
      "metadata": {
        "id": "v6YsVZNBVqOM",
        "colab_type": "text"
      },
      "cell_type": "markdown",
      "source": [
        "Replace all occurrences of a string with another string, in place (no copy):"
      ]
    },
    {
      "metadata": {
        "id": "16tRnhVxVqON",
        "colab_type": "code",
        "colab": {}
      },
      "cell_type": "code",
      "source": [
        "df_15.replace('VA', 'VIRGINIA', inplace=True)\n",
        "df_15"
      ],
      "execution_count": 0,
      "outputs": []
    },
    {
      "metadata": {
        "id": "soCqaH-2VqOP",
        "colab_type": "text"
      },
      "cell_type": "markdown",
      "source": [
        "In a specified column, replace all occurrences of a string with another string, in place (no copy):"
      ]
    },
    {
      "metadata": {
        "id": "NKbZOqIHVqOR",
        "colab_type": "code",
        "colab": {}
      },
      "cell_type": "code",
      "source": [
        "df_15.replace({'state' : { 'MD' : 'MARYLAND' }}, inplace=True)\n",
        "df_15"
      ],
      "execution_count": 0,
      "outputs": []
    },
    {
      "metadata": {
        "id": "1ii64C-_VqOV",
        "colab_type": "text"
      },
      "cell_type": "markdown",
      "source": [
        "### 11.2 Drop"
      ]
    },
    {
      "metadata": {
        "id": "XAjnPzjpVqOW",
        "colab_type": "text"
      },
      "cell_type": "markdown",
      "source": [
        "Drop the 'population' column and return a copy of the DataFrame:"
      ]
    },
    {
      "metadata": {
        "id": "4IY7hAL4VqOX",
        "colab_type": "code",
        "colab": {}
      },
      "cell_type": "code",
      "source": [
        "df_2 = df_15.drop('population', axis=1)\n",
        "df_2"
      ],
      "execution_count": 0,
      "outputs": []
    },
    {
      "metadata": {
        "id": "ySIkM1RKVqOc",
        "colab_type": "text"
      },
      "cell_type": "markdown",
      "source": [
        "### 11.3 Concatenate"
      ]
    },
    {
      "metadata": {
        "id": "WetyYbGuVqOd",
        "colab_type": "text"
      },
      "cell_type": "markdown",
      "source": [
        "Concatenate two DataFrames:"
      ]
    },
    {
      "metadata": {
        "id": "WutEKOrWVqOh",
        "colab_type": "code",
        "colab": {}
      },
      "cell_type": "code",
      "source": [
        "data_2 = {'state' : ['NY', 'NY', 'NY', 'FL', 'FL'],\n",
        "          'year' : [2012, 2013, 2014, 2014, 2015],\n",
        "          'population' : [6.0, 6.1, 6.2, 3.0, 3.1]}\n",
        "df_16 = DataFrame(data_2)\n",
        "df_16"
      ],
      "execution_count": 0,
      "outputs": []
    },
    {
      "metadata": {
        "id": "3wQP-2qEVqOk",
        "colab_type": "code",
        "colab": {}
      },
      "cell_type": "code",
      "source": [
        "df_4 = pd.concat([df_1, df_16])\n",
        "df_4"
      ],
      "execution_count": 0,
      "outputs": []
    },
    {
      "metadata": {
        "id": "aKPMt0WcVqOn",
        "colab_type": "text"
      },
      "cell_type": "markdown",
      "source": [
        "## 12. Input and Output\n",
        "* Reading\n",
        "* Writing"
      ]
    },
    {
      "metadata": {
        "id": "tcMdYwX9VqOt",
        "colab_type": "code",
        "colab": {}
      },
      "cell_type": "code",
      "source": [
        "from pandas import Series, DataFrame\n",
        "import pandas as pd"
      ],
      "execution_count": 0,
      "outputs": []
    },
    {
      "metadata": {
        "id": "stxLgj08VqOz",
        "colab_type": "text"
      },
      "cell_type": "markdown",
      "source": [
        "### 12.1 Reading"
      ]
    },
    {
      "metadata": {
        "id": "__QfdXy8VqO0",
        "colab_type": "text"
      },
      "cell_type": "markdown",
      "source": [
        "Read data from a CSV file into a DataFrame (use sep='\\t' for TSV):"
      ]
    },
    {
      "metadata": {
        "id": "GNUUAGlXVqO1",
        "colab_type": "code",
        "colab": {}
      },
      "cell_type": "code",
      "source": [
        "!pip install wget"
      ],
      "execution_count": 0,
      "outputs": []
    },
    {
      "metadata": {
        "id": "XgsTojcvVqO7",
        "colab_type": "code",
        "colab": {}
      },
      "cell_type": "code",
      "source": [
        "import wget\n",
        "\n",
        "link_to_data = 'https://github.com/tulip-lab/sit742/raw/master/Jupyter/data/ozone.csv'\n",
        "DataSet = wget.download(link_to_data)\n",
        "\n",
        "df_1 = pd.read_csv(\"ozone.csv\")"
      ],
      "execution_count": 0,
      "outputs": []
    },
    {
      "metadata": {
        "id": "2u-z30SjVqO-",
        "colab_type": "text"
      },
      "cell_type": "markdown",
      "source": [
        "Get a summary of the DataFrame:"
      ]
    },
    {
      "metadata": {
        "id": "3s8-j0XUVqO_",
        "colab_type": "code",
        "colab": {}
      },
      "cell_type": "code",
      "source": [
        "df_1.describe()"
      ],
      "execution_count": 0,
      "outputs": []
    },
    {
      "metadata": {
        "id": "xuQkJQRWVqPD",
        "colab_type": "text"
      },
      "cell_type": "markdown",
      "source": [
        "List the first five rows of the DataFrame:"
      ]
    },
    {
      "metadata": {
        "id": "Ft5LyjcpVqPE",
        "colab_type": "code",
        "colab": {}
      },
      "cell_type": "code",
      "source": [
        "df_1.head()"
      ],
      "execution_count": 0,
      "outputs": []
    },
    {
      "metadata": {
        "id": "459fwijLVqPK",
        "colab_type": "text"
      },
      "cell_type": "markdown",
      "source": [
        "### 12.2 Writing"
      ]
    },
    {
      "metadata": {
        "id": "QFrwvcXXVqPM",
        "colab_type": "text"
      },
      "cell_type": "markdown",
      "source": [
        "Create a copy of the CSV file, encoded in UTF-8 and hiding the index and header labels:"
      ]
    },
    {
      "metadata": {
        "id": "YDRmmyMQVqPN",
        "colab_type": "code",
        "colab": {}
      },
      "cell_type": "code",
      "source": [
        "df_1.to_csv('ozone_copy.csv', \n",
        "            encoding='utf-8', \n",
        "            index=False, \n",
        "            header=False)"
      ],
      "execution_count": 0,
      "outputs": []
    },
    {
      "metadata": {
        "id": "NN-n9CzuVqPR",
        "colab_type": "text"
      },
      "cell_type": "markdown",
      "source": [
        "View the data directory:"
      ]
    },
    {
      "metadata": {
        "id": "Bk_B6ZPJVqPS",
        "colab_type": "code",
        "colab": {}
      },
      "cell_type": "code",
      "source": [
        "!ls -l ./"
      ],
      "execution_count": 0,
      "outputs": []
    }
  ]
}