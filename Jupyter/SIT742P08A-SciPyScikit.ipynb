{
  "nbformat": 4,
  "nbformat_minor": 0,
  "metadata": {
    "colab": {
      "name": "SIT742P08A-SciPyScikit.ipynb",
      "version": "0.3.2",
      "provenance": [],
      "collapsed_sections": [
        "pbP50os-1oym",
        "rawzp0b-1oyu",
        "O_7cQ8-41oyy",
        "8pNsUeVX1ozP",
        "FjE9FtwG1ozX",
        "dgcxHC9f1ozb",
        "_EevVYgD1o0B"
      ]
    },
    "language_info": {
      "mimetype": "text/x-python",
      "nbconvert_exporter": "python",
      "version": "3.5.5",
      "name": "python",
      "file_extension": ".py",
      "pygments_lexer": "ipython3",
      "codemirror_mode": {
        "version": 3,
        "name": "ipython"
      }
    },
    "kernelspec": {
      "display_name": "Python 3.5",
      "name": "python3",
      "language": "python"
    }
  },
  "cells": [
    {
      "metadata": {
        "id": "uoHi_bsA1oyH",
        "colab_type": "text"
      },
      "cell_type": "markdown",
      "source": [
        "# SIT742: Modern Data Science \n",
        "**(Week 08: Data Analytics (I))**\n",
        "\n",
        "---\n",
        "- Materials in this module include resources collected from various open-source online repositories.\n",
        "- You are free to use, change and distribute this package.\n",
        "- If you found any issue/bug for this document, please submit an issue at [tulip-lab/sit742](https://github.com/tulip-lab/sit742/issues)\n",
        "\n",
        "Prepared by **SIT742 Teaching Team**\n",
        "\n",
        "---\n",
        "\n",
        "\n",
        "## Session 8A - SciPy and Scikit-Learn\n",
        "\n",
        "**The purpose of this session is to illustrate**\n",
        "\n",
        "1. How to test installed Numpy and Scikit-Learn packages\n",
        "2. How to use scikit-lean to load datasets and examine their properties, getting ready for ML tasks.\n",
        "\n",
        "** References and additional reading and resources**\n",
        "- [Installing scikit-learn](http://scikit-learn.org/stable/install.html)\n",
        "- [Lectures on scientific computing with Python](https://github.com/jrjohansson/scientific-python-lectures)\n"
      ]
    },
    {
      "metadata": {
        "id": "tvXq4MQM1oyK",
        "colab_type": "text"
      },
      "cell_type": "markdown",
      "source": [
        "##  Scipy: Scientific Computing Tools for Python\n",
        "\n",
        "<!--span style=\"color:#0b486b\">3. Scipy: Scientific Computing Tools for Python</span-->"
      ]
    },
    {
      "metadata": {
        "id": "tXzoj_DL1oyK",
        "colab_type": "text"
      },
      "cell_type": "markdown",
      "source": [
        "[SciPy](https://www.scipy.org) (pronounced “Sigh Pie”) is a Python-based ecosystem of open-source software for mathematics, science, and engineering. In particular, the SciPy ecosystem these are some of the core packages:\n",
        "\n",
        "- Numpy: a base N-dimensional array package\n",
        "- Matplotlib: a package that allows you to create charts and plots from data.\n",
        "- Pandas: tools and data structures to organize and analyze your data.\n",
        "- SciPy library: a fundamental library for scientific computing such as optimization.\n",
        "\n",
        "All of these packages are pre-installed when you install the Anaconda. You can check the availibility and versions of above packages as follows:"
      ]
    },
    {
      "metadata": {
        "id": "-VuVY9Xa1oyM",
        "colab_type": "code",
        "colab": {}
      },
      "cell_type": "code",
      "source": [
        "# scipy\n",
        "import scipy\n",
        "print('The scipy version is {}'.format(scipy.__version__))\n",
        "\n",
        "# numpy\n",
        "import numpy\n",
        "print(\"The numpy version is {}.\".format(numpy.__version__))\n",
        "\n",
        "# matplotlib\n",
        "import matplotlib\n",
        "print('The matplotlib version is {}'.format(matplotlib.__version__))\n",
        "\n",
        "# pandas\n",
        "import pandas\n",
        "print('The pandas version is {}'.format(pandas.__version__))"
      ],
      "execution_count": 0,
      "outputs": []
    },
    {
      "metadata": {
        "id": "xonu02Yk1oyQ",
        "colab_type": "text"
      },
      "cell_type": "markdown",
      "source": [
        "We now briefly go through these packages to know NumPy, Matplotlib and Pandas to read and write machine learning Python\n",
        "scripts."
      ]
    },
    {
      "metadata": {
        "id": "YqWY1Kgy1oyR",
        "colab_type": "text"
      },
      "cell_type": "markdown",
      "source": [
        "## Numpy<!--3.1 Numpy-->"
      ]
    },
    {
      "metadata": {
        "id": "75TNI5pj1oyS",
        "colab_type": "text"
      },
      "cell_type": "markdown",
      "source": [
        "[Numpy](http://www.numpy.org/) is the core library for scientific computing in Python. It provides a high-performance multidimensional array object, and tools for working with these arrays. Numpy is a pre-built package included in Anaconda 3. You only need to import to use the package."
      ]
    },
    {
      "metadata": {
        "id": "Hivfotzi1oyS",
        "colab_type": "text"
      },
      "cell_type": "markdown",
      "source": [
        "\n",
        "###  Arrays<!--3.1.1 Arrays-->\n",
        "A numpy array is a grid of values, all of the same type, and is indexed by a tuple of nonnegative integers. The number of dimensions is the <em>rank</em> of the array; the <em>shape</em> of an array is a tuple of integers giving the size of the array along each dimension.\n",
        "You can initialize numpy arrays from nested Python lists or use pre-defined functions to create arrays"
      ]
    },
    {
      "metadata": {
        "id": "ZxjKPwO21oyT",
        "colab_type": "code",
        "colab": {}
      },
      "cell_type": "code",
      "source": [
        "import numpy as np\n",
        "\n",
        "\n",
        "a = np.array([1, 2, 3])   # Create a rank 1 array\n",
        "b = np.array([[1,2,3],[4,5,6]])    # Create a rank 2 array\n",
        "\n",
        "print(\"Arrays are created from nested Python lists\\n\")\n",
        "\n",
        "print(\"The data type of a is {}\".format(type(a)))          \n",
        "print(\"The shape of a is {}.\".format(a.shape))    \n",
        "\n",
        "print(\"The shape of a is {}.\".format(b.shape))               \n",
        "\n",
        "print(\"\\nArrays are created with pre-defined functions\\n\")\n",
        "\n",
        "c = np.zeros((3,2))   # Create an array of all zeros\n",
        "print(\"An all-zero array\\n\")\n",
        "print(c)           \n",
        "\n",
        "d = np.ones((3,2))    # Create an array of all ones\n",
        "print(\"\\nAn all ones array\\n\")\n",
        "print(d)\n",
        "\n",
        "e = np.full((2,2), 7)  # Create a constant array\n",
        "print(\"\\nA constant \\n\")\n",
        "print(e)\n",
        "\n",
        "f = np.eye(2)         # Create a 2x2 identity matrix\n",
        "print(\"\\nA 2x2 identity  array\\n\")\n",
        "print(f)      "
      ],
      "execution_count": 0,
      "outputs": []
    },
    {
      "metadata": {
        "id": "9JwCfwdw1oyV",
        "colab_type": "text"
      },
      "cell_type": "markdown",
      "source": [
        "###  Array indexing<!--3.1.2  Array indexing-->\n",
        "Numpy offers several ways to index into arrays.\n",
        "\n",
        "<strong>Slicing:</strong>Numpy arrays can be sliced. Since arrays may be multidimensional, you must specify a slice for each dimension of the array:"
      ]
    },
    {
      "metadata": {
        "id": "wZ082lAW1oyW",
        "colab_type": "code",
        "colab": {}
      },
      "cell_type": "code",
      "source": [
        "import numpy as np\n",
        "\n",
        "a = np.array([[1,2,3,4], [5,6,7,8], [9,10,11,12]])\n",
        "\n",
        "# Slice the subarray consisting of the first 2 rows and columns 1 and 2; \n",
        "b = a[:2, 1:3]\n",
        "\n",
        "# A slice of an array is a view into the same data, so modifying it\n",
        "# will modify the original array.\n",
        "\n",
        "print(a[0, 1])   \n",
        "b[0, 0] = 77     # b[0, 0] is the same piece of data as a[0, 1]\n",
        "print(a[0, 1])   "
      ],
      "execution_count": 0,
      "outputs": []
    },
    {
      "metadata": {
        "id": "AaMR7oWE1oya",
        "colab_type": "text"
      },
      "cell_type": "markdown",
      "source": [
        "You can also mix integer indexing with slice indexing to  yield an array of lower rank than the original array."
      ]
    },
    {
      "metadata": {
        "id": "-K4qVzUJ1oya",
        "colab_type": "code",
        "colab": {}
      },
      "cell_type": "code",
      "source": [
        "row_r1 = a[1, :]    # Rank 1 view of the second row of a\n",
        "print(row_r1, row_r1.shape) \n",
        "\n",
        "# We can make the same distinction when accessing columns of an array:\n",
        "col_r1 = a[:, 1]\n",
        "print(col_r1, col_r1.shape)  \n"
      ],
      "execution_count": 0,
      "outputs": []
    },
    {
      "metadata": {
        "id": "H_Ey7iVQ1oyd",
        "colab_type": "text"
      },
      "cell_type": "markdown",
      "source": [
        "<strong>Integer array indexing:</strong> When you index into numpy arrays using slicing, the resulting array view will always be a subarray of the original array. In contrast, integer array indexing allows you to construct arbitrary arrays using the data from another array. Here is an example:"
      ]
    },
    {
      "metadata": {
        "id": "v9av-kkG1oyd",
        "colab_type": "code",
        "colab": {}
      },
      "cell_type": "code",
      "source": [
        "print(a) \n",
        "\n",
        "\n",
        "# The returned array will have shape (3,) by choosing elements \n",
        "# at [0,1],[1,1], and [2,0]\n",
        "print(a[[0, 1, 2], [0, 1, 0]])\n",
        "\n",
        "# The above example of integer array indexing is equivalent to this:\n",
        "print(np.array([a[0, 0], a[1, 1], a[2, 0]]))\n",
        "\n",
        "# When using integer array indexing, you can reuse the same\n",
        "# element from the source array:\n",
        "print(a[[0, 0], [1, 1]])  # Prints \"[2 2]\"\n",
        "\n",
        "# Equivalent to the previous integer array indexing example\n",
        "print(np.array([a[0, 1], a[0, 1]])) "
      ],
      "execution_count": 0,
      "outputs": []
    },
    {
      "metadata": {
        "id": "Sr0I34Ly1oyg",
        "colab_type": "text"
      },
      "cell_type": "markdown",
      "source": [
        "<strong>Boolean array indexing:</strong> Boolean array indexing lets you pick out arbitrary elements of an array. Frequently this type of indexing is used to select the elements of an array that satisfy some condition. Here is an example:"
      ]
    },
    {
      "metadata": {
        "id": "3CvLyEK21oyh",
        "colab_type": "code",
        "colab": {}
      },
      "cell_type": "code",
      "source": [
        "# Find the elements of a that are bigger than 2;this returns a \n",
        "# numpy array of Booleans of the same shape as a, where each \n",
        "# slot of bool_idx tells whether that element of a is > 5.\n",
        "\n",
        "bool_idx = (a > 5)  \n",
        "print(bool_idx)     \n",
        "\n",
        "# We use boolean array indexing to construct a rank 1 array consisting \n",
        "# of the elements of a corresponding to the True values of bool_idx\n",
        "print(a[bool_idx])  \n",
        "\n",
        "# We can do all of the above in a single concise statement:\n",
        "print(a[a > 5])"
      ],
      "execution_count": 0,
      "outputs": []
    },
    {
      "metadata": {
        "id": "ZdhJclk71oyk",
        "colab_type": "text"
      },
      "cell_type": "markdown",
      "source": [
        "You can refer to [indexing documentation](https://docs.scipy.org/doc/numpy/reference/arrays.indexing.html) for further details about numpy array indexing."
      ]
    },
    {
      "metadata": {
        "id": "pbP50os-1oym",
        "colab_type": "text"
      },
      "cell_type": "markdown",
      "source": [
        "### Array math operations <!--3.1.3  Array math operations-->\n",
        "\n",
        "Basic mathematical functions operate elementwise on arrays, and are available both as operator overloads and as functions in the numpy module:\n",
        "\n"
      ]
    },
    {
      "metadata": {
        "id": "8pVxg3YD1oym",
        "colab_type": "code",
        "colab": {}
      },
      "cell_type": "code",
      "source": [
        "x = np.array([[1,2],[3,4]], dtype=np.float64)\n",
        "y = np.array([[5,6],[7,8]], dtype=np.float64)\n",
        "\n",
        "print(\"Elementwise sum; both produce the array\")\n",
        "print(x + y)\n",
        "print(np.add(x, y))\n",
        "\n",
        "print(\"Elementwise difference; both produce the array\")\n",
        "print(x - y)\n",
        "print(np.subtract(x, y))\n",
        "\n",
        "print(\"Elementwise product; both produce the array\")\n",
        "print(x * y)\n",
        "print(np.multiply(x, y))\n",
        "\n",
        "print(\"Elementwise division; both produce the array\")\n",
        "print(x / y)\n",
        "print(np.divide(x, y))\n",
        "\n",
        "print(\"Elementwise square root; produces the array\")\n",
        "print(np.sqrt(x))"
      ],
      "execution_count": 0,
      "outputs": []
    },
    {
      "metadata": {
        "id": "SfBSDGmw1oyp",
        "colab_type": "text"
      },
      "cell_type": "markdown",
      "source": [
        "To execute matrix multiplication,  We instead use the <kbd>dot</kbd> function to compute inner products of vectors, to multiply a vector by a matrix, and to multiply matrices. <kbd>dot</kbd> is available both as a function in the numpy module and as an instance method of array objects: "
      ]
    },
    {
      "metadata": {
        "scrolled": true,
        "id": "br6qNrvq1oyq",
        "colab_type": "code",
        "colab": {}
      },
      "cell_type": "code",
      "source": [
        "v = np.array([9,10])\n",
        "w = np.array([11, 12])\n",
        "\n",
        "# Inner product of vectors; both produce 219\n",
        "print(v.dot(w))\n",
        "print(np.dot(v, w))\n",
        "\n",
        "# Matrix / vector product; both produce the rank 1 array [29 67]\n",
        "print(x.dot(v))\n",
        "\n",
        "# print(np.dot(x, v))\n",
        "\n",
        "# Matrix / matrix product; both produce the rank 2 array\n",
        "print(x.dot(y))\n",
        "#print(np.dot(x, y))"
      ],
      "execution_count": 0,
      "outputs": []
    },
    {
      "metadata": {
        "id": "NFj-lmNp1oys",
        "colab_type": "text"
      },
      "cell_type": "markdown",
      "source": [
        "Numpy provides many useful functions for performing computations on arrays; Some useful function are <kbd>sum</kbd>, transpose <kbd>T</kbd>. The full list of mathematical functions provided by numpy in [the documentation](https://docs.scipy.org/doc/numpy/reference/routines.math.html). More functions for manipulating arrays can be found in [the documentation](https://docs.scipy.org/doc/numpy/reference/routines.array-manipulation.html)."
      ]
    },
    {
      "metadata": {
        "scrolled": true,
        "id": "N3lqtBxb1oys",
        "colab_type": "code",
        "colab": {}
      },
      "cell_type": "code",
      "source": [
        "x = np.array([[1,2],[3,4]])\n",
        "print(np.sum(x))  # Compute sum of all elements\n",
        "print(np.sum(x, axis=0))  # Compute sum of each column\n",
        "print(np.sum(x, axis=1))  # Compute sum of each row\n",
        "\n",
        "print(x.T)  "
      ],
      "execution_count": 0,
      "outputs": []
    },
    {
      "metadata": {
        "id": "rawzp0b-1oyu",
        "colab_type": "text"
      },
      "cell_type": "markdown",
      "source": [
        "### Broadcasting <!--3.1.4 Broadcasting-->\n",
        "Broadcasting is a powerful mechanism that allows numpy to work with arrays of different shapes when performing arithmetic operations. Frequently we have a smaller array and a larger array, and we want to use the smaller array multiple times to perform some operation on the larger array.\n",
        "For example, suppose that we want to add a constant vector to each row of a matrix. We could do it like this:\n",
        "\n"
      ]
    },
    {
      "metadata": {
        "scrolled": true,
        "id": "ulvHVd421oyv",
        "colab_type": "code",
        "colab": {}
      },
      "cell_type": "code",
      "source": [
        "x = np.array([[1,2,3], [4,5,6], [7,8,9], [10, 11, 12]])\n",
        "v = np.array([1, 0, 1])\n",
        "\n",
        "y=x+v\n",
        "print(y)"
      ],
      "execution_count": 0,
      "outputs": []
    },
    {
      "metadata": {
        "id": "OLaG7E1p1oyy",
        "colab_type": "text"
      },
      "cell_type": "markdown",
      "source": [
        "Broadcasting two arrays together follows these rules:\n",
        "\n",
        "1. If the arrays do not have the same rank, prepend the shape of the lower rank array with 1s until both shapes have the same length.\n",
        "2. The two arrays are said to be compatible in a dimension if they have the same size in the dimension, or if one of the arrays has size 1 in that dimension.\n",
        "3. The arrays can be broadcast together if they are compatible in all dimensions.\n",
        "4. After broadcasting, each array behaves as if it had shape equal to the elementwise maximum of shapes of the two input arrays.\n",
        "5. In any dimension where one array had size 1 and the other array had size greater than 1, the first array behaves as if it were copied along that dimension\n",
        "\n",
        "More explanation for broadcasting arrays can be found in [the documentation](https://docs.scipy.org/doc/numpy/user/basics.broadcasting.html)."
      ]
    },
    {
      "metadata": {
        "id": "O_7cQ8-41oyy",
        "colab_type": "text"
      },
      "cell_type": "markdown",
      "source": [
        "### Numpy Excercises"
      ]
    },
    {
      "metadata": {
        "id": "kIbYeOoP1oyz",
        "colab_type": "text"
      },
      "cell_type": "markdown",
      "source": [
        "**<span style=\"color:red\"> Exercise 1: </span>** : *<span style=\"color:#0b486b\"> Create a vector with values ranging from 10 to 20 (inclusive) then reverse that vector (the first element becomes the last)  </span>*.\n"
      ]
    },
    {
      "metadata": {
        "id": "Tr7Z0nRd1oy0",
        "colab_type": "code",
        "colab": {}
      },
      "cell_type": "code",
      "source": [
        "# enter your own codes here"
      ],
      "execution_count": 0,
      "outputs": []
    },
    {
      "metadata": {
        "id": "0ur7qo1r1oy2",
        "colab_type": "text"
      },
      "cell_type": "markdown",
      "source": [
        "<details><summary><font color=\"blue\"><b>Click here for solutions to exercise</b></font></summary>\n",
        "```python\n",
        "import numpy as np\n",
        "x = np.arange(10,50) \n",
        "print(x)  \n",
        "x = np.arange(50) \n",
        "x = x[::-1] \n",
        "print(x)\n",
        "```"
      ]
    },
    {
      "metadata": {
        "id": "g3h9urza1oy2",
        "colab_type": "text"
      },
      "cell_type": "markdown",
      "source": [
        "**<span style=\"color:red\"> Exercise 2: </span>** : *<span style=\"color:#0b486b\"> Create random vector of size 10, print the maximum value and its index, and replace that value by 0  </span>*.\n",
        "Hint: Using *max* and *argmax* functions"
      ]
    },
    {
      "metadata": {
        "id": "_g67Pzt_1oy3",
        "colab_type": "code",
        "colab": {}
      },
      "cell_type": "code",
      "source": [
        "# enter your own codes here"
      ],
      "execution_count": 0,
      "outputs": []
    },
    {
      "metadata": {
        "id": "BWfJUcOx1oy6",
        "colab_type": "text"
      },
      "cell_type": "markdown",
      "source": [
        "<details><summary><font color=\"blue\"><b>Click here for solutions to exercise</b></font></summary>\n",
        "```python\n",
        "x = np.random.random(10) \n",
        "print(x.max()) \n",
        "print(x.argmax()) \n",
        "x[x.argmax()] = 0 \n",
        "print(x) \n",
        "```"
      ]
    },
    {
      "metadata": {
        "id": "IawobO-c1oy7",
        "colab_type": "text"
      },
      "cell_type": "markdown",
      "source": [
        "**<span style=\"color:red\"> Exercise 3: </span>** : *<span style=\"color:#0b486b\"> Given two vectors: ages and heights as follows:   </span>*"
      ]
    },
    {
      "metadata": {
        "id": "wvlIE8vL1oy8",
        "colab_type": "code",
        "colab": {}
      },
      "cell_type": "code",
      "source": [
        "ages = np.random.randint(low=20, high=60, size=10)\n",
        "heights = np.random.randint(low=150, high=200, size=10)\n",
        "print(ages)\n",
        "print(heights)"
      ],
      "execution_count": 0,
      "outputs": []
    },
    {
      "metadata": {
        "id": "orGOXQQX1ozA",
        "colab_type": "text"
      },
      "cell_type": "markdown",
      "source": [
        "*<span style=\"color:#0b486b\"> Order(ascendingly) the people according to their age and print their corresponding heights. </span>* Hints: using *argsort* function."
      ]
    },
    {
      "metadata": {
        "id": "Cjy33fLQ1ozB",
        "colab_type": "code",
        "colab": {}
      },
      "cell_type": "code",
      "source": [
        "# enter your own codes here"
      ],
      "execution_count": 0,
      "outputs": []
    },
    {
      "metadata": {
        "id": "8RdA_mW11ozF",
        "colab_type": "text"
      },
      "cell_type": "markdown",
      "source": [
        "<details><summary><font color=\"blue\"><b>Click here for solutions to exercise</b></font></summary>\n",
        "```python\n",
        "ages = np.random.randint(low=20, high=60, size=10)\n",
        "heights = np.random.randint(low=150, high=200, size=10)\n",
        "print(ages)\n",
        "print(heights)\n",
        "```"
      ]
    },
    {
      "metadata": {
        "id": "EKMFjAkE1ozG",
        "colab_type": "text"
      },
      "cell_type": "markdown",
      "source": [
        "## Matplotlib <!--3.2 Matplotlib-->"
      ]
    },
    {
      "metadata": {
        "id": "4T8M1Nk31ozH",
        "colab_type": "text"
      },
      "cell_type": "markdown",
      "source": [
        "Matplotlib can be used for creating plots and charts. The library is generally used as follows:\n",
        "- Call a plotting function with some data (e.g. .plot()).\n",
        "- Call many functions to setup the properties of the plot (e.g. labels and colors).\n",
        "- Make the plot visible (e.g. .show()).\n",
        "\n",
        "You can create a simple line plot from one dimensional data as follows:"
      ]
    },
    {
      "metadata": {
        "id": "C3hgVUIc1ozI",
        "colab_type": "code",
        "colab": {}
      },
      "cell_type": "code",
      "source": [
        "# basic line plot\n",
        "import matplotlib.pyplot as plt\n",
        "import numpy\n",
        "myarray = numpy.array([1, 2, 3])\n",
        "plt.plot(myarray)\n",
        "plt.xlabel('X axis')\n",
        "plt.ylabel('Y axis')\n",
        "plt.show()"
      ],
      "execution_count": 0,
      "outputs": []
    },
    {
      "metadata": {
        "id": "lp7UDGrV1ozL",
        "colab_type": "text"
      },
      "cell_type": "markdown",
      "source": [
        "You also can creat a scatter plot from two dimensional data."
      ]
    },
    {
      "metadata": {
        "id": "V2WKW0Cp1ozM",
        "colab_type": "code",
        "colab": {}
      },
      "cell_type": "code",
      "source": [
        "# basic scatter plot\n",
        "import matplotlib.pyplot as plt\n",
        "import numpy\n",
        "x = numpy.array([1, 2, 3])\n",
        "y = numpy.array([2, 4, 6])\n",
        "plt.scatter(x,y)\n",
        "plt.xlabel('X axis')\n",
        "plt.ylabel('Y axis')\n",
        "plt.show()"
      ],
      "execution_count": 0,
      "outputs": []
    },
    {
      "metadata": {
        "id": "cVEoo0ew1ozP",
        "colab_type": "text"
      },
      "cell_type": "markdown",
      "source": [
        "There are many more plot types and many more properties that can be set on a plot. See [matplotlib for beginner](http://matplotlib.org/users/beginner.html) and [examples](https://matplotlib.org/examples/index.html) to learn more about the Matplotlib API."
      ]
    },
    {
      "metadata": {
        "id": "8pNsUeVX1ozP",
        "colab_type": "text"
      },
      "cell_type": "markdown",
      "source": [
        "### Matplotlib Excercises"
      ]
    },
    {
      "metadata": {
        "id": "mrpWfrW51ozQ",
        "colab_type": "text"
      },
      "cell_type": "markdown",
      "source": [
        "**<span style=\"color:red\"> Exercise 1: </span>** : *<span style=\"color:#0b486b\"> Create a plot of  [sigmoid function](https://en.wikipedia.org/wiki/Sigmoid_function) on the interval  [−6,6]  using 256 points. Remember to label the axes! In the following code, we give you the code for sigmoid function.\n",
        "</span>*. Hint: using the *linspace* function in numpy to create array values for x axis.\n"
      ]
    },
    {
      "metadata": {
        "scrolled": true,
        "id": "GvbklH7d1ozQ",
        "colab_type": "code",
        "colab": {}
      },
      "cell_type": "code",
      "source": [
        "import numpy as np\n",
        "import matplotlib.pyplot as plt\n",
        "\n",
        "# def sigmoid(x,a,b):\n",
        "# # sigmoid function with parameters a = center; b = width\n",
        "#     return 1/(1+np.exp(-(x-a)/b))\n",
        "\n",
        "def sigmoid(x):\n",
        "    return 1/(1+np.exp(-x))\n"
      ],
      "execution_count": 0,
      "outputs": []
    },
    {
      "metadata": {
        "id": "uREXCyh-1ozS",
        "colab_type": "code",
        "colab": {}
      },
      "cell_type": "code",
      "source": [
        "# Enter you code here           "
      ],
      "execution_count": 0,
      "outputs": []
    },
    {
      "metadata": {
        "id": "GOiw45mz1ozV",
        "colab_type": "text"
      },
      "cell_type": "markdown",
      "source": [
        "<details><summary><font color=\"blue\"><b>Click here for solutions to exercise</b></font></summary>\n",
        "```python\n",
        "x = np.linspace(-6,6,256) \n",
        "y = sigmoid(x)  \n",
        "plt.plot(x,y) \n",
        "plt.xlabel('X') \n",
        "plt.ylabel('Y') \n",
        "plt.show() \n",
        "```"
      ]
    },
    {
      "metadata": {
        "id": "-wiYKl8P1ozV",
        "colab_type": "text"
      },
      "cell_type": "markdown",
      "source": [
        "## Pandas <!--3.3 Pandas-->"
      ]
    },
    {
      "metadata": {
        "id": "yYAVNZCO1ozW",
        "colab_type": "text"
      },
      "cell_type": "markdown",
      "source": [
        "Pandas provides data structures and functionality to quickly manipulate and analyze data. The\n",
        "key to understanding Pandas for machine learning is understanding the **Series** and **DataFrame**\n",
        "data structures."
      ]
    },
    {
      "metadata": {
        "id": "FjE9FtwG1ozX",
        "colab_type": "text"
      },
      "cell_type": "markdown",
      "source": [
        "### Series <!--3.3.1 Series-->\n",
        "A series is a one dimensional array of data where the rows are labeled using a time axis. You can access the data in a series like a NumPy array or like a dictionary.\n"
      ]
    },
    {
      "metadata": {
        "id": "JvTUbCu71ozY",
        "colab_type": "code",
        "colab": {}
      },
      "cell_type": "code",
      "source": [
        "# series\n",
        "import numpy\n",
        "import pandas\n",
        "myarray = numpy.array([1, 2, 3])\n",
        "rownames = ['a', 'b', 'c']\n",
        "myseries = pandas.Series(myarray, index=rownames)\n",
        "print(myseries)\n",
        "\n",
        "print(myseries[0])\n",
        "print(myseries['a'])"
      ],
      "execution_count": 0,
      "outputs": []
    },
    {
      "metadata": {
        "id": "dgcxHC9f1ozb",
        "colab_type": "text"
      },
      "cell_type": "markdown",
      "source": [
        "### DataFrame <!--3.3.2 DataFrame-->\n",
        "A data frame is a multi-dimensional array where the rows and the columns can be labeled.A data frame can be indexed using column names."
      ]
    },
    {
      "metadata": {
        "id": "3hf6LMBB1ozc",
        "colab_type": "code",
        "colab": {}
      },
      "cell_type": "code",
      "source": [
        "# dataframe\n",
        "import numpy\n",
        "import pandas\n",
        "myarray = numpy.array([[1, 2, 3], [4, 5, 6]])\n",
        "rownames = ['a', 'b']\n",
        "colnames = ['one', 'two', 'three']\n",
        "mydataframe = pandas.DataFrame(myarray, index=rownames, columns=colnames)\n",
        "print(mydataframe)\n",
        "\n",
        "print(\"method 1:\")\n",
        "print(\"one column:\\n%s\" % mydataframe['one'])\n",
        "\n",
        "print(\"method 2:\")\n",
        "print(\"one column:\\n%s\" % mydataframe.one)"
      ],
      "execution_count": 0,
      "outputs": []
    },
    {
      "metadata": {
        "id": "_brI8IPm1oze",
        "colab_type": "text"
      },
      "cell_type": "markdown",
      "source": [
        "Examples for manipulation with data using can be found at [Pandas cookbook](http://pandas.pydata.org/pandas-docs/stable/cookbook.html) which provides many short and nice examples."
      ]
    },
    {
      "metadata": {
        "id": "XjT_w22b1ozf",
        "colab_type": "text"
      },
      "cell_type": "markdown",
      "source": [
        "## Scipy <!--3.4 Scipy-->"
      ]
    },
    {
      "metadata": {
        "id": "Cp-ScAHI1ozf",
        "colab_type": "text"
      },
      "cell_type": "markdown",
      "source": [
        "Optimization (finding minima or maxima of a function) is a package which is usual used in machine learning. Here we will only look at a few very simple cases.\n",
        "\n",
        "To use the optimization module in scipy first include the optimize module:"
      ]
    },
    {
      "metadata": {
        "id": "o9WOomDh1ozg",
        "colab_type": "code",
        "colab": {}
      },
      "cell_type": "code",
      "source": [
        "from scipy import optimize\n"
      ],
      "execution_count": 0,
      "outputs": []
    },
    {
      "metadata": {
        "id": "VCocmpmC1ozi",
        "colab_type": "text"
      },
      "cell_type": "markdown",
      "source": [
        "Let's first look at how to find the minima of a simple function of a single variable:"
      ]
    },
    {
      "metadata": {
        "id": "Ikdi_K5D1ozi",
        "colab_type": "code",
        "colab": {}
      },
      "cell_type": "code",
      "source": [
        "def f(x):\n",
        "    return 4*x**3 + (x-2)**2 + x**4"
      ],
      "execution_count": 0,
      "outputs": []
    },
    {
      "metadata": {
        "id": "o03eeHuz1ozm",
        "colab_type": "text"
      },
      "cell_type": "markdown",
      "source": [
        "which can be plotted as "
      ]
    },
    {
      "metadata": {
        "id": "Lu6uejZt1ozm",
        "colab_type": "code",
        "colab": {}
      },
      "cell_type": "code",
      "source": [
        "import numpy as np\n",
        "import matplotlib.pyplot as plt\n",
        "\n",
        "fig, ax  = plt.subplots()\n",
        "x = np.linspace(-5, 3, 100)\n",
        "ax.plot(x, f(x))\n",
        "plt.show()\n"
      ],
      "execution_count": 0,
      "outputs": []
    },
    {
      "metadata": {
        "id": "zBfumkug1ozp",
        "colab_type": "text"
      },
      "cell_type": "markdown",
      "source": [
        "We can use the *fmin_bfgs* function to find the minima of a function:\n",
        "\n"
      ]
    },
    {
      "metadata": {
        "id": "tQg7C9py1ozp",
        "colab_type": "code",
        "colab": {}
      },
      "cell_type": "code",
      "source": [
        "x_min = optimize.fmin_bfgs(f, -2)\n",
        "print(x_min )"
      ],
      "execution_count": 0,
      "outputs": []
    },
    {
      "metadata": {
        "id": "vhI0NrAh1ozs",
        "colab_type": "text"
      },
      "cell_type": "markdown",
      "source": [
        "For a more detailed introduction to optimization with SciPy see: [Scipy Optimization](http://scipy-lectures.github.com/advanced/mathematical_optimization/index.html)"
      ]
    },
    {
      "metadata": {
        "id": "PAyCVcLB1ozt",
        "colab_type": "text"
      },
      "cell_type": "markdown",
      "source": [
        "---\n",
        "# Install and Get Started with Scikit-Learn<!--span style=\"color:#0b486b\">4. Install and Get Started with Scikit-Learn</span-->"
      ]
    },
    {
      "metadata": {
        "id": "p1qJMxqX1ozt",
        "colab_type": "code",
        "colab": {}
      },
      "cell_type": "code",
      "source": [
        "import sklearn\n",
        "\n",
        "print(\"The scikit-learn version is {}.\".format(sklearn.__version__))\n"
      ],
      "execution_count": 0,
      "outputs": []
    },
    {
      "metadata": {
        "id": "r0MCpn9Y1ozv",
        "colab_type": "text"
      },
      "cell_type": "markdown",
      "source": [
        "## A brief introduction Scikit-Learn<!--4.3 A brief introduction Scikit-Learn-->\n",
        "\n",
        "\n",
        "[Scikit-Learn](http://github.com/scikit-learn/scikit-learn) is a Python package designed to give access to **well-known** machine learning algorithms within Python code, through a **clean, well-thought-out API**. It has been built by hundreds of contributors from around the world, and is used across industry and academia.\n",
        "\n",
        "Scikit-Learn is built upon Python's [NumPy (Numerical Python)](http://numpy.org) and [SciPy (Scientific Python)](http://scipy.org) libraries, which enable efficient in-core numerical and scientific computation within Python. As such, scikit-learn is not specifically designed for extremely large datasets, though there is [some work](https://github.com/ogrisel/parallel_ml_tutorial) in this area.\n",
        "\n",
        "###  Dataset in Scikit-learn <!--span style=\"color:#0b486b\">Dataset in Scikit-learn</span-->\n",
        "\n",
        "Machine learning is about creating models from data: for that reason, we'll start by\n",
        "discussing how data can be represented in order to be understood by the computer.  Along\n",
        "with this, we'll build on our matplotlib examples from the previous section and show some\n",
        "examples of how to visualize data.\n",
        "\n",
        "Most machine learning algorithms implemented in scikit-learn expect data to be stored in a\n",
        "**two-dimensional array or matrix**.  The arrays can be\n",
        "either ``numpy`` arrays, or in some cases ``scipy.sparse`` matrices.\n",
        "The size of the array is expected to be `[n_samples, n_features]`\n",
        "\n",
        "- **n_samples:**   The number of samples: each sample is an item to process (e.g. classify).\n",
        "  A sample can be a document, a picture, a sound, a video, an astronomical object,\n",
        "  a row in database or CSV file,\n",
        "  or whatever you can describe with a fixed set of quantitative traits.\n",
        "- **n_features:**  The number of features or distinct traits that can be used to describe each\n",
        "  item in a quantitative manner.  Features are generally real-valued, but may be boolean or\n",
        "  discrete-valued in some cases.\n",
        "\n",
        "The number of features must be fixed in advance. However it can be very high dimensional\n",
        "(e.g. millions of features) with most of them being zeros for a given sample. This is a case\n",
        "where `scipy.sparse` matrices can be useful, in that they are\n",
        "much more memory-efficient than numpy arrays.\n",
        "\n",
        "Scikit-Learn package include several datasets that you can load and start playing with them. You can consult with the documentation for details of the provided datasets. "
      ]
    },
    {
      "metadata": {
        "id": "azkUMTAq1ozv",
        "colab_type": "text"
      },
      "cell_type": "markdown",
      "source": [
        "---\n",
        "**For example, let's look at the [iris dataset.](http://scikit-learn.org/stable/auto_examples/datasets/plot_iris_dataset.html) whose description and historical context can further be found [here](https://en.wikipedia.org/wiki/Iris_flower_data_set)**\n",
        "\n",
        "*<span style=\"color:#0b486b\">First, we use the command `from sklearn import datasets` to import existing datasets which have been prepared in advance from scikit-learn package as well its loading utilities. </span>*"
      ]
    },
    {
      "metadata": {
        "id": "WkOrfgUE1ozw",
        "colab_type": "code",
        "colab": {}
      },
      "cell_type": "code",
      "source": [
        "from sklearn import datasets"
      ],
      "execution_count": 0,
      "outputs": []
    },
    {
      "metadata": {
        "id": "gCB2Vx2j1ozy",
        "colab_type": "text"
      },
      "cell_type": "markdown",
      "source": [
        "*<span style=\"color:#0b486b\"> The following commands then load the iris dataset, examine its structure, description, data and so forth. You are highly encouraged to spend time to get familiar with the syntax and properties of the data, such as examining the values of 'target_names', 'data', etc. </span>*"
      ]
    },
    {
      "metadata": {
        "id": "Uo0BZZ3q1ozz",
        "colab_type": "code",
        "colab": {}
      },
      "cell_type": "code",
      "source": [
        "# load iris dataset\n",
        "iris = datasets.load_iris()\n",
        "\n",
        "# examine its keys\n",
        "iris.keys()"
      ],
      "execution_count": 0,
      "outputs": []
    },
    {
      "metadata": {
        "id": "QP-JDJAb1oz1",
        "colab_type": "code",
        "colab": {}
      },
      "cell_type": "code",
      "source": [
        "# print out its description\n",
        "print(iris['DESCR'])"
      ],
      "execution_count": 0,
      "outputs": []
    },
    {
      "metadata": {
        "id": "N9tLrNE_1oz_",
        "colab_type": "code",
        "colab": {}
      },
      "cell_type": "code",
      "source": [
        "X = iris['data']\n",
        "X.shape"
      ],
      "execution_count": 0,
      "outputs": []
    },
    {
      "metadata": {
        "id": "_EevVYgD1o0B",
        "colab_type": "text"
      },
      "cell_type": "markdown",
      "source": [
        "### Excercises"
      ]
    },
    {
      "metadata": {
        "id": "Y-rsCsqx1o0C",
        "colab_type": "text"
      },
      "cell_type": "markdown",
      "source": [
        "**<span style=\"color:red\"> Exercise 1: </span>** : *<span style=\"color:#0b486b\"> The the following sandbox cell, or create your own, to explore and build your understanding  </span>*."
      ]
    },
    {
      "metadata": {
        "id": "LVHZFyWE1o0C",
        "colab_type": "code",
        "colab": {}
      },
      "cell_type": "code",
      "source": [
        "# sand box cell -- enter your various commands here to explore and build your understanding,\n",
        "# e.g., try \"print(iris.target_names)\""
      ],
      "execution_count": 0,
      "outputs": []
    },
    {
      "metadata": {
        "id": "1z96EOQ41o0G",
        "colab_type": "text"
      },
      "cell_type": "markdown",
      "source": [
        "<details><summary><font color=\"blue\"><b>Click here for solutions to exercise</b></font></summary>\n",
        "    \n",
        "```python\n",
        "# sand box cell -- enter your various commands here to explore and build your understanding,\n",
        "# e.g., try \"print(iris.target_names)\"\n",
        "print(iris.target_names)\n",
        "\n",
        "print(iris.feature_names)\n",
        "\n",
        "print(iris.target)\n",
        "\n",
        "print(iris.data[:5,:])\n",
        "```\n"
      ]
    },
    {
      "metadata": {
        "id": "L_yBbGZU1o0H",
        "colab_type": "text"
      },
      "cell_type": "markdown",
      "source": [
        "**<span style=\"color:red\"> Exercise 2: </span>** : *<span style=\"color:#0b486b\"> The documentation from scikit-learn [here](http://scikit-learn.org/stable/datasets/index.html) describes several other avaiable datasets. Write your own codes to load and examine the digits recognition dataset with the load_digits() command  </span>*."
      ]
    },
    {
      "metadata": {
        "scrolled": true,
        "id": "SvIKjXnl1o0J",
        "colab_type": "code",
        "colab": {}
      },
      "cell_type": "code",
      "source": [
        "# enter your own codes here\n"
      ],
      "execution_count": 0,
      "outputs": []
    },
    {
      "metadata": {
        "id": "emj5iaQt1o0K",
        "colab_type": "text"
      },
      "cell_type": "markdown",
      "source": [
        "<details><summary><font color=\"blue\"><b>Click here for solutions to exercise</b></font></summary>\n",
        "```python\n",
        "# enter your own codes here\n",
        "# load digits dataset\n",
        "from sklearn import datasets\n",
        "digits = datasets.load_digits()\n",
        "# examine its keys\n",
        "print(digits.keys())\n",
        "\n",
        "print(digits['DESCR'])\n",
        "\n",
        "X = digits['data']\n",
        "print(X.shape)\n",
        "```"
      ]
    },
    {
      "metadata": {
        "id": "zgwPo5mM1o0M",
        "colab_type": "text"
      },
      "cell_type": "markdown",
      "source": [
        "## Further reading <!--4.4 Further reading-->\n",
        "* More tutorials, videos on machine learning with scikit-learn can be found at [Introduction to machine learning with scikit-learn](https://github.com/justmarkham/scikit-learn-videos).\n",
        "\n",
        "* Short and concise introduction to Python 3 is introduced in the [Python For Data Science Cheat Sheet For Beginners](https://www.datacamp.com/community/data-science-cheatsheets)\n"
      ]
    }
  ]
}