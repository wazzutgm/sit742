{
 "cells": [
  {
   "cell_type": "markdown",
   "metadata": {
    "colab_type": "text",
    "id": "pOrSBEmKBmxF"
   },
   "source": [
    "# SIT742: Modern Data Science \n",
    "**(Week 01: Programming Python)**\n",
    "\n",
    "---\n",
    "- Materials in this module include resources collected from various open-source online repositories.\n",
    "- You are free to use, change and distribute this package.\n",
    "\n",
    "Prepared by **SIT742 Teaching Team**\n",
    "\n",
    "\n",
    "---\n",
    "\n",
    "\n",
    "# Session 1B - Control Flow, File usage, and Advanced data"
   ]
  },
  {
   "cell_type": "markdown",
   "metadata": {
    "colab_type": "text",
    "id": "mBYW9FlMBmxG"
   },
   "source": [
    "## Introduction\n",
    "\n",
    "Normally, \n",
    "*Python* executes a series of statement in exact top-down order. \n",
    "What if you want to change the flow how it works? \n",
    "As you might have guessed, in this prac, we will first look at **control flow**\n",
    " statements. We are going to practice on three control flow statements, i.e., \n",
    "**if**, **for** and **while**, to see how they can \n",
    "determine what statement is to be executed next in a program.  \n",
    "\n",
    "Second, we will look at how to create, read, and write files in *Python*. \n",
    "We have  obtained data via interation with users in previous prac. Now let us \n",
    "explore how  to deal with files  to get input of a program and write \n",
    "output that can be used later. \n",
    "\n",
    "\n",
    "\n",
    "Finally, we will learn about advanced data types in addition to the **strings** \n",
    "and **number** learnt before.  We will examine **lists**, **tuples**\n",
    "and **dictionarys** used for a collection of related data. \n"
   ]
  },
  {
   "cell_type": "markdown",
   "metadata": {
    "colab_type": "text",
    "id": "BTjIVzM4BmxH"
   },
   "source": [
    "<a id = \"cell_tuple\"></a>"
   ]
  },
  {
   "cell_type": "markdown",
   "metadata": {
    "colab_type": "text",
    "id": "8rxG_XNwBmxI"
   },
   "source": [
    "## Table of Content\n",
    "\n",
    "### Part 1 Control Flow\n",
    "\n",
    "1.1 [**If** statements](#cell_if)\n",
    "\n",
    "1.2 [**For** statements](#cell_for)\n",
    "\n",
    "1.3 [**While** statements](#cell_while)\n",
    "\n",
    "1.4 [**Break** statements](#cell_break)\n",
    "\n",
    "1.5 [Notes on Python 2](#cell_note)\n",
    "\n",
    "### Part2 Using files\n",
    "\n",
    "2.1 [Reading files](#cell_read)\n",
    "\n",
    "2.2 [Writing files](#cell_write)\n",
    "\n",
    "### Part3 Advanced data\n",
    "\n",
    "3.1 [List](#cell_list)\n",
    "\n",
    "3.2 [Tuple](#cell_tuple)\n",
    "\n",
    "3.3 [Dictionary](#cell_dict)\n",
    "\n"
   ]
  },
  {
   "cell_type": "markdown",
   "metadata": {
    "colab_type": "text",
    "id": "48mvMOLyBmxJ"
   },
   "source": [
    "## Part 1 Control flow"
   ]
  },
  {
   "cell_type": "markdown",
   "metadata": {
    "colab_type": "text",
    "id": "APgJv4VdBmxK"
   },
   "source": [
    "<a id = \"cell_if\"></a>"
   ]
  },
  {
   "cell_type": "markdown",
   "metadata": {
    "colab_type": "text",
    "id": "Z8I-fSFrBmxL"
   },
   "source": [
    "### 1.1 **If** statements\n",
    "\n",
    "The **if** statement is used to check a condition: **if** the condition is true, we run a block of statements(**if-block**), **else** we process another block of statement(**else-block**). The **else** clause is optional. The condition is usually a boolean expression, which can have value of **True** or **False**. \n",
    "\n",
    "Often  we have a block of statement  inside  either **if-block** or **else-block**. In this case,   you need to especially pay attention to the indentation of the statements in the block. Indenting starts a block and unindenting ends it. As a general practice, Python style guide recommend using 4 white spaces for indenting a block, and not using tabs. If you get indentation error message from Python interpretor, you  will need to check your code carefully. \n",
    " "
   ]
  },
  {
   "cell_type": "code",
   "execution_count": null,
   "metadata": {
    "colab": {},
    "colab_type": "code",
    "id": "pSM5441WBmxM"
   },
   "outputs": [],
   "source": [
    "x = 15\n",
    "if x % 2 == 0:\n",
    "   print('%d is even' % x)\n",
    "                else:\n",
    "    print('%d is odd' % x)\n",
    "    \n",
    "print('This is always printed')"
   ]
  },
  {
   "cell_type": "markdown",
   "metadata": {
    "colab_type": "text",
    "id": "AgajrFJ_BmxP"
   },
   "source": [
    "\n",
    "Try change **x** to even number and run the program again.\n",
    "\n",
    "The else-block  in **if** statement is optional. If  the **else** block is omitted,  the statements in **if**-block are executed when the condition equal to **True**. Otherwise, the flow of execution continues to the statement after the **if** structure. \n",
    "\n",
    "Try the following code:    "
   ]
  },
  {
   "cell_type": "code",
   "execution_count": null,
   "metadata": {
    "colab": {},
    "colab_type": "code",
    "id": "IgyyRoiLBmxQ"
   },
   "outputs": [],
   "source": [
    "x = -2\n",
    "if x < 0:\n",
    "    print(\"The negative number %d  is not valid here.\" % x)\n",
    "    \n",
    "print(\"This is always printed\")"
   ]
  },
  {
   "cell_type": "markdown",
   "metadata": {
    "colab_type": "text",
    "id": "xTIXGLKlBmxT"
   },
   "source": [
    "What will be printed if  the value of **x** is negative?\n",
    "\n",
    "\n",
    "**If** statement can also be nested within another. Further **if** structure  can  either be nested in **if-block** or **else-block**. Here is an example with another **if** structure nested in **else-block**. \n",
    "\n",
    "This example assume we have two integer variables, **x** and **y**. The code shows how we might decide how they are related to each other. "
   ]
  },
  {
   "cell_type": "code",
   "execution_count": null,
   "metadata": {
    "colab": {},
    "colab_type": "code",
    "id": "1QTkRQKNBmxU"
   },
   "outputs": [],
   "source": [
    "x = 10\n",
    "y = 10\n",
    "\n",
    "if x < y:\n",
    "    print(\"x is less than y\")\n",
    "else:\n",
    "    if x > y:\n",
    "        print(\"x is greater than y\")\n",
    "    else:\n",
    "        print(\"x and y must be equal\")"
   ]
  },
  {
   "cell_type": "markdown",
   "metadata": {
    "colab_type": "text",
    "id": "qIIckwg6Bmxa"
   },
   "source": [
    "Here we can  see that the indentation pattern can tell the Python interpretor exactly which **else** belong to which **if**. \n",
    "\n",
    "Python also provides an alternative way to write nested **if** statement. We need to  use keyword **elif**. The above example is equivalent to :"
   ]
  },
  {
   "cell_type": "code",
   "execution_count": null,
   "metadata": {
    "colab": {},
    "colab_type": "code",
    "id": "F8lwSvUmBmxb"
   },
   "outputs": [],
   "source": [
    "x = 10\n",
    "y = 10\n",
    "\n",
    "if (x < y):\n",
    "    print(\"x is less than y\")\n",
    "elif (x > y):\n",
    "    print(\"x is greater than y\")\n",
    "else:\n",
    "    print(\"x and y must be equal\")"
   ]
  },
  {
   "cell_type": "markdown",
   "metadata": {
    "colab_type": "text",
    "id": "WmO3pOeVBmxe"
   },
   "source": [
    "**elif** is an abbreviation of **else if**. With above structure, each condition is checked in order. If one of them is **True**, the corresponding branch executes. Even if more than one condition is **True**, only the first **True** branch executes. \n",
    "\n",
    "There is no limit of the number of **elif** statements. but only a single final **else** statement is allowed. The **else** statement must be the last branch in the statement. "
   ]
  },
  {
   "cell_type": "markdown",
   "metadata": {
    "colab_type": "text",
    "id": "bHPF8viiBmxf"
   },
   "source": [
    "<a id = \"cell_for\"></a>"
   ]
  },
  {
   "cell_type": "markdown",
   "metadata": {
    "colab_type": "text",
    "id": "J5V62gWWBmxg"
   },
   "source": [
    "### 1.2 **For** statements\n",
    "Computers are often used to automate repetitive tasks. Repeated execution of a sequence of statements is called iteration. Two language features provided by Python are **while** and **for** statement. We first take a look an example of **for** statement:"
   ]
  },
  {
   "cell_type": "code",
   "execution_count": null,
   "metadata": {
    "colab": {},
    "colab_type": "code",
    "id": "JF9gk0PpBmxh"
   },
   "outputs": [],
   "source": [
    "for name in [\"Joe\", \"Amy\", \"Brad\", \"Angelina\", \"Zuki\"]:\n",
    "    print(\"Hi %s Please come to my party on Saturday!\" % name)"
   ]
  },
  {
   "cell_type": "markdown",
   "metadata": {
    "colab_type": "text",
    "id": "37f33WKrBmxn"
   },
   "source": [
    "This example assume we have some friends, and we would like to send them an invitation to our party. With all the name in the list, we can print a message for each friend. \n",
    "\n",
    "This is how the **for** statement works:\n",
    "\n",
    "1. **name** in the **for** statement is called loop variables, and the names in the square brackets is called **list** in Python. We will cover more details on list in next prac. For now, you just need to know how to use  simple list in  a **for** loop. \n",
    "\n",
    "2.  The second line in the program is the **loop body**. All the statements in the loop body is indented.\n",
    "\n",
    "3.  On each iteration  of the loop, the loop variable is updated to refer to the next item in the list. In the above case, the loop body is executed 7 times, and each time name will refer to a different fiend. \n",
    "\n",
    "4. At the end of each execution of the body of the loop, Python returns to the **for** statement to handle the next items. This continues until there are no item left. Then program execution continues at the next statement after the loop body.      "
   ]
  },
  {
   "cell_type": "markdown",
   "metadata": {
    "colab_type": "text",
    "id": "9u5fQrRnBmxo"
   },
   "source": [
    "One function commonly used in loop statement is **range()**.\n",
    "\t\n",
    "Let us first have a look at the following example:\n",
    "\t"
   ]
  },
  {
   "cell_type": "code",
   "execution_count": null,
   "metadata": {
    "colab": {},
    "colab_type": "code",
    "id": "0s5lRD76Bmxp"
   },
   "outputs": [],
   "source": [
    "for i in [0, 1, 2, 3, 4 ]:\n",
    "    print( 'The count is %d' % i)"
   ]
  },
  {
   "cell_type": "markdown",
   "metadata": {
    "colab_type": "text",
    "id": "7QhivfwyBmxr"
   },
   "source": [
    "Actually generating lists with a specific number of integers is a very common task, especially in **for** loop. For this purpose,  Python provides a built-in **range()** function to generate a sequence of values. An alternative way of performing above counting using **range()** is as follows."
   ]
  },
  {
   "cell_type": "code",
   "execution_count": null,
   "metadata": {
    "colab": {},
    "colab_type": "code",
    "id": "N72li4DkBmxs"
   },
   "outputs": [],
   "source": [
    "for i in range(5):\n",
    "    print( 'The count is %d' % i)\n",
    "print('Good bye!')"
   ]
  },
  {
   "cell_type": "markdown",
   "metadata": {
    "colab_type": "text",
    "id": "2dJ4XtVbBmxv"
   },
   "source": [
    "Notice **range(5)** generate a list of $5$ values starting with 0 instead 1. In addition, 5 is not included in the list. \n",
    "\t"
   ]
  },
  {
   "cell_type": "markdown",
   "metadata": {
    "colab_type": "text",
    "id": "GBp5UBhTBmxw"
   },
   "source": [
    "Here is a note on **range()** function: a strange thing happens if you just print a range:"
   ]
  },
  {
   "cell_type": "code",
   "execution_count": null,
   "metadata": {
    "colab": {},
    "colab_type": "code",
    "id": "Abz4U4-jBmxx"
   },
   "outputs": [],
   "source": [
    "range(5)"
   ]
  },
  {
   "cell_type": "code",
   "execution_count": null,
   "metadata": {
    "colab": {},
    "colab_type": "code",
    "id": "BbcPEh3zBmx1"
   },
   "outputs": [],
   "source": [
    "print(range(5))"
   ]
  },
  {
   "cell_type": "markdown",
   "metadata": {
    "colab_type": "text",
    "id": "SW2y7aHIBmx4"
   },
   "source": [
    "In many ways the object returned by **range()** behaves as if it is a list, but in fact it isn’t. It is an object which returns the successive items of the desired sequence when you iterate over it, but it doesn’t really make the list, thus saving space. We say such an object is *iterable*. In the following example, **rangeA** is **iterable**. \n",
    "\n",
    "There are functions and constructs  that expect something from these objects to obtain successive items until the supply is exhausted.  The **list()** function can be used to creates lists from iterables:"
   ]
  },
  {
   "cell_type": "code",
   "execution_count": null,
   "metadata": {
    "colab": {},
    "colab_type": "code",
    "id": "oQ5qgASnBmx5"
   },
   "outputs": [],
   "source": [
    "rangeA = range(5)\n",
    "list(rangeA)"
   ]
  },
  {
   "cell_type": "markdown",
   "metadata": {
    "colab_type": "text",
    "id": "W7rrW0PEBmx8"
   },
   "source": [
    "In this way, we can  print  the list generated by **range(5)** to  check the values closely."
   ]
  },
  {
   "cell_type": "markdown",
   "metadata": {
    "colab_type": "text",
    "id": "75BArncGBmx9"
   },
   "source": [
    "To count from 1 to 5, we need the follo0wing:"
   ]
  },
  {
   "cell_type": "code",
   "execution_count": null,
   "metadata": {
    "colab": {},
    "colab_type": "code",
    "id": "-c8s4yqFBmx9"
   },
   "outputs": [],
   "source": [
    "list(range(1, 6))"
   ]
  },
  {
   "cell_type": "markdown",
   "metadata": {
    "colab_type": "text",
    "id": "ina-6XSZBmyA"
   },
   "source": [
    "\t\n",
    "We can also add another parameter, **step**, in **range()** function. For example, a step of **2** can be used to produce a list of even numbers. \n",
    "\n",
    "Look at the following example.  Think about what will be the output before you run the code to check your understanding.\n",
    "\n",
    "    "
   ]
  },
  {
   "cell_type": "code",
   "execution_count": null,
   "metadata": {
    "colab": {},
    "colab_type": "code",
    "id": "15sR2tbEBmyB"
   },
   "outputs": [],
   "source": [
    "list(range(1, 6))"
   ]
  },
  {
   "cell_type": "code",
   "execution_count": null,
   "metadata": {
    "colab": {},
    "colab_type": "code",
    "id": "I2QNYwqLBmyE"
   },
   "outputs": [],
   "source": [
    "list(range(1, 6))"
   ]
  },
  {
   "cell_type": "code",
   "execution_count": null,
   "metadata": {
    "colab": {},
    "colab_type": "code",
    "id": "5yGaHZgWBmyG"
   },
   "outputs": [],
   "source": [
    "list(range(0, 19, 2))"
   ]
  },
  {
   "cell_type": "code",
   "execution_count": null,
   "metadata": {
    "colab": {},
    "colab_type": "code",
    "id": "4GAI_l42BmyJ"
   },
   "outputs": [],
   "source": [
    "list(range(0, 20, 2))"
   ]
  },
  {
   "cell_type": "code",
   "execution_count": null,
   "metadata": {
    "colab": {},
    "colab_type": "code",
    "id": "NvtLk4FsBmyK"
   },
   "outputs": [],
   "source": [
    "list(range(10, 0, -1))"
   ]
  },
  {
   "cell_type": "markdown",
   "metadata": {
    "colab_type": "text",
    "id": "x4kncHIyBmyM"
   },
   "source": [
    "Let us return to the previous counting example, when **range()** generate the sequence of numbers, each number is assign to the loop variable **i** in each iteration. Then the block of statements is executed for each value of **i**. In the above example, we just print the value in the block of statements. "
   ]
  },
  {
   "cell_type": "markdown",
   "metadata": {
    "colab_type": "text",
    "id": "LBu_5KrtBmyN"
   },
   "source": [
    "<a id = \"cell_while\"></a>"
   ]
  },
  {
   "cell_type": "markdown",
   "metadata": {
    "colab_type": "text",
    "id": "ySAgg2-5BmyO"
   },
   "source": [
    "### 1.3  **While** statements\n",
    "\n",
    "The **while** statement provide a much more general mechanism for iteration. It  allows you to repeatedly execute a block of statements as long as a condition is **True**. \n",
    "\n",
    "Similar to the **if** statement, the **while** statement uses a boolean expression to control the flow of execution. The body of **while** will be repeated as long as the condition of boolean expression equal to **True**.\n",
    "\n",
    "Let us see how the previous counting program can be implemented by **while** statement."
   ]
  },
  {
   "cell_type": "code",
   "execution_count": null,
   "metadata": {
    "colab": {},
    "colab_type": "code",
    "id": "bIOEmdUiBmyO"
   },
   "outputs": [],
   "source": [
    "i = 0\n",
    "while (i < 6):\n",
    "    print('The count is %d' % i)\n",
    "    i = i + 1\n",
    "    \n",
    "print('Good bye!')"
   ]
  },
  {
   "cell_type": "markdown",
   "metadata": {
    "colab_type": "text",
    "id": "5LAzdVFzBmyQ"
   },
   "source": [
    "How the while statement works:\n",
    "1. The **while** block consists of the print and increment statements. They are executed repeatedly until count is no longer less than $6$. With each iteration, the current value of the index count is displayed and then increased by $1$. \n",
    "\n",
    "2. Same as **for** loop, this type of flow is also called a loop since **while** statements is executed repeatedly. Notice that if the condition is **False** at the first time through the loop, the statement inside the loop are never executed. Try change the first line into **i = 6**. What is the output?\n",
    "\n",
    "2. In this example, we can prove  that the loop terminates because **i** start from $0$ and increase by $1$. Eventually, **i** will be great than 5. When the condition  becomes **False**,  the loop stops. \n",
    "\t\n",
    "3. Sometime, we will have loop that repeats forever. This is called an infinite loop. Although this kind of loop might be useful sometimes,  it is often  caused by a programming  mistake. Try to change the first two lines of previous program into  the following code. See what happen? \n",
    "\n",
    "Note that if you run the following cell, the code will run indefinitely. You will need to go to the menu: **Kernel->Restart**, and then restart the kernal.  \n",
    "\n",
    "Also note that if you run such code in Python at command line or script mode, you will need to use **CTRL-C** to terminate the program."
   ]
  },
  {
   "cell_type": "code",
   "execution_count": null,
   "metadata": {
    "colab": {},
    "colab_type": "code",
    "id": "rBPwIJ1TBmyR"
   },
   "outputs": [],
   "source": [
    "i =  6\n",
    "while i > 5 :  \n",
    "    print('The cound is %d' % i)\n",
    "    i = i + 1\n",
    "    \n",
    "print('Good bye!')"
   ]
  },
  {
   "cell_type": "markdown",
   "metadata": {
    "colab_type": "text",
    "id": "Sw9P5rAaBmyU"
   },
   "source": [
    "<a id = \"cell_break\"></a>"
   ]
  },
  {
   "cell_type": "markdown",
   "metadata": {
    "colab_type": "text",
    "id": "zSrk7ffZBmyV"
   },
   "source": [
    "### 1.4 **Break** statements\n",
    "\n",
    "The **break** statement can be used to break out of a loop statement. It can be used both in **while** loop and **for** loop. \n",
    "\n",
    "Alternative way of previous counting example with  **break** statement is as follows:"
   ]
  },
  {
   "cell_type": "code",
   "execution_count": null,
   "metadata": {
    "colab": {},
    "colab_type": "code",
    "id": "kCvV7yovBmyW"
   },
   "outputs": [],
   "source": [
    "i =  0\n",
    "while True :\n",
    "    print( 'The count is %d' % i)\n",
    "    i = i + 1\n",
    "    if i > 6:\n",
    "        break\n",
    "        \n",
    "print('Good bye!')\n"
   ]
  },
  {
   "cell_type": "markdown",
   "metadata": {
    "colab_type": "text",
    "id": "0F_hkIdqBmya"
   },
   "source": [
    "In this program, we repeated print value  of **i** and increase it by 1 each time. We provide a special condition to stop the program by checking if **i** is greater than 6. We then break out of the loop and continue executed the statement after the loop.  \n",
    "\n",
    "Note that it is important to decide what the terminate condition should  be. We can see from previous counting example that the terminate condition might be different in different loop structure,.  "
   ]
  },
  {
   "cell_type": "markdown",
   "metadata": {
    "colab_type": "text",
    "id": "u39CNJdhBmyb"
   },
   "source": [
    "<a id = \"cell_note\"></a>"
   ]
  },
  {
   "cell_type": "markdown",
   "metadata": {
    "colab_type": "text",
    "id": "Ry-Vx12jBmyb"
   },
   "source": [
    "### 1.5 Notes on **Python 2**\n",
    "\n",
    "Use of **range()** function:\n",
    "\n",
    "\n",
    "1. One thing to be noted is: the use of **range()** in for-loop looks the same in both \\emph{Python} 2 and 3.\n",
    "\t \n",
    "2. While function **range()** creates an *iterable*, which can be used to produce  sequence dynamically in *Python 3*; \n",
    "\t**range()** in *Python 2* creates a list. The use of  iterable object in \\emph{Python} 3 is more efficient in memory wise. This is especially useful when you need a giganic range.\n",
    "\t\n",
    "3. As you have noticed,  statement **print(range(5))** in *Python 3* will not produce a list. However,  this statement is valid in *Python 2*. For example, the following can be used to  check values of a range  in \\emph{Python} 2. \t"
   ]
  },
  {
   "cell_type": "markdown",
   "metadata": {
    "colab_type": "raw",
    "id": "XoVHQtD5Bmyc"
   },
   "source": [
    ">>>print(range(5))\n",
    "[0, 1, 2, 3, 4, 5]"
   ]
  },
  {
   "cell_type": "markdown",
   "metadata": {
    "colab_type": "text",
    "id": "SGjWRgfOBmyd"
   },
   "source": [
    "Please also note that **range()** can be safely used in both versions in a **for**-loop. "
   ]
  },
  {
   "cell_type": "markdown",
   "metadata": {
    "colab_type": "text",
    "id": "7mpkvTSRBmyd"
   },
   "source": [
    "## Part 2 Using files\n",
    "\n",
    "### 2.1 Reading files\n",
    "\n",
    "\n",
    "You can open and use files for reading or writing by creating an object of the *file class*.  The *mode* that is specified for the file opening decides what you can do with the file: read, write or both. Then the file object's  **read()** or **write()** method can  be used to read from or write to the file. Finally, when you are finished with the file, you call the **close()** method to tell Python that you are done using the file. \n",
    "\n",
    "Here is an example. You can download the data file **score.txt**, which includes  data on students' score. The format of the data file is as follows:"
   ]
  },
  {
   "cell_type": "markdown",
   "metadata": {
    "colab_type": "raw",
    "id": "tw4DG880Bmye"
   },
   "source": [
    "Name, Student ID, Score\n",
    "\n",
    "David 3402 80\n",
    "Jane 3403 76\n",
    "Sophia 3405 65\n",
    "Jane 3447 92\n",
    "William 3456 75 "
   ]
  },
  {
   "cell_type": "markdown",
   "metadata": {
    "colab_type": "text",
    "id": "zX0btCtSBmye"
   },
   "source": [
    "For Online platforms such as IBM Cloud, it is important for you to get familiar with the provided data storage or cloud data storage function. Alternatively, you might want to directly access the file, and load into your Notebook."
   ]
  },
  {
   "cell_type": "code",
   "execution_count": null,
   "metadata": {
    "colab": {},
    "colab_type": "code",
    "id": "IFG5yfANBmyf"
   },
   "outputs": [],
   "source": [
    "!pip install wget"
   ]
  },
  {
   "cell_type": "markdown",
   "metadata": {
    "colab_type": "text",
    "id": "U5ixu3VUBmyh"
   },
   "source": [
    "Then you can download the file into GPFS file system."
   ]
  },
  {
   "cell_type": "code",
   "execution_count": null,
   "metadata": {
    "colab": {},
    "colab_type": "code",
    "id": "mZz9001yBmyh"
   },
   "outputs": [],
   "source": [
    "import wget\n",
    "\n",
    "link_to_data = 'https://github.com/tulip-lab/sit742/raw/master/Jupyter/data/score.txt'\n",
    "DataSet = wget.download(link_to_data)\n",
    "\n",
    "print(DataSet)"
   ]
  },
  {
   "cell_type": "markdown",
   "metadata": {
    "colab_type": "text",
    "id": "D5NLUAxoBmyj"
   },
   "source": [
    "The following example  read from the **.txt**  file and display information  on the screen. Please type the code and run it under script mode. Make sure **score.txt** are saved under your **data** folder. "
   ]
  },
  {
   "cell_type": "code",
   "execution_count": null,
   "metadata": {
    "colab": {},
    "colab_type": "code",
    "id": "fGWLZazQBmyj"
   },
   "outputs": [],
   "source": [
    "# scorefile = open('https://raw.githubusercontent.com/tulip-lab/sit742/master/Jupyter/data/score.txt','r')\n",
    "\n",
    "scorefile = open('score.txt','r')\n",
    "\n",
    "for line in scorefile:\n",
    "    value = line.split()\n",
    "    name = value[0]\n",
    "    id = value[1]\n",
    "    score = value[2]\n",
    "    print('%s with ID %s has a score of %s' % (name, id, score))\n"
   ]
  },
  {
   "cell_type": "markdown",
   "metadata": {
    "colab_type": "text",
    "id": "TM_kpY_3Bmyl"
   },
   "source": [
    "How the program works:\n",
    "1.   The **open()** function is used to open a file. You need to specify the name of the file and the mode in which you want to open the file. The mode can be read mode('r'), write mode('w') or append mode('a').  There are actually many more modes available. You can get more details by create a cell and typing \"\"open?\"\". Please try this in your notebook. When we finish working on the file, we  need to close the file using **close()** method. \n",
    "\n",
    "\t\n",
    "2.  To process all of the data, we use a **for** loop to iterate over the lines of the file. The **line** variable is a string that is used to store characters in each line.\n",
    "\t \n",
    "     \n",
    "3. We use the **split()** method to break each line into a list containing all the fields of interest. We can then take the value corresponding to **name**, **id** and **score** and  print them in the sentence. To get each data item in a list, we use index with the list. e.g. values[0] will return the item of position 0 in the list.  Note that in Python the position of items in a list is starting from $0$. "
   ]
  },
  {
   "cell_type": "markdown",
   "metadata": {
    "colab_type": "text",
    "id": "WrvvbEHYBmyl"
   },
   "source": [
    "### 2.2. Writing to files\n",
    "\n",
    "One of the most commonly performed data processing tasks is to read data from a file, manipulate it in some way and then write the resulting data out to a new data file to be used for other purpose later. For creating a new file used for writing, the same **open()** function is used. Instead using 'r' mode, 'w' mode is used as the parameter. When we open a file for writing, a new, empty file with the specified  name is created and ready to accept our data. \n",
    "\n",
    "As an example, consider the **score.txt** data again. Assume we have request to remove the name information in the file for privacy issue. Therefore, the output file need  to have student ID with the scores separated by a comma.  Here is how we can generate the required file. "
   ]
  },
  {
   "cell_type": "code",
   "execution_count": null,
   "metadata": {
    "colab": {},
    "colab_type": "code",
    "id": "WIgxvy2sBmym"
   },
   "outputs": [],
   "source": [
    "infile = open('score.txt', 'r')\n",
    "outfile = open('id.txt', 'w')\n",
    "\n",
    "for line in infile:\n",
    "    values = line.split()\n",
    "    id = values[1]\n",
    "    score = values[2]\n",
    "    dataline = id + ',' + score\n",
    "\n",
    "    outfile.write(dataline + '\\n')\n",
    "\n",
    "infile.close()\n",
    "outfile.close()\n"
   ]
  },
  {
   "cell_type": "markdown",
   "metadata": {
    "colab_type": "text",
    "id": "dvGy8vFIzRxR"
   },
   "source": [
    "You can use the print() to print file content on the console."
   ]
  },
  {
   "cell_type": "code",
   "execution_count": null,
   "metadata": {
    "colab": {},
    "colab_type": "code",
    "id": "MINqoph9XTB1"
   },
   "outputs": [],
   "source": [
    "f=open('id.txt', 'r')\n",
    "message=f.read()\n",
    "print(message)\n",
    "f.close"
   ]
  },
  {
   "cell_type": "markdown",
   "metadata": {
    "colab_type": "text",
    "id": "PmDqWJ_EBmyo"
   },
   "source": [
    "\n",
    "How the program works:\n",
    "\n",
    "1. We have add another **open()** method with 'w' mode. The filename **id.txt** is chosen  to store the data. If the file does not exist, it will be created. However, if the file does exist, it will be reinitialized and empty,  and any previous contents will be lost \n",
    "2. We have variable **dataline** to store what need to be write in the file. If you like, you can add \ta line **print(dataline)** to check the string value. We then call function **write()** method to write  **dataline** into the file.\n",
    "3. There is one additional part we need to add when writing to file. The newline character **\\n** need to be concatenated to the end of the line. Otherwise,  the text will be all in one continuous line.  \n",
    "\t\n",
    "4. The file needs to be closed at the end.  \n"
   ]
  },
  {
   "cell_type": "markdown",
   "metadata": {
    "colab_type": "text",
    "id": "4Xu7rvCrBmyp"
   },
   "source": [
    "<a id = \"cell_list\"></a>"
   ]
  },
  {
   "cell_type": "markdown",
   "metadata": {
    "colab_type": "text",
    "id": "ZXxkKq8eBmyq"
   },
   "source": [
    "## Part 3 Advanced Data\n",
    "\n",
    "### 3.1 List\n",
    "\n",
    "** List is a sequence**\n",
    "\n",
    "Like a string, a *list** is a sequence of values. The values in a list can be any type. We call the values *items** of the list. To create a list, enclose the items in square brackets.\n",
    "\n",
    "For example, \n",
    "               "
   ]
  },
  {
   "cell_type": "code",
   "execution_count": null,
   "metadata": {
    "colab": {},
    "colab_type": "code",
    "id": "E7e8UuwGBmyq"
   },
   "outputs": [],
   "source": [
    "shoplist = ['apple', 'mango', 'carrot', 'banana']\n",
    "l = [10, 20, 30, 40]\n",
    "empty = [ ]   # Initialize an empty list"
   ]
  },
  {
   "cell_type": "code",
   "execution_count": null,
   "metadata": {
    "colab": {},
    "colab_type": "code",
    "id": "aY2iD5kNBmys"
   },
   "outputs": [],
   "source": [
    "shoplist"
   ]
  },
  {
   "cell_type": "code",
   "execution_count": null,
   "metadata": {
    "colab": {},
    "colab_type": "code",
    "id": "KE779JH2Bmyu"
   },
   "outputs": [],
   "source": [
    "l"
   ]
  },
  {
   "cell_type": "code",
   "execution_count": null,
   "metadata": {
    "colab": {},
    "colab_type": "code",
    "id": "_IpjFmd4Bmyx"
   },
   "outputs": [],
   "source": [
    "empty"
   ]
  },
  {
   "cell_type": "code",
   "execution_count": null,
   "metadata": {
    "colab": {},
    "colab_type": "code",
    "id": "XBrjhj1iBmyz"
   },
   "outputs": [],
   "source": [
    "shoplist"
   ]
  },
  {
   "cell_type": "markdown",
   "metadata": {
    "colab_type": "text",
    "id": "j7ruHjt3Bmy0"
   },
   "source": [
    "The elements of a list do not have to be the same type. An another  list can also be nested inside a list. \n",
    "\n",
    "To access the element of a list, use the bracket operator to obtain the value available at the index. Note that the indices of list start at $0$. You can also use  negative value as index, if you  counts from right. For example, the negative index of last item is $-1$.   Try  the following examples:"
   ]
  },
  {
   "cell_type": "code",
   "execution_count": null,
   "metadata": {
    "colab": {},
    "colab_type": "code",
    "id": "W9akILf7Bmy1"
   },
   "outputs": [],
   "source": [
    "l = [10, 20, 30, 40]"
   ]
  },
  {
   "cell_type": "code",
   "execution_count": null,
   "metadata": {
    "colab": {},
    "colab_type": "code",
    "id": "Z5zPJWxpBmy3"
   },
   "outputs": [],
   "source": [
    "l[2]"
   ]
  },
  {
   "cell_type": "code",
   "execution_count": null,
   "metadata": {
    "colab": {},
    "colab_type": "code",
    "id": "bNH-O27pBmy4"
   },
   "outputs": [],
   "source": [
    "l[-1]"
   ]
  },
  {
   "cell_type": "code",
   "execution_count": null,
   "metadata": {
    "colab": {},
    "colab_type": "code",
    "id": "NtKexic5Bmy7"
   },
   "outputs": [],
   "source": [
    "l[-3]     "
   ]
  },
  {
   "cell_type": "markdown",
   "metadata": {
    "colab_type": "text",
    "id": "Wpr1v6zrBmy9"
   },
   "source": [
    "Here is an example of nested list: "
   ]
  },
  {
   "cell_type": "code",
   "execution_count": null,
   "metadata": {
    "colab": {},
    "colab_type": "code",
    "id": "r0xGwqeJBmy-"
   },
   "outputs": [],
   "source": [
    "l = ['apple', 2.0, 5, [10, 20]]"
   ]
  },
  {
   "cell_type": "code",
   "execution_count": null,
   "metadata": {
    "colab": {},
    "colab_type": "code",
    "id": "SP-ntHwtBmy_"
   },
   "outputs": [],
   "source": [
    "l[1]"
   ]
  },
  {
   "cell_type": "code",
   "execution_count": null,
   "metadata": {
    "colab": {},
    "colab_type": "code",
    "id": "WQsbJkhABmzC"
   },
   "outputs": [],
   "source": [
    "l[3]"
   ]
  },
  {
   "cell_type": "code",
   "execution_count": null,
   "metadata": {
    "colab": {},
    "colab_type": "code",
    "id": "qDryScoCBmzD"
   },
   "outputs": [],
   "source": [
    "l[3][1]   \n",
    "     "
   ]
  },
  {
   "cell_type": "markdown",
   "metadata": {
    "colab_type": "text",
    "id": "z-zzr7ICBmzF"
   },
   "source": [
    "Unlike strings, lists are mutable, which means they can be altered.  We use bracket on the left side of an assignment to assign a value to a list item."
   ]
  },
  {
   "cell_type": "code",
   "execution_count": null,
   "metadata": {
    "colab": {},
    "colab_type": "code",
    "id": "rX_ghZH_BmzF"
   },
   "outputs": [],
   "source": [
    "l = [10, 20, 30, 40]\n",
    "l[1] = 200"
   ]
  },
  {
   "cell_type": "code",
   "execution_count": null,
   "metadata": {
    "colab": {},
    "colab_type": "code",
    "id": "WaAO_Ir2BmzH"
   },
   "outputs": [],
   "source": [
    "l"
   ]
  },
  {
   "cell_type": "markdown",
   "metadata": {
    "colab_type": "text",
    "id": "bu8DphbXBmzI"
   },
   "source": [
    "** List operation **\n",
    "\n",
    " **In** is used to perform membership operation. \n",
    " The result of expression equals to **True** if  a value exists in the  list, \n",
    " and equals to **False** otherwise.\n",
    " "
   ]
  },
  {
   "cell_type": "code",
   "execution_count": null,
   "metadata": {
    "colab": {},
    "colab_type": "code",
    "id": "XbCUkFPFBmzJ"
   },
   "outputs": [],
   "source": [
    "shoplist = ['apple', 'mango', 'carrot', 'banana']"
   ]
  },
  {
   "cell_type": "code",
   "execution_count": null,
   "metadata": {
    "colab": {},
    "colab_type": "code",
    "id": "FLXYQQo9BmzK"
   },
   "outputs": [],
   "source": [
    "'apple' in shoplist"
   ]
  },
  {
   "cell_type": "code",
   "execution_count": null,
   "metadata": {
    "colab": {},
    "colab_type": "code",
    "id": "IjdYHK1bBmzN"
   },
   "outputs": [],
   "source": [
    "'rice' in shoplist "
   ]
  },
  {
   "cell_type": "markdown",
   "metadata": {
    "colab_type": "text",
    "id": "UNLrFdonBmzO"
   },
   "source": [
    "Similarly, **In** operator also applies to **string** type. Here are some examples:\n",
    " "
   ]
  },
  {
   "cell_type": "code",
   "execution_count": null,
   "metadata": {
    "colab": {},
    "colab_type": "code",
    "id": "GsfGjlPyBmzP"
   },
   "outputs": [],
   "source": [
    "'a' in 'banana'"
   ]
  },
  {
   "cell_type": "code",
   "execution_count": null,
   "metadata": {
    "colab": {},
    "colab_type": "code",
    "id": "GBe4RSgOBmzQ"
   },
   "outputs": [],
   "source": [
    "'seed' in 'banana'    # Test if 'seed' is a substring of 'banana'  "
   ]
  },
  {
   "cell_type": "markdown",
   "metadata": {
    "colab_type": "text",
    "id": "HhQjXO2lBmzR"
   },
   "source": [
    "'**+**' is  used for concatenation operation, which  repeats a list a given number of times.  "
   ]
  },
  {
   "cell_type": "code",
   "execution_count": null,
   "metadata": {
    "colab": {},
    "colab_type": "code",
    "id": "X6RqwGxQBmzT"
   },
   "outputs": [],
   "source": [
    " [10, 20, 30, 40 ] + [50, 60]"
   ]
  },
  {
   "cell_type": "markdown",
   "metadata": {
    "colab_type": "text",
    "id": "F6tP9GVhBmzU"
   },
   "source": [
    " [50, 60]*3\n",
    "\n",
    "     "
   ]
  },
  {
   "cell_type": "markdown",
   "metadata": {
    "colab_type": "text",
    "id": "Nw0vR9K_BmzV"
   },
   "source": [
    "** List slices **\n",
    "Slicing operation allows to retrieve a slice of of the list. i.e. a part of the sequence. The sliding operation uses square brackets to enclose an optional pair of numbers separated by a colon. Again,    to count the position of items  from left(first item), start from $0$. If you count the position from right(last item), start from $-1$. "
   ]
  },
  {
   "cell_type": "code",
   "execution_count": null,
   "metadata": {
    "colab": {},
    "colab_type": "code",
    "id": "GqB8ElRVBmzV"
   },
   "outputs": [],
   "source": [
    "l = [1, 2, 3, 4]"
   ]
  },
  {
   "cell_type": "code",
   "execution_count": null,
   "metadata": {
    "colab": {},
    "colab_type": "code",
    "id": "qnnI1lXSBmzW"
   },
   "outputs": [],
   "source": [
    "l[1:3]     # From position 1 to position 3(excluded)"
   ]
  },
  {
   "cell_type": "code",
   "execution_count": null,
   "metadata": {
    "colab": {},
    "colab_type": "code",
    "id": "T1T4ljvqBmzY"
   },
   "outputs": [],
   "source": [
    "l[:2]     # From the beginning to position 2(excluede)"
   ]
  },
  {
   "cell_type": "code",
   "execution_count": null,
   "metadata": {
    "colab": {},
    "colab_type": "code",
    "id": "039r1EDMBmza"
   },
   "outputs": [],
   "source": [
    "l[-2:]    # From the second right  to the beginning "
   ]
  },
  {
   "cell_type": "markdown",
   "metadata": {
    "colab_type": "text",
    "id": "x9vjy8R6Bmzb"
   },
   "source": [
    "If you omit both the first and the second indices, the slice is a copy of the whole list. "
   ]
  },
  {
   "cell_type": "code",
   "execution_count": null,
   "metadata": {
    "colab": {},
    "colab_type": "code",
    "id": "e6U4CrvhBmzc"
   },
   "outputs": [],
   "source": [
    "l[:]"
   ]
  },
  {
   "cell_type": "markdown",
   "metadata": {
    "colab_type": "text",
    "id": "0wMQJlYIBmzf"
   },
   "source": [
    "Since lists are mutable, above expression is often useful to make a copy before modifying original list. "
   ]
  },
  {
   "cell_type": "code",
   "execution_count": null,
   "metadata": {
    "colab": {},
    "colab_type": "code",
    "id": "BA5iYESzBmzh"
   },
   "outputs": [],
   "source": [
    "l = [1, 2, 3, 4]\n",
    "l_org = l[:]\n",
    "l[0] = 8"
   ]
  },
  {
   "cell_type": "code",
   "execution_count": null,
   "metadata": {
    "colab": {},
    "colab_type": "code",
    "id": "qTMISAbJBmzn"
   },
   "outputs": [],
   "source": [
    "l"
   ]
  },
  {
   "cell_type": "code",
   "execution_count": null,
   "metadata": {
    "colab": {},
    "colab_type": "code",
    "id": "Smf9tzSSBmzp"
   },
   "outputs": [],
   "source": [
    "l_org  # the original list is unchanged\n",
    "     "
   ]
  },
  {
   "cell_type": "markdown",
   "metadata": {
    "colab_type": "text",
    "id": "2h-9tDg3Bmzq"
   },
   "source": [
    "** List methods **\n",
    "\n",
    "The methods most often applied to a list include: \n",
    "- append()\n",
    "- len()\n",
    "- sort()\n",
    "- split()\n",
    "- join()"
   ]
  },
  {
   "cell_type": "markdown",
   "metadata": {
    "colab_type": "text",
    "id": "qxDlX5huBmzr"
   },
   "source": [
    "**append()** method adds a new element to the end of a list."
   ]
  },
  {
   "cell_type": "code",
   "execution_count": null,
   "metadata": {
    "colab": {},
    "colab_type": "code",
    "id": "UUs8PmOiBmzs"
   },
   "outputs": [],
   "source": [
    "l= [1, 2, 3, 4]\n"
   ]
  },
  {
   "cell_type": "code",
   "execution_count": null,
   "metadata": {
    "colab": {},
    "colab_type": "code",
    "id": "sr7rr13xBmzt"
   },
   "outputs": [],
   "source": [
    "l"
   ]
  },
  {
   "cell_type": "code",
   "execution_count": null,
   "metadata": {
    "colab": {},
    "colab_type": "code",
    "id": "3BhyF427Bmzy"
   },
   "outputs": [],
   "source": [
    "l.append(5)\n",
    "l.append([6, 7])  #list [6, 7] is nested in lsit l"
   ]
  },
  {
   "cell_type": "code",
   "execution_count": null,
   "metadata": {
    "colab": {},
    "colab_type": "code",
    "id": "kHh85_Y6Bmzz"
   },
   "outputs": [],
   "source": [
    "l"
   ]
  },
  {
   "cell_type": "markdown",
   "metadata": {
    "colab_type": "text",
    "id": "XiLgDfWwBmz1"
   },
   "source": [
    " **len()** method returns the number of items of a list. "
   ]
  },
  {
   "cell_type": "code",
   "execution_count": null,
   "metadata": {
    "colab": {},
    "colab_type": "code",
    "id": "5wRXT4WcBmz1"
   },
   "outputs": [],
   "source": [
    "l = [1, 2, 3, 4, 5]\n",
    "len(l)"
   ]
  },
  {
   "cell_type": "code",
   "execution_count": null,
   "metadata": {
    "colab": {},
    "colab_type": "code",
    "id": "LhWFPL_zBmz2"
   },
   "outputs": [],
   "source": [
    "# A list nested in another list is counted as a single item\n",
    "l = [1, 2, 3, 4, 5, [6, 7]] \n",
    "len(l)"
   ]
  },
  {
   "cell_type": "markdown",
   "metadata": {
    "colab_type": "text",
    "id": "xvuQnOPRBmz3"
   },
   "source": [
    " **sort()** arranges the elements of the list from low to high. "
   ]
  },
  {
   "cell_type": "code",
   "execution_count": null,
   "metadata": {
    "colab": {},
    "colab_type": "code",
    "id": "v2Me8qqfBmz4"
   },
   "outputs": [],
   "source": [
    "shoplist = ['apple', 'mango', 'carrot', 'banana']\n",
    "shoplist.sort()"
   ]
  },
  {
   "cell_type": "code",
   "execution_count": null,
   "metadata": {
    "colab": {},
    "colab_type": "code",
    "id": "wNW-D9ifBmz6"
   },
   "outputs": [],
   "source": [
    "shoplist"
   ]
  },
  {
   "cell_type": "markdown",
   "metadata": {
    "colab_type": "text",
    "id": "YIPqgrbDBmz8"
   },
   "source": [
    "\t\n",
    " It is worth noted that **sort()** method modifies the list in place, and  does not return any value. Please try the following:"
   ]
  },
  {
   "cell_type": "code",
   "execution_count": null,
   "metadata": {
    "colab": {},
    "colab_type": "code",
    "id": "JauCHCv_Bmz8"
   },
   "outputs": [],
   "source": [
    "shoplist = ['apple', 'mango', 'carrot', 'banana']\n",
    "shoplist_sorted = shoplist.sort()"
   ]
  },
  {
   "cell_type": "code",
   "execution_count": null,
   "metadata": {
    "colab": {},
    "colab_type": "code",
    "id": "k1eeAAaxBmz_"
   },
   "outputs": [],
   "source": [
    "shoplist_sorted    # No value is returned\t"
   ]
  },
  {
   "cell_type": "markdown",
   "metadata": {
    "colab_type": "text",
    "id": "IxkXo9AZBm0A"
   },
   "source": [
    "\n",
    "There is an alternative way of sorting a list. The build-in function **sorted()** returns a sorted list, and keeps the original one unchanged.  "
   ]
  },
  {
   "cell_type": "code",
   "execution_count": null,
   "metadata": {
    "colab": {},
    "colab_type": "code",
    "id": "SiS31NXcBm0A"
   },
   "outputs": [],
   "source": [
    "shoplist = ['apple', 'mango', 'carrot', 'banana']\n",
    "shoplist_sorted = sorted(shoplist)          #sorted() function return a new list"
   ]
  },
  {
   "cell_type": "code",
   "execution_count": null,
   "metadata": {
    "colab": {},
    "colab_type": "code",
    "id": "K_eMR23aBm0F"
   },
   "outputs": [],
   "source": [
    "shoplist_sorted"
   ]
  },
  {
   "cell_type": "code",
   "execution_count": null,
   "metadata": {
    "colab": {},
    "colab_type": "code",
    "id": "5c1BtFjFBm0G"
   },
   "outputs": [],
   "source": [
    "shoplist"
   ]
  },
  {
   "cell_type": "markdown",
   "metadata": {
    "colab_type": "text",
    "id": "gmabEBPqBm0H"
   },
   "source": [
    "There are two frequently-used string methods that convert between lists and strings:\n",
    "\n",
    "First, **split()** methods is used to break a string into words:"
   ]
  },
  {
   "cell_type": "code",
   "execution_count": null,
   "metadata": {
    "colab": {},
    "colab_type": "code",
    "id": "NToLD-lOBm0I"
   },
   "outputs": [],
   "source": [
    "s = 'I love apples'\n",
    "s.split(' ')"
   ]
  },
  {
   "cell_type": "code",
   "execution_count": null,
   "metadata": {
    "colab": {},
    "colab_type": "code",
    "id": "1uH4tlgdBm0J"
   },
   "outputs": [],
   "source": [
    "s = 'spam-spam-spam'\n",
    "# A delimter '-' is specified here. It is used as word boundary\n",
    "s.split('-')  "
   ]
  },
  {
   "cell_type": "markdown",
   "metadata": {
    "colab_type": "text",
    "id": "XUuTMK7tBm0K"
   },
   "source": [
    "Second, **joint()** is the inverse of **split**. It takes a list of strings and concatenates the elements."
   ]
  },
  {
   "cell_type": "code",
   "execution_count": null,
   "metadata": {
    "colab": {},
    "colab_type": "code",
    "id": "HKZrUhUzBm0K"
   },
   "outputs": [],
   "source": [
    "l = ['I', 'love', 'apples']\n",
    "s = ' '.join(l)\n",
    "s"
   ]
  },
  {
   "cell_type": "markdown",
   "metadata": {
    "colab_type": "text",
    "id": "qFbGRFyoBm0M"
   },
   "source": [
    "How it works:\n",
    "\n",
    "Since **join** is a string method, you have to invoke it on the *delimiter*. In this case, the delimiter is a space character. So **' '.join()** puts a space between words. The list **l** is passed to **join()** as parameter. \n",
    "\n",
    "For more information on list methods, type \"help(list)\" in your notebook. "
   ]
  },
  {
   "cell_type": "markdown",
   "metadata": {
    "colab_type": "text",
    "id": "dOaAysQyBm0M"
   },
   "source": [
    "**Traverse a list**\n",
    "\n",
    "The most common way to traverse the items of a list is with a **for** loop. Try the following code:"
   ]
  },
  {
   "cell_type": "code",
   "execution_count": null,
   "metadata": {
    "colab": {},
    "colab_type": "code",
    "id": "2pUz_BuABm0M"
   },
   "outputs": [],
   "source": [
    "shoplist = ['apple', 'mango', 'carrot', 'banana']\n",
    "for item in shoplist:\n",
    "    print(item)"
   ]
  },
  {
   "cell_type": "markdown",
   "metadata": {
    "colab_type": "text",
    "id": "BdoviXGwBm0N"
   },
   "source": [
    "This works well if you only need to read the items of the list. However, you will need to use indices if you want to update the elements. In this case, you need to combine the function **range()** and **len()**.  "
   ]
  },
  {
   "cell_type": "code",
   "execution_count": null,
   "metadata": {
    "colab": {},
    "colab_type": "code",
    "id": "Hw-LhzXhBm0P"
   },
   "outputs": [],
   "source": [
    "l = [2, 3, 5, 7]\n",
    "\n",
    "for i in range(len(l)):\n",
    "       l[i] = l[i] * 2\n",
    "\n",
    "print(l)"
   ]
  },
  {
   "cell_type": "markdown",
   "metadata": {
    "colab_type": "text",
    "id": "6i0u44sWBm0Q"
   },
   "source": [
    "How it works:\n",
    "\n",
    "**len()** returns the number of items in the list, while **range(n)** returns a list from 0 to n - 1. By combining function  **len()** and **range()**, **i** gets the index of the next element  in each pass through the loop. The assignment statement then uses **i** to perform the operation. "
   ]
  },
  {
   "cell_type": "markdown",
   "metadata": {
    "colab_type": "text",
    "id": "PQIrW0NjBm0Q"
   },
   "source": [
    "<a id = \"cell_tuple\"></a>"
   ]
  },
  {
   "cell_type": "markdown",
   "metadata": {
    "colab_type": "text",
    "id": "kBsd3dhuBm0Q"
   },
   "source": [
    "### 3.2 Tuple\n",
    "\n",
    "**  Tuple are immutable **\n",
    "\n",
    "A **tuple** is also a sequence of values, and can be any type. Tuples and lists are very similar. The important difference is that tuples are immutable, which means they can not be changed. \n",
    "\n",
    "Tuples is typically used to group and organizing data into a single compound value.  For example, "
   ]
  },
  {
   "cell_type": "code",
   "execution_count": null,
   "metadata": {
    "colab": {},
    "colab_type": "code",
    "id": "wyr771UWBm0R"
   },
   "outputs": [],
   "source": [
    "year_born =  ('David Hilton', 1995)\n",
    "year_born"
   ]
  },
  {
   "cell_type": "markdown",
   "metadata": {
    "colab_type": "text",
    "id": "jS2uoyGvBm0S"
   },
   "source": [
    "To define a tuple, we use a list of values separated by comma. \n",
    "Although it is not necessary, it is common to enclose tuples in parentheses. \n",
    "\n",
    "Most list operators also work on tuples. \n",
    "The bracket operator indexes an item of tuples, and the slice operator works in similar way. \n",
    "\n",
    "Here is how to define a tuple:"
   ]
  },
  {
   "cell_type": "code",
   "execution_count": null,
   "metadata": {
    "colab": {},
    "colab_type": "code",
    "id": "sSoZ9rIGBm0S"
   },
   "outputs": [],
   "source": [
    "t  = ( ) # Empty tuple\n",
    "t"
   ]
  },
  {
   "cell_type": "code",
   "execution_count": null,
   "metadata": {
    "colab": {},
    "colab_type": "code",
    "id": "YFukci9YBm0T"
   },
   "outputs": [],
   "source": [
    "t = (1) \n",
    "type(t)  # Its type is int, since no comma is following"
   ]
  },
  {
   "cell_type": "code",
   "execution_count": null,
   "metadata": {
    "colab": {},
    "colab_type": "code",
    "id": "DCYLnFmxBm0U"
   },
   "outputs": [],
   "source": [
    "t = (1,)  # One item tuple; the item needs to be followed by a comma\n",
    "type(t)"
   ]
  },
  {
   "cell_type": "markdown",
   "metadata": {
    "colab_type": "text",
    "id": "JL76QtuYBm0V"
   },
   "source": [
    "Here is how to access elements of a tuple:"
   ]
  },
  {
   "cell_type": "code",
   "execution_count": null,
   "metadata": {
    "colab": {},
    "colab_type": "code",
    "id": "Tz1NCxjyBm0W"
   },
   "outputs": [],
   "source": [
    "t = ('a', 'b', 'c', 'd')"
   ]
  },
  {
   "cell_type": "code",
   "execution_count": null,
   "metadata": {
    "colab": {},
    "colab_type": "code",
    "id": "2iTzh6wwBm0Y"
   },
   "outputs": [],
   "source": [
    "t[0]"
   ]
  },
  {
   "cell_type": "code",
   "execution_count": null,
   "metadata": {
    "colab": {},
    "colab_type": "code",
    "id": "PlIiJg52Bm0Z"
   },
   "outputs": [],
   "source": [
    "t[1:3]"
   ]
  },
  {
   "cell_type": "markdown",
   "metadata": {
    "colab_type": "text",
    "id": "35hOHu21Bm0a"
   },
   "source": [
    "But if you try to modify the elements of the tuple, you get an error. "
   ]
  },
  {
   "cell_type": "code",
   "execution_count": null,
   "metadata": {
    "colab": {},
    "colab_type": "code",
    "id": "_r_paxZnBm0b"
   },
   "outputs": [],
   "source": [
    "t = ('a', 'b', 'c', 'd')\n",
    "t[1] = 'B'"
   ]
  },
  {
   "cell_type": "markdown",
   "metadata": {
    "colab_type": "text",
    "id": "Posmxo-aBm0c"
   },
   "source": [
    "### Tuple assignment\n",
    "\n",
    "Tuple assignment allows a tuple of variables on the left of an assignment to be assigned values from  a tuple on the right of the assignment. \n",
    "(We already saw this type of statements in the previous prac)\n",
    "\n",
    "For example,\n",
    " "
   ]
  },
  {
   "cell_type": "code",
   "execution_count": null,
   "metadata": {
    "colab": {},
    "colab_type": "code",
    "id": "ChvTjx6qBm0d"
   },
   "outputs": [],
   "source": [
    "t = ('David', '0233', 78)\n",
    "(name, id, score) = t"
   ]
  },
  {
   "cell_type": "code",
   "execution_count": null,
   "metadata": {
    "colab": {},
    "colab_type": "code",
    "id": "-WDeVp8MBm0e"
   },
   "outputs": [],
   "source": [
    "name "
   ]
  },
  {
   "cell_type": "code",
   "execution_count": null,
   "metadata": {
    "colab": {},
    "colab_type": "code",
    "id": "L4Ey2gDYBm0g"
   },
   "outputs": [],
   "source": [
    "id"
   ]
  },
  {
   "cell_type": "code",
   "execution_count": null,
   "metadata": {
    "colab": {},
    "colab_type": "code",
    "id": "v6i5qFp7Bm0h"
   },
   "outputs": [],
   "source": [
    "score"
   ]
  },
  {
   "cell_type": "markdown",
   "metadata": {
    "colab_type": "text",
    "id": "aYAZYDZ3Bm0i"
   },
   "source": [
    "Naturally, the number of variables on the left and the number of values on the right have to be the same.Otherwise, you will have a system error. "
   ]
  },
  {
   "cell_type": "code",
   "execution_count": null,
   "metadata": {
    "colab": {},
    "colab_type": "code",
    "id": "CZWKRkeZBm0j"
   },
   "outputs": [],
   "source": [
    "(a, b, c, d) = (1, 2, 3)\n"
   ]
  },
  {
   "cell_type": "markdown",
   "metadata": {
    "colab_type": "text",
    "id": "svAgKRIMBm0l"
   },
   "source": [
    "### Lists and tuples\n",
    "\n",
    "It is common to have a list of tuples. For loop can be used to travers the data.  For example,"
   ]
  },
  {
   "cell_type": "code",
   "execution_count": null,
   "metadata": {
    "colab": {},
    "colab_type": "code",
    "id": "erQ7rITYBm0l"
   },
   "outputs": [],
   "source": [
    "t = [('David', 90), ('John', 88), ('James', 70)]\n",
    "\n",
    "for (name, score) in t:\n",
    "       print(name, score) "
   ]
  },
  {
   "cell_type": "markdown",
   "metadata": {
    "colab_type": "text",
    "id": "0N9Ozh__Bm0m"
   },
   "source": [
    "<a id = \"cell_dict\"></a>"
   ]
  },
  {
   "cell_type": "markdown",
   "metadata": {
    "colab_type": "text",
    "id": "P7Te1xa1Bm0o"
   },
   "source": [
    "### 3.3 Dictionary\n",
    "\n",
    "A **dictionary** is like an address-book where you can find the address or contact details of a person by knowing only his/her name. The way of achieving this is to associate **keys**(names) with **values**(details). Note that the key in a dictionary must be unique. Otherwise we are not able to locate correct information through the key. \n",
    "\n",
    "Also worth noted is that we can only use immutable objects(strings, tuples) for the keys, but we can use either immutable or mutable objects for the values of the dictionary. This means  we can use either a string, a tuple or a list  for dictionary values.\n",
    "\n",
    "The following example defines a dictionary: "
   ]
  },
  {
   "cell_type": "code",
   "execution_count": null,
   "metadata": {
    "colab": {},
    "colab_type": "code",
    "id": "uclLe92SBm0o"
   },
   "outputs": [],
   "source": [
    "dict = {'David': 70, 'John': 60, 'Mike': 85}\n",
    "dict['David']\n",
    "dict['Anne'] = 92  # add an new item in the dictionary\n",
    "dict"
   ]
  },
  {
   "cell_type": "markdown",
   "metadata": {
    "colab_type": "text",
    "id": "oLay_eiFBm0q"
   },
   "source": [
    "** Traverse a dictionary **\n",
    "\n",
    "The key-value pairs in a dictionary are **not** ordered in any manner. The following example uses **for** loop to traversal a dictionary. Notice that the keys are in no particular order. "
   ]
  },
  {
   "cell_type": "code",
   "execution_count": null,
   "metadata": {
    "colab": {},
    "colab_type": "code",
    "id": "QKfMs36lBm0t"
   },
   "outputs": [],
   "source": [
    "dict = {'Daid': 70, 'John': 60, 'Amy': 85}\n",
    "\n",
    "for key in dict:\n",
    "    print(key, dict[key])"
   ]
  },
  {
   "cell_type": "markdown",
   "metadata": {
    "colab_type": "text",
    "id": "vLKSyg5OBm0u"
   },
   "source": [
    "However, we can sort the keys of dictionary before using it if necessary. The following example sorts the keys and stored the result in a list **sortedKey**. The **for** loop then iterates through list **sortedKey**. The items in  the dictionary can then be accessed via the names in alphabetical order. Note that dictionary's **keys()** method is used to return a list of all the available keys in the dictionary. "
   ]
  },
  {
   "cell_type": "code",
   "execution_count": null,
   "metadata": {
    "colab": {},
    "colab_type": "code",
    "id": "hLZi1CgdBm0u"
   },
   "outputs": [],
   "source": [
    "dict = {'David': 70, 'John': 60, 'Amy': 85}\n",
    "sortedKeys = sorted(dict.keys())\n",
    "\n",
    "for key in sortedKeys:\n",
    "    print(key, dict[key])\n"
   ]
  }
 ],
 "metadata": {
  "colab": {
   "collapsed_sections": [
    "J5V62gWWBmxg",
    "ySAgg2-5BmyO",
    "zSrk7ffZBmyV",
    "Ry-Vx12jBmyb",
    "kBsd3dhuBm0Q",
    "Posmxo-aBm0c",
    "svAgKRIMBm0l",
    "P7Te1xa1Bm0o"
   ],
   "name": "SIT742P01B-ControlAdvData.ipynb",
   "provenance": [
    {
     "file_id": "https://github.com/tulip-lab/sit742/blob/master/Jupyter/SIT742P01B-ControlAdvData.ipynb",
     "timestamp": 1552262004659
    }
   ],
   "toc_visible": true,
   "version": "0.3.2"
  },
  "kernelspec": {
   "display_name": "Python 3",
   "language": "python",
   "name": "python3"
  },
  "language_info": {
   "codemirror_mode": {
    "name": "ipython",
    "version": 3
   },
   "file_extension": ".py",
   "mimetype": "text/x-python",
   "name": "python",
   "nbconvert_exporter": "python",
   "pygments_lexer": "ipython3",
   "version": "3.7.6"
  }
 },
 "nbformat": 4,
 "nbformat_minor": 4
}
