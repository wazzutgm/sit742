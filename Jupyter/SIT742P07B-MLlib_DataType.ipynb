{
  "nbformat": 4,
  "nbformat_minor": 0,
  "metadata": {
    "colab": {
      "name": "SIT742P07B-MLlib-DataType.ipynb",
      "version": "0.3.2",
      "provenance": [],
      "collapsed_sections": [],
      "toc_visible": true
    },
    "language_info": {
      "mimetype": "text/x-python",
      "nbconvert_exporter": "python",
      "version": "3.5.5",
      "name": "python",
      "file_extension": ".py",
      "pygments_lexer": "ipython3",
      "codemirror_mode": {
        "version": 3,
        "name": "ipython"
      }
    },
    "kernelspec": {
      "display_name": "Python 3.5",
      "name": "python3",
      "language": "python"
    }
  },
  "cells": [
    {
      "cell_type": "markdown",
      "metadata": {
        "colab_type": "text",
        "id": "rF7pYIhsLtui"
      },
      "source": [
        "# SIT742: Modern Data Science \n",
        "**(Week 07: Big Data Platform (II))**\n",
        "\n",
        "---\n",
        "- Materials in this module include resources collected from various open-source online repositories.\n",
        "- You are free to use, change and distribute this package.\n",
        "- If you found any issue/bug for this document, please submit an issue at [tulip-lab/sit742](https://github.com/tulip-lab/sit742/issues)\n",
        "\n",
        "Prepared by **SIT742 Teaching Team**\n",
        "\n",
        "---\n",
        "\n",
        "\n",
        "\n",
        "## Session 7B - Spark MLlib (1): Data Types\n",
        "\n",
        "\n",
        "The purpose of this session is to demonstrate different [coefficient and linear regression](https://statisticsbyjim.com/glossary/regression-coefficient/).\n",
        "\n",
        "\n",
        "### Content\n",
        "\n",
        "### Part 1 Vectors\n",
        "\n",
        "1.1 Dense and Sparse Vectors\n",
        "\n",
        "1.2 Labeled Points\n",
        "\n",
        "\n",
        "### Part 2 Matrix Data Types\n",
        "\n",
        "2.1 Local Matrix\n",
        "\n",
        "2.2 Row Matrix\n",
        "\n",
        "2.3 Indexed Row Matrix\n",
        "\n",
        "2.4 Coordinate Matrix\n",
        "\n",
        "2.5 Block Matrix\n",
        "\n",
        "### Part 3 Matrix Conversions\n",
        "\n",
        "3.1 Indexed Row Matrix Conversions\n",
        "\n",
        "3.2 Coordinate Matrix Conversions\n",
        "\n",
        "3.3 Block Matrix Conversions\n"
      ]
    },
    {
      "cell_type": "markdown",
      "metadata": {
        "colab_type": "text",
        "id": "fxE6Q1h2Ltuj"
      },
      "source": [
        "# Part1. Vectors\n"
      ]
    },
    {
      "cell_type": "markdown",
      "metadata": {
        "id": "iUYZnCRshnLs",
        "colab_type": "text"
      },
      "source": [
        "## 1.1.Dense and Sparse Vectors\n",
        "\n",
        "Spark has many libraries, namely under MLlib (Machine Learning Library). It allows for quick and easy scalability of practical machine learning.\n",
        "\n",
        "In this lab exercise, you will learn about the basic Data Types that are used in Spark MLlib. This lab will help you develop the building blocks required to continue developing knowledge in machine learning with Spark.\n",
        "\n",
        "Import the following libraries: <br>\n",
        "<ul>\n",
        "    <li> numpy as np </li>\n",
        "    <li> scipy.sparse as sps </li>\n",
        "    <li> Vectors from pyspark.mllib.linalg </li>\n",
        "</ul>"
      ]
    },
    {
      "cell_type": "code",
      "metadata": {
        "colab_type": "code",
        "id": "LMSzEzOPQ94_",
        "colab": {}
      },
      "source": [
        "!apt-get install openjdk-8-jdk-headless -qq > /dev/null\n",
        "!wget -q https://archive.apache.org/dist/spark/spark-2.4.0/spark-2.4.0-bin-hadoop2.7.tgz\n",
        "!tar xf spark-2.4.0-bin-hadoop2.7.tgz\n",
        "!pip install -q findspark\n",
        "\n",
        "import os\n",
        "os.environ[\"JAVA_HOME\"] = \"/usr/lib/jvm/java-8-openjdk-amd64\"\n",
        "os.environ[\"SPARK_HOME\"] = \"/content/spark-2.4.0-bin-hadoop2.7\"\n",
        "\n",
        "import findspark\n",
        "findspark.init() "
      ],
      "execution_count": 0,
      "outputs": []
    },
    {
      "cell_type": "code",
      "metadata": {
        "colab_type": "code",
        "id": "5OKTJqzVLtuk",
        "colab": {}
      },
      "source": [
        "import numpy as np\n",
        "import scipy.sparse as sps\n",
        "from pyspark.mllib.linalg import Vectors\n",
        "\n",
        "import time"
      ],
      "execution_count": 0,
      "outputs": []
    },
    {
      "cell_type": "markdown",
      "metadata": {
        "colab_type": "text",
        "id": "-GjbNjCnLtuo"
      },
      "source": [
        "A local vector has integer-typed and 0-based indices and double-typed values, stored on a single machine. MLlib supports two types of **local vectors**: **dense** and **sparse**. A dense vector is backed by a double array representing its entry values, while a sparse vector is backed by two parallel arrays: indices and values. For example, a vector (1.0, 0.0, 3.0) can be represented in dense format as [1.0, 0.0, 3.0] or in sparse format as (3, [0, 2], [1.0, 3.0]), where 3 is the size of the vector.\n",
        "\n",
        "\n",
        "First, we will be dealing with <b>Dense Vectors</b>. For example, we assume that the dense vectors will be modeled having the values: <b>8.0, 312.0, -9.0, 1.3</b>. There are 2 types of <b>dense vectors</b> that we can create. \n",
        "\n",
        "The first dense vector we will create is as easy as creating a numpy array, which is using the np.array function, create a dense vector called dense_vector1.\n"
      ]
    },
    {
      "cell_type": "markdown",
      "metadata": {
        "colab_type": "text",
        "id": "x_t6dCTJLtuo"
      },
      "source": [
        "Note: numpy's array function takes an array as input"
      ]
    },
    {
      "cell_type": "code",
      "metadata": {
        "colab_type": "code",
        "id": "spj1u4WqLtup",
        "colab": {}
      },
      "source": [
        "dense_vector1 = np.array([8.0, 312.0, -9.0, 1.3])\n",
        "\n",
        "print (dense_vector1)\n",
        "type(dense_vector1)"
      ],
      "execution_count": 0,
      "outputs": []
    },
    {
      "cell_type": "markdown",
      "metadata": {
        "colab_type": "text",
        "id": "3qv14ZuFLtut"
      },
      "source": [
        "The second <b>dense vector</b> is easier than the first, and is made by creating an <b>array</b>, which is to create a <b>dense vector</b> called <b>dense_vector2</b>"
      ]
    },
    {
      "cell_type": "code",
      "metadata": {
        "colab_type": "code",
        "id": "NgHqVADALtut",
        "colab": {}
      },
      "source": [
        "dense_vector2 = [8.0, 312.0, -9.0, 1.3]\n",
        "\n",
        "print (dense_vector2)\n",
        "type (dense_vector2)"
      ],
      "execution_count": 0,
      "outputs": []
    },
    {
      "cell_type": "markdown",
      "metadata": {
        "colab_type": "text",
        "id": "dTXUbxQKLtux"
      },
      "source": [
        "Next, we will be dealing with <b>sparse vectors</b>. There are 2 types of <b>sparse vectors</b> we can create. <br>\n",
        "The sparse vectors we will be creating will follow these values: <b> 7.0, 0.0, 0.0, 2.0, 0.0, 1.0, 0.0, 0.0, 0.0, 6.5 </b>"
      ]
    },
    {
      "cell_type": "markdown",
      "metadata": {
        "colab_type": "text",
        "id": "J_bkfTv_Ltuy"
      },
      "source": [
        "First, create a <b>sparse vector</b> called <b>sparse_vector1</b> using Vector's <b>sparse</b> function. <br>\n",
        "Parameters to Vector.sparse: <br>\n",
        "<ul>\n",
        "    <li>1st parameter:  Size of the sparse vector</li>\n",
        "    <li>2nd parameter: Indicies of array</li>\n",
        "    <li>3rd parameter:  Values placed where the indices are</li>\n",
        "</ul>"
      ]
    },
    {
      "cell_type": "code",
      "metadata": {
        "colab_type": "code",
        "id": "xQjlxLH5Ltuz",
        "colab": {}
      },
      "source": [
        "#Size of the sparse vector =10\n",
        "#Indicies of array:[0, 3, 5, 9]. Becuase the index of 7.0 is 0, the index of 2.0 is 3, the index of 1.0 is 5 \n",
        "#and the index of 6.5 is 9\n",
        "#Values placed where the indices are:[7.0, 2.0, 1.0, 6.5]\n",
        "sparse_vector1 = Vectors.sparse(10, [0, 3, 5, 9], [7.0, 2.0, 1.0, 6.5])\n",
        "print(sparse_vector1)\n",
        "type(sparse_vector1)"
      ],
      "execution_count": 0,
      "outputs": []
    },
    {
      "cell_type": "markdown",
      "metadata": {
        "colab_type": "text",
        "id": "VFPkxm3WLtu3"
      },
      "source": [
        "Next we will create a <b>sparse vector</b> called <b>sparse_vector2</b> using a single-column SciPy <b>csc_matrix</b> <br> <br>\n",
        "The inputs to sps.csc_matrix are: <br>\n",
        "<ul>\n",
        "    <li>1st: A tuple consisting of the three inputs:</li>\n",
        "    <ul>\n",
        "        <li>1st:  Data Values (in a numpy array) (values placed at the specified indices)</li>\n",
        "        <li>2nd: Indicies of the array (in a numpy array) (where the values will be placed)</li>\n",
        "        <li>3rd:  Index pointer of the array (in a numpy array)</li>\n",
        "    </ul>\n",
        "    <li>2nd: Shape of the array (#rows, #columns) Use 10 rows and 1 column</li>\n",
        "    <ul>\n",
        "        <li>shape = (\\_,\\_)</li>\n",
        "    </ul>\n",
        "</ul> <br>\n",
        "Note: You may get a deprecation warning. Please Ignore it."
      ]
    },
    {
      "cell_type": "code",
      "metadata": {
        "scrolled": true,
        "colab_type": "code",
        "id": "Kj5AQlFbLtu4",
        "colab": {}
      },
      "source": [
        "#[7.0, 0.0, 0.0, 2.0, 0.0, 1.0, 0.0, 0.0, 0.0, 6.5]\n",
        "#Data Values[7.0, 2.0, 1.0, 6.5] All none-zero value\n",
        "#Indicies of the array[0,3,5,9]  All none-zero value Indicies\n",
        "#Index pointer of the array[0,4] The number of all nonx-zero value\n",
        "#Shape[10,1] 10 row and 1 column\n",
        "sparse_vector2 = sps.csc_matrix((np.array([7.0, 2.0, 1.0, 6.5]), np.array([0, 3, 5, 9]), np.array([0, 4])), shape = (10, 1))\n",
        "\n",
        "print (sparse_vector2)\n",
        "print (type(sparse_vector2))\n",
        "print (sparse_vector2.toarray())"
      ],
      "execution_count": 0,
      "outputs": []
    },
    {
      "cell_type": "markdown",
      "metadata": {
        "id": "xwlPRhfmrk06",
        "colab_type": "text"
      },
      "source": [
        "You  also can try the ** sps.csr_matrix** function. It syntax is similar with the csc_martix. just the definition of the Shape is different."
      ]
    },
    {
      "cell_type": "code",
      "metadata": {
        "id": "6VgQG_uMrjSU",
        "colab_type": "code",
        "colab": {}
      },
      "source": [
        "#[7.0, 0.0, 0.0, 2.0, 0.0, 1.0, 0.0, 0.0, 0.0, 6.5]\n",
        "#[7.0, 0.0, 0.0, 2.0, 0.0, 1.0, 0.0, 0.0, 0.0, 6.5]\n",
        "#Data Values[7.0, 2.0, 1.0, 6.5] All none-zero value\n",
        "#Indicies of the array[0,3,5,9]  All none-zero value Indicies\n",
        "#Index pointer of the array[0,4] The number of all nonx-zero value\n",
        "#Shape[1,10] 1 row and 10 column\n",
        "sparse_vector3 = sps.csr_matrix((np.array([7.0, 2.0, 1.0, 6.5]), np.array([0, 3, 5, 9]), np.array([0, 4])), shape = (1, 10))\n",
        "\n",
        "print (sparse_vector3)\n",
        "print (type(sparse_vector3))\n",
        "print (sparse_vector3.toarray())"
      ],
      "execution_count": 0,
      "outputs": []
    },
    {
      "cell_type": "markdown",
      "metadata": {
        "colab_type": "text",
        "id": "9OUCr_OXLtu8"
      },
      "source": [
        "<a id = \"lpoints\"></a>\n",
        "### <span style=\"color:#0b486b\">1.2 Labeled Points</span>\n",
        "\n",
        "So the next data type will be Labeled points. A labeled point is a local vector, either dense or sparse, associated with a label/response. In MLlib, labeled points are used in supervised learning algorithms. We use a double to store a label, so we can use labeled points in both regression and classification. For binary classification, a label should be either 0 (negative) or 1 (positive). For multiclass classification, labels should be class indices starting from zero: 0, 1, 2, ....\n",
        "\n",
        "Start by importing the following libraries: <br>\n",
        "<ul>\n",
        "    <li>SparseVector from pyspark.mllib.linalg</li>\n",
        "    <li>LabeledPoint from pyspark.mllib.regression</li>\n",
        "</ul>\n",
        "Remember that this data type is mainly used for **classification algorithms in supervised learning**.<br>"
      ]
    },
    {
      "cell_type": "code",
      "metadata": {
        "colab_type": "code",
        "id": "7WNcBzIuLtu9",
        "colab": {}
      },
      "source": [
        "from pyspark.mllib.linalg import SparseVector\n",
        "from pyspark.mllib.regression import LabeledPoint"
      ],
      "execution_count": 0,
      "outputs": []
    },
    {
      "cell_type": "markdown",
      "metadata": {
        "colab_type": "text",
        "id": "-zoLOpJxLtvA"
      },
      "source": [
        "Remember that with a lableled point, we can create binary or multiclass classification. In this lab, we will deal with binary classification for ease. <br> <br>\n",
        "The <b>LabeledPoint</b> function takes in 2 inputs:\n",
        "<ul>\n",
        "    <li>1st: Label of the Point. In this case (for binary classification), we will be using <font color=\"green\">1.0</font> for <font color=\"green\">positive</font> and <font color=\"red\">0.0</font> for <font color=\"red\">negative</font></li>\n",
        "    <li>2nd: Vector of features for the point (We will input a Dense or Sparse Vector using any of the methods defined in the <b>Dense and Sparse Vectors</b> section of this lab.</b>\n",
        "</ul>"
      ]
    },
    {
      "cell_type": "markdown",
      "metadata": {
        "colab_type": "text",
        "id": "6tgapsamLtvB"
      },
      "source": [
        "Using the LabelPoint class, create a <b>dense</b> feature vector with a <b>positive</b> label called <b>pos_class</b> with the values: <b>5.0, 2.0, 1.0, 9.0</b>"
      ]
    },
    {
      "cell_type": "code",
      "metadata": {
        "colab_type": "code",
        "id": "DNYHl94wLtvB",
        "colab": {}
      },
      "source": [
        "#1.0 means the positive\n",
        "#[5.0, 2.0, 1.0, 9.0] are vectors of features for the point\n",
        "pos_class = LabeledPoint(1.0, [5.0, 2.0, 1.0, 9.0])\n",
        "print(pos_class)\n",
        "type(pos_class)"
      ],
      "execution_count": 0,
      "outputs": []
    },
    {
      "cell_type": "markdown",
      "metadata": {
        "colab_type": "text",
        "id": "bM4Q3-kELtvG"
      },
      "source": [
        "Next we will create a <b>sparse</b> feature vector with a <b>negative</b> label called <b>neg_class</b> with the values: <b>1.0, 0.0, 0.0, 4.0, 0.0, 2.0</b>"
      ]
    },
    {
      "cell_type": "code",
      "metadata": {
        "colab_type": "code",
        "id": "7SPDsrF3LtvH",
        "colab": {}
      },
      "source": [
        "neg_class = LabeledPoint(0.0, SparseVector(6, [0, 3, 5], [1.0, 4.0, 2.0]))\n",
        "print(neg_class)\n",
        "type(neg_class)"
      ],
      "execution_count": 0,
      "outputs": []
    },
    {
      "cell_type": "markdown",
      "metadata": {
        "colab_type": "text",
        "id": "fxIOHyJkLtvN"
      },
      "source": [
        "---\n",
        "## <span style=\"color:#0b486b\">2. Matrix Data Types</span>\n",
        "\n",
        "\n",
        "In this next section, we will be dealing creating the following matrices:\n",
        "<ul>\n",
        "    <li>Local Matrix</li>\n",
        "    <li>Row Matrix</li>\n",
        "    <li>Indexed Row Matrix</li>\n",
        "    <li>Coordinate Matrix</li>\n",
        "    <li>Block Matrix</li>\n",
        "</ul> \n",
        "\n",
        "Throughout this section, we will be modelling the following matricies: <br> \n",
        "\n",
        "<center>For a Dense Matrix:</center> <br> \n",
        "\n",
        "$$\n",
        " \\begin{pmatrix}\n",
        "  1.00 & 6.00 & 3.00 & 0.00 \\\\\n",
        "  3.00 & 2.00 & 5.00 & 1.00 \\\\\n",
        "  9.00 & 4.00 & 0.00 & 3.00 \n",
        " \\end{pmatrix}\n",
        "$$\n",
        "\n",
        "<center>For a Sparse Matrix:</center> <br> \n",
        "\n",
        "$$\n",
        " \\begin{pmatrix}\n",
        "  1.00 & 0.00 & 3.00 & 0.00 \\\\\n",
        "  3.00 & 0.00 & 0.00 & 1.00 \\\\\n",
        "  0.00 & 4.00 & 0.00 & 0.00 \n",
        " \\end{pmatrix}\n",
        "$$"
      ]
    },
    {
      "cell_type": "markdown",
      "metadata": {
        "colab_type": "text",
        "id": "pRH3OxKdLtvN"
      },
      "source": [
        "<a id = \"lm\"></a>\n",
        "### <span style=\"color:#0b486b\">2.1 Local Matrix</span>\n",
        "\n",
        "A local matrix has integer-typed row and column indices and double-typed values, stored on a single machine. MLlib supports dense matrices, whose entry values are stored in a single double array in column-major order, and sparse matrices, whose non-zero entry values are stored in the Compressed Sparse Column (CSC) format in column-major order. \n",
        "\n",
        "Import the following Library:\n",
        "<ul>\n",
        "    <li>pyspark.mllib.linalg as laMat</li>\n",
        "</ul>"
      ]
    },
    {
      "cell_type": "code",
      "metadata": {
        "colab_type": "code",
        "id": "Y6ZCp5fPLtvO",
        "colab": {}
      },
      "source": [
        "import pyspark.mllib.linalg as laMat"
      ],
      "execution_count": 0,
      "outputs": []
    },
    {
      "cell_type": "markdown",
      "metadata": {
        "colab_type": "text",
        "id": "ooA-s7JkLtvP"
      },
      "source": [
        "Create a dense local matrix called <b>dense_LM</b> <br>\n",
        "The inputs into the <b>laMat.Matrices.dense</b> function are:\n",
        "<ul>\n",
        "    <li>1st: Number of Rows</li>\n",
        "    <li>2nd: Number of Columns</li>\n",
        "    <li>3rd: Values in an array format (Read as Column-Major)</li>\n",
        "</ul>"
      ]
    },
    {
      "cell_type": "code",
      "metadata": {
        "scrolled": true,
        "colab_type": "code",
        "id": "kHPxNCs_LtvP",
        "colab": {}
      },
      "source": [
        "#3 Rows\n",
        "#4 Columns\n",
        "#[1.0, 3.0, 9.0, 6.0, 2.0, 4.0, 3.0, 5.0, 0.0, 0.0, 1.0, 3.0] are values in an array format\n",
        "dense_LM = laMat.Matrices.dense(3,4, [1.0, 3.0, 9.0, 6.0, 2.0, 4.0, 3.0, 5.0, 0.0, 0.0, 1.0, 3.0])\n",
        "\n",
        "print(dense_LM)\n",
        "type(dense_LM)"
      ],
      "execution_count": 0,
      "outputs": []
    },
    {
      "cell_type": "markdown",
      "metadata": {
        "colab_type": "text",
        "id": "qSCT1fI9LtvW"
      },
      "source": [
        "Next we will do the same thing with a sparse matrix, calling the output <b>sparse_LM</b>\n",
        "The inputs into the <b>laMat.Matrices.sparse</b> function are:\n",
        "<ul>\n",
        "    <li>1st: Number of Rows</li>\n",
        "    <li>2nd: Number of Columns</li>\n",
        "    <li>3rd: Column Pointers (in a list)</li>\n",
        "    <li>4th: Row Indices (in a list)</li>\n",
        "    <li>5th: Values of the Matrix (in a list)</li>\n",
        "</ul> <br>\n",
        "<b>Note</b>: Remember that this is <b>column-major</b> so all arrays should be read as columns first (top down, left to right)"
      ]
    },
    {
      "cell_type": "code",
      "metadata": {
        "colab_type": "code",
        "id": "6bwOstRmLtvW",
        "colab": {}
      },
      "source": [
        "#For a spare Martix\n",
        "#         ([[1., 0., 3., 0.],\n",
        "#           [3., 0., 0., 1.],\n",
        "#           [0., 4., 0., 0.]])\n",
        "#1st: Number of Rows = 3\n",
        "#2nd: Number of Columns= 4\n",
        "#3rd: Column Pointers (in a list) = [0, 2, 3, 4, 5]\n",
        "#4th: Row Indices (in a list) =  [0, 1, 2, 0, 1]  \n",
        "#5th: Values of the Matrix (in a list) = [1.0, 3.0, 4.0, 3.0, 1.0]\n",
        "sparse_LM = laMat.Matrices.sparse(3, 4, [0, 2, 3, 4, 5], [0, 1, 2, 0, 1], [1.0, 3.0, 4.0, 3.0, 1.0])\n",
        "print(sparse_LM)\n",
        "type(sparse_LM)\n",
        "print(sparse_LM.toDense())"
      ],
      "execution_count": 0,
      "outputs": []
    },
    {
      "cell_type": "markdown",
      "metadata": {
        "colab_type": "text",
        "id": "o0TC5c49Ltva"
      },
      "source": [
        "Make sure the output of <b>sparse_LM</b> matches the original matrix.\n",
        "\n",
        "Please refer the sample on the webpage for the understanding: https://stackoverflow.com/questions/44825193/how-to-create-a-sparse-cscmatrix-using-spark"
      ]
    },
    {
      "cell_type": "markdown",
      "metadata": {
        "collapsed": true,
        "colab_type": "text",
        "id": "auGeFkoFLtva"
      },
      "source": [
        "<a id = \"rm\"></a>\n",
        "### <span style=\"color:#0b486b\">2.2 Row Matrix</span>\n",
        "\n",
        "A RowMatrix is a row-oriented distributed matrix without meaningful row indices, backed by an RDD of its rows, where each row is a local vector. Since each row is represented by a local vector, the number of columns is limited by the integer range but it should be much smaller in practice.\n",
        "\n",
        "Import the following library:\n",
        "<ul>\n",
        "    <li>RowMatrix from pyspark.mllib.linalg.distributed</li>\n",
        "</ul>"
      ]
    },
    {
      "cell_type": "code",
      "metadata": {
        "colab_type": "code",
        "id": "OAlvgx4ULtvb",
        "colab": {}
      },
      "source": [
        "from pyspark.mllib.linalg.distributed import RowMatrix\n",
        "from pyspark import SparkContext\n",
        "from pyspark.sql import SQLContext\n",
        "sc = SparkContext.getOrCreate()\n",
        "sqlContext = SQLContext(sc) "
      ],
      "execution_count": 0,
      "outputs": []
    },
    {
      "cell_type": "markdown",
      "metadata": {
        "colab_type": "text",
        "id": "3v58xbj4Ltvc"
      },
      "source": [
        "Now, let's create a RDD of vectors called <b>rowVecs</b>, using the SparkContext's parallelize function on the <b>Dense Matrix</b>.<br>\n",
        "The input into <b>sc.parallelize</b> is:\n",
        "<ul>\n",
        "    <li>A list (The list we will be creating will be a list of the row values (each row is a list))</li>\n",
        "</ul> <br>\n",
        "<b>Note</b>: And RDD is a fault-tolerated collection of elements that can be operated on in parallel. <br>"
      ]
    },
    {
      "cell_type": "code",
      "metadata": {
        "colab_type": "code",
        "id": "NU9gd8gELtvc",
        "colab": {}
      },
      "source": [
        "rowVecs = sc.parallelize([[1.0, 6.0, 3.0, 0.0],\n",
        "                       [3.0, 2.0, 5.0, 1.0],\n",
        "                       [9.0, 4.0, 0.0, 3.0]])"
      ],
      "execution_count": 0,
      "outputs": []
    },
    {
      "cell_type": "markdown",
      "metadata": {
        "colab_type": "text",
        "id": "GrEDkMImLtve"
      },
      "source": [
        "Next, create a variable called <b>rowMat</b> by using the <b>RowMatrix</b> function and passing in the RDD."
      ]
    },
    {
      "cell_type": "code",
      "metadata": {
        "colab_type": "code",
        "id": "-cu9FWO0Ltvf",
        "colab": {}
      },
      "source": [
        "rowMat = RowMatrix(rowVecs)"
      ],
      "execution_count": 0,
      "outputs": []
    },
    {
      "cell_type": "markdown",
      "metadata": {
        "colab_type": "text",
        "id": "VlBA51xsLtvg"
      },
      "source": [
        "Now we will retrieve the <font color=\"green\">row numbers</font> (save it as <font color=\"green\">m</font>) and <font color=\"blue\">column numbers</font> (save it as <font color=\"blue\">n</font>) from the RowMatrix.\n",
        "<ul>\n",
        "    <li>To get the number of rows, use <i>numRows()</i> on rowMat</li>\n",
        "    <li>To get the number of columns, use <i>numCols()</i> on rowMat</li>\n",
        "</ul>"
      ]
    },
    {
      "cell_type": "code",
      "metadata": {
        "colab_type": "code",
        "id": "_KZ07eSfLtvh",
        "colab": {}
      },
      "source": [
        "m = rowMat.numRows()\n",
        "n = rowMat.numCols()"
      ],
      "execution_count": 0,
      "outputs": []
    },
    {
      "cell_type": "markdown",
      "metadata": {
        "colab_type": "text",
        "id": "B08WFgLELtvi"
      },
      "source": [
        "Print out <b>m</b> and <b>n</b>. The results should be:\n",
        "<ul>\n",
        "    <li>Number of Rows: 3</li>\n",
        "    <li>Number of Columns: 4</li>\n",
        "</ul>"
      ]
    },
    {
      "cell_type": "code",
      "metadata": {
        "colab_type": "code",
        "id": "Q3rjVcQELtvj",
        "colab": {}
      },
      "source": [
        "print(m)\n",
        "\n",
        "print(n)"
      ],
      "execution_count": 0,
      "outputs": []
    },
    {
      "cell_type": "markdown",
      "metadata": {
        "colab_type": "text",
        "id": "AHAqheSfLtvk"
      },
      "source": [
        "<a id = \"irm\"></a>\n",
        "### <span style=\"color:#0b486b\">2.3 Indexed Row Matrix</span>\n",
        "\n",
        "An IndexedRowMatrix is similar to a RowMatrix but with meaningful row indices. It is backed by an RDD of indexed rows, so that each row is represented by its index (long-typed) and a local vector.\n",
        "\n",
        "Import the following Library:\n",
        "<ul>\n",
        "    <li> IndexedRow, IndexedRowMatrix from pyspark.mllib.linalg.distributed</li>\n",
        "</ul>"
      ]
    },
    {
      "cell_type": "code",
      "metadata": {
        "colab_type": "code",
        "id": "po_80C3MLtvl",
        "colab": {}
      },
      "source": [
        "from pyspark.mllib.linalg.distributed import IndexedRow, IndexedRowMatrix"
      ],
      "execution_count": 0,
      "outputs": []
    },
    {
      "cell_type": "markdown",
      "metadata": {
        "colab_type": "text",
        "id": "OuGXYDjOLtvm"
      },
      "source": [
        "Now, create a RDD called <b>indRows</b> by using the SparkContext's parallelize function on the <b>Dense Matrix</b>. <br>\n",
        "There are two different inputs you can use to create the RDD:\n",
        "<ul>\n",
        "    <li>Method 1: A list containing multiple IndexedRow inputs</li>\n",
        "    <ul>\n",
        "        <li>Input into IndexedRow:</li>\n",
        "        <ul>\n",
        "            <li>1. Index for the given row (row number)</li>\n",
        "            <li>2. row in the matrix for the given index</li>\n",
        "        </ul>\n",
        "        <li>ex. sc.parallelize([IndexedRow(0,[1, 2, 3]), ...])</li>\n",
        "    </ul> <br>\n",
        "    <li>Method 2: A list containing multiple tuples</li>\n",
        "    <ul>\n",
        "        <li>Values in the tuple:</li>\n",
        "        <ul>\n",
        "            <li>1. Index for the given row (row number) (type:long)</li>\n",
        "            <li>2. List containing the values in the row for the given index (type:vector)</li>\n",
        "        </ul>\n",
        "        <li>ex. sc.parallelize([(0, [1, 2, 3]), ...])</li>\n",
        "    </ul>\n",
        "</ul>"
      ]
    },
    {
      "cell_type": "code",
      "metadata": {
        "colab_type": "code",
        "id": "gKQaa96OLtvn",
        "colab": {}
      },
      "source": [
        "# Method 1: Using IndexedRow class\n",
        "indRows = sc.parallelize([IndexedRow(0, [1.0, 6.0, 3.0, 0.0]),\n",
        "                          IndexedRow(1, [3.0, 2.0, 5.0, 1.0]),\n",
        "                          IndexedRow(2, [9.0, 4.0, 0.0, 3.0])])\n",
        "\n",
        "# Method 2: Using (long, vector) tuples\n",
        "indRows = sc.parallelize([(0, [1.0, 6.0, 3.0, 0.0]),\n",
        "                          (1, [3.0, 2.0, 5.0, 1.0]),\n",
        "                          (2, [9.0, 4.0, 0.0, 3.0])])"
      ],
      "execution_count": 0,
      "outputs": []
    },
    {
      "cell_type": "markdown",
      "metadata": {
        "colab_type": "text",
        "id": "9tw4Pgc9Ltvp"
      },
      "source": [
        "Now, create the <b>IndexedRowMatrix</b> called <b>indRowMat</b> by using the IndexedRowMatrix function and passing in the <b>indRows</b> RDD"
      ]
    },
    {
      "cell_type": "code",
      "metadata": {
        "colab_type": "code",
        "id": "bWqDuijvLtvp",
        "colab": {}
      },
      "source": [
        "indRowMat = IndexedRowMatrix(indRows)"
      ],
      "execution_count": 0,
      "outputs": []
    },
    {
      "cell_type": "markdown",
      "metadata": {
        "colab_type": "text",
        "id": "aVfcOq4PLtvr"
      },
      "source": [
        "Now we will retrieve the <font color=\"green\">row numbers</font> (save it as <font color=\"green\">m2</font>) and <font color=\"blue\">column numbers</font> (save it as <font color=\"blue\">n2</font>) from the IndexedRowMatrix.\n",
        "<ul>\n",
        "    <li>To get the number of rows, use <i>numRows()</i> on indRowMat</li>\n",
        "    <li>To get the number of columns, use <i>numCols()</i> on indRowMat</li>\n",
        "</ul>"
      ]
    },
    {
      "cell_type": "code",
      "metadata": {
        "colab_type": "code",
        "id": "2fv_pY00Ltvs",
        "colab": {}
      },
      "source": [
        "m2 = indRowMat.numRows()\n",
        "n2 = indRowMat.numCols()"
      ],
      "execution_count": 0,
      "outputs": []
    },
    {
      "cell_type": "markdown",
      "metadata": {
        "colab_type": "text",
        "id": "I2AAu2a0Ltvv"
      },
      "source": [
        "Print out <b>m2</b> and <b>n2</b>. The results should be:\n",
        "<ul>\n",
        "    <li>Number of Rows: 3</li>\n",
        "    <li>Number of Columns: 4</li>\n",
        "</ul>"
      ]
    },
    {
      "cell_type": "code",
      "metadata": {
        "scrolled": true,
        "colab_type": "code",
        "id": "w-CyNZPlLtvv",
        "colab": {}
      },
      "source": [
        "print(m2)\n",
        "\n",
        "print(n2)"
      ],
      "execution_count": 0,
      "outputs": []
    },
    {
      "cell_type": "markdown",
      "metadata": {
        "colab_type": "text",
        "id": "Uf19b7EDLtvw"
      },
      "source": [
        "<a id = \"cm\"></a>\n",
        "### <span style=\"color:#0b486b\">2.3 Coordinate Matrix</span>\n",
        "\n",
        "\n",
        "Now it's time to create a different type of matrix, whos use should be when both the dimensions of the matrix is very large, and the data in the matrix is sparse. <br>\n",
        "<b>Note</b>: In this case, we will be using the small, sparse matrix above, just to get the idea of how to initialize a CoordinateMatrix\n",
        "\n",
        "\n",
        "A CoordinateMatrix is a distributed matrix backed by an RDD of its entries. Each entry is a tuple of (i: Long, j: Long, value: Double), where i is the row index, j is the column index, and value is the entry value. A CoordinateMatrix should be used only when both dimensions of the matrix are huge and the matrix is very sparse.\n",
        "\n",
        "Import the following libraries:\n",
        "<ul>\n",
        "    <li>CoordinateMatrix, MatrixEntry from pyspark.mllib.linalg.distributed</li>\n",
        "</ul>"
      ]
    },
    {
      "cell_type": "code",
      "metadata": {
        "colab_type": "code",
        "id": "SfF4syBhLtvx",
        "colab": {}
      },
      "source": [
        "from pyspark.mllib.linalg.distributed import CoordinateMatrix, MatrixEntry"
      ],
      "execution_count": 0,
      "outputs": []
    },
    {
      "cell_type": "markdown",
      "metadata": {
        "colab_type": "text",
        "id": "HuwY9ye_Ltvz"
      },
      "source": [
        "Now, create a RDD called <b>coordRows</b> by using the SparkContext's parallelize function on the <b>Sparse Matrix</b>. There are two different inputs you can use to create the RDD:\n",
        "<ul>\n",
        "    <li>Method 1: A list containing multiple MatrixEntry inputs</li>\n",
        "    <ul>\n",
        "        <li>Input into MatrixEntry:</li>\n",
        "        <ul>\n",
        "            <li>1. Row index of the matrix (row number) (type: long)</li>\n",
        "            <li>2. Column index of the matrix (column number) (type: long)</li>\n",
        "            <li>3. Value at the (Row Index, Column Index) entry of the matrix (type: float)</li>\n",
        "        </ul>\n",
        "        <li>ex. sc.parallelize([MatrixEntry(0, 0, 1,), ...])</li>\n",
        "    </ul> <br>\n",
        "    <li>Method 2: A list containing multiple tuples</li>\n",
        "    <ul>\n",
        "        <li>Values in the tuple:</li>\n",
        "        <ul>\n",
        "            <li>1. Row index of the matrix (row number) (type: long)</li>\n",
        "            <li>2. Column index of the matrix (column number) (type: long)</li>\n",
        "            <li>3. Value at the (Row Index, Column Index) entry of the matrix (type: float)</li>\n",
        "        </ul>\n",
        "        <li>ex. sc.parallelize([(0, 0, 1), ...])</li>\n",
        "    </ul>\n",
        "</ul>"
      ]
    },
    {
      "cell_type": "code",
      "metadata": {
        "colab_type": "code",
        "id": "21qL_8MJLtv0",
        "colab": {}
      },
      "source": [
        "# Method 1. Using MatrixEntry class\n",
        "coordRows = sc.parallelize([MatrixEntry(0, 0, 1.0),\n",
        "                            MatrixEntry(0, 2, 3.0),\n",
        "                            MatrixEntry(1, 0, 3.0),\n",
        "                            MatrixEntry(1, 3, 1.0),\n",
        "                            MatrixEntry(2, 2, 4.0)])\n",
        "\n",
        "# Method 2. Using (long, long, float) tuples\n",
        "coordRows = sc.parallelize([(0, 0, 1.0),\n",
        "                            (0, 2, 3.0),\n",
        "                            (1, 1, 3.0),\n",
        "                            (1, 3, 1.0), \n",
        "                            (2, 2, 4.0)])"
      ],
      "execution_count": 0,
      "outputs": []
    },
    {
      "cell_type": "markdown",
      "metadata": {
        "colab_type": "text",
        "id": "6xsrK-6GLtv1"
      },
      "source": [
        "Now, create the <b>CoordinateMatrix</b> called <b>coordMat</b> by using the CoordinateMatrix function and passing in the <b>coordRows</b> RDD"
      ]
    },
    {
      "cell_type": "code",
      "metadata": {
        "colab_type": "code",
        "id": "fSuWdfT2Ltv2",
        "colab": {}
      },
      "source": [
        "coordMat = CoordinateMatrix(coordRows)"
      ],
      "execution_count": 0,
      "outputs": []
    },
    {
      "cell_type": "markdown",
      "metadata": {
        "colab_type": "text",
        "id": "Ibs1rvwqLtv3"
      },
      "source": [
        "Now we will retrieve the <font color=\"green\">row numbers</font> (save it as <font color=\"green\">m3</font>) and <font color=\"blue\">column numbers</font> (save it as <font color=\"blue\">n3</font>) from the CoordinateMatrix.\n",
        "<ul>\n",
        "    <li>To get the number of rows, use <i>numRows()</i> on coordMat</li>\n",
        "    <li>To get the number of columns, use <i>numCols()</i> on coordMat</li>\n",
        "</ul>"
      ]
    },
    {
      "cell_type": "code",
      "metadata": {
        "colab_type": "code",
        "id": "VGsRnQqrLtv4",
        "colab": {}
      },
      "source": [
        "m3 = coordMat.numRows()\n",
        "n3 = coordMat.numCols()"
      ],
      "execution_count": 0,
      "outputs": []
    },
    {
      "cell_type": "markdown",
      "metadata": {
        "colab_type": "text",
        "id": "TTLKHZwkLtv7"
      },
      "source": [
        "Print out <b>m3</b> and <b>n3</b>. The results should be:\n",
        "<ul>\n",
        "    <li>Number of Rows: 3</li>\n",
        "    <li>Number of Columns: 4</li>\n",
        "</ul>"
      ]
    },
    {
      "cell_type": "code",
      "metadata": {
        "scrolled": true,
        "colab_type": "code",
        "id": "FbzoGMYvLtv7",
        "colab": {}
      },
      "source": [
        "print(m3)\n",
        "\n",
        "print(n3)"
      ],
      "execution_count": 0,
      "outputs": []
    },
    {
      "cell_type": "markdown",
      "metadata": {
        "colab_type": "text",
        "id": "MANbIKSkLtv8"
      },
      "source": [
        "Now, we can get the <b>entries</b> of coordMat by calling the entries method on it. Store this in a variable called coordEnt."
      ]
    },
    {
      "cell_type": "code",
      "metadata": {
        "colab_type": "code",
        "id": "BUS5l9zwLtv9",
        "colab": {}
      },
      "source": [
        "coordEnt = coordMat.entries"
      ],
      "execution_count": 0,
      "outputs": []
    },
    {
      "cell_type": "markdown",
      "metadata": {
        "colab_type": "text",
        "id": "PkTmS5OzLtv-"
      },
      "source": [
        "Check out the <i>type</i> of coordEnt."
      ]
    },
    {
      "cell_type": "code",
      "metadata": {
        "colab_type": "code",
        "id": "G3_OVVMGLtv_",
        "colab": {}
      },
      "source": [
        "type(coordEnt)"
      ],
      "execution_count": 0,
      "outputs": []
    },
    {
      "cell_type": "markdown",
      "metadata": {
        "colab_type": "text",
        "id": "uIKl0SNkLtwA"
      },
      "source": [
        "It should be a <b>PipelinedRDD</b> type, which has many methods that are associated with it. One of them is <b>first()</b>, which will get the first element in the RDD. <br> <br>\n",
        "\n",
        "Run coordEnt.first()"
      ]
    },
    {
      "cell_type": "code",
      "metadata": {
        "colab_type": "code",
        "id": "xUEQBDTSLtwA",
        "colab": {}
      },
      "source": [
        "coordEnt.first()"
      ],
      "execution_count": 0,
      "outputs": []
    },
    {
      "cell_type": "markdown",
      "metadata": {
        "colab_type": "text",
        "id": "YpkCdrZpLtwC"
      },
      "source": [
        "<a id = \"bm\"></a>\n",
        "### <span style=\"color:#0b486b\">2.4 Block Matrix</span>\n",
        "\n",
        "A BlockMatrix is essentially a matrix consisting of elements which are partitions of the matrix that is being created.\n",
        "\n",
        "Import the following libraries:\n",
        "<ul>\n",
        "    <li>Matrices from pyspark.mllib.linalg</li>\n",
        "    <li>BlockMatrix from pyspark.mllib.linalg.distributed</li>\n",
        "</ul>\n",
        "\n",
        "A BlockMatrix is a distributed matrix backed by an RDD of MatrixBlocks, where a MatrixBlock is a tuple of ((Int, Int), Matrix), where the (Int, Int) is the index of the block, and Matrix is the sub-matrix at the given index with size rowsPerBlock x colsPerBlock. BlockMatrix supports methods such as add and multiply with another BlockMatrix. BlockMatrix also has a helper function validate which can be used to check whether the BlockMatrix is set up properly."
      ]
    },
    {
      "cell_type": "code",
      "metadata": {
        "scrolled": true,
        "colab_type": "code",
        "id": "rvYIns0lLtwD",
        "colab": {}
      },
      "source": [
        "from pyspark.mllib.linalg import Matrices\n",
        "from pyspark.mllib.linalg.distributed import BlockMatrix"
      ],
      "execution_count": 0,
      "outputs": []
    },
    {
      "cell_type": "markdown",
      "metadata": {
        "colab_type": "text",
        "id": "TsLuI3LxLtwE"
      },
      "source": [
        "Now create a <b>RDD</b> of <b>sub-matrix blocks</b>. <br>\n",
        "This will be done using SparkContext's parallelize function. <br>\n",
        "\n",
        "The input into <b>sc.parallelize</b> requires a <b>list of tuples</b>. The tuples are the sub-matrices, which consist of two inputs:\n",
        "<ul>\n",
        "    <li>1st: A tuple containing the row index and column index (row, column), denoting where the sub-matrix will start</li>\n",
        "    <li>2nd: The sub-matrix, which will come from <b>Matrices.dense</b>. The sub-matrix requires 3 inputs:</li>\n",
        "    <ul>\n",
        "        <li>1st: Number of rows</li>\n",
        "        <li>2nd: Number of columns</li>\n",
        "        <li>3rd: A list containing the elements of the sub-matrix. These values are read into the sub-matrix column-major fashion</li>\n",
        "    </ul>\n",
        "</ul> <br>\n",
        "(ex. ((51, 2), Matrices.dense(2, 2, [61.0, 43.0, 1.0, 74.0])) would be one row (one tuple))."
      ]
    },
    {
      "cell_type": "markdown",
      "metadata": {
        "colab_type": "text",
        "id": "MdRSH_V2LtwF"
      },
      "source": [
        "The matrix we will be modelling is <b>Dense Matrix</b> from above. Create the following sub-matrices:\n",
        "<ul>\n",
        "    <li>Row: 0, Column: 0, Values: 1.0, 3.0, 6.0, 2.0, with 2 Rows and 2 Columns </li>\n",
        "    <li>Row: 2, Column: 0, Values: 9.0, 4.0, with 1 Row and 2 Columns</li>\n",
        "    <li>Row: 0, Column: 2, Values: 3.0, 5.0, 0.0, 0.0, 1.0, 3.0, with 3 Rows and 2 Columns</li>\n",
        "</ul>"
      ]
    },
    {
      "cell_type": "code",
      "metadata": {
        "colab_type": "code",
        "id": "dAw16uYtLtwG",
        "colab": {}
      },
      "source": [
        "blocks = sc.parallelize([((0, 0), Matrices.dense(2, 2, [1.0, 3.0, 6.0, 2.0])), \n",
        "                         ((2, 0), Matrices.dense(1, 2, [9.0, 4.0])), \n",
        "                         ((0, 2), Matrices.dense(3, 2, [3.0, 5.0, 0.0, 0.0, 1.0, 3.0]))])"
      ],
      "execution_count": 0,
      "outputs": []
    },
    {
      "cell_type": "markdown",
      "metadata": {
        "colab_type": "text",
        "id": "AdmDmQQlLtwH"
      },
      "source": [
        "Now that we have the RDD, it's time to create the BlockMatrix called <b>blockMat</b> using the BlockMatrix class. The <b>BlockMatrix</b> class requires 3 inputs:\n",
        "<ul>\n",
        "    <li>1st: The RDD of sub-matricies</li>\n",
        "    <li>2nd: The rows per block. Keep this value at 1</li>\n",
        "    <li>3rd: The columns per block. Keep this value at 1</li>\n",
        "</ul>"
      ]
    },
    {
      "cell_type": "code",
      "metadata": {
        "colab_type": "code",
        "id": "dwBp4ZXOLtwH",
        "colab": {}
      },
      "source": [
        "blockMat = BlockMatrix(blocks, 1, 1)"
      ],
      "execution_count": 0,
      "outputs": []
    },
    {
      "cell_type": "markdown",
      "metadata": {
        "colab_type": "text",
        "id": "OGOstI_PLtwL"
      },
      "source": [
        "Now we will retrieve the <font color=\"green\">row numbers</font> (save it as <font color=\"green\">m4</font>) and <font color=\"blue\">column numbers</font> (save it as <font color=\"blue\">n4</font>) from the BlockMatrix.\n",
        "<ul>\n",
        "    <li>To get the number of rows, use <i>numRows()</i> on blockMat</li>\n",
        "    <li>To get the number of columns, use <i>numCols()</i> on blockMat</li>\n",
        "</ul>"
      ]
    },
    {
      "cell_type": "code",
      "metadata": {
        "scrolled": true,
        "colab_type": "code",
        "id": "upwe2QUTLtwL",
        "colab": {}
      },
      "source": [
        "m4 = blockMat.numRows()\n",
        "n4 = blockMat.numCols()"
      ],
      "execution_count": 0,
      "outputs": []
    },
    {
      "cell_type": "markdown",
      "metadata": {
        "colab_type": "text",
        "id": "xzRDmNXcLtwN"
      },
      "source": [
        "Print out <b>m4</b> and <b>n4</b>. The results should be:\n",
        "<ul>\n",
        "    <li>Number of Rows: 3</li>\n",
        "    <li>Number of Columns: 4</li>\n",
        "</ul>"
      ]
    },
    {
      "cell_type": "code",
      "metadata": {
        "colab_type": "code",
        "id": "jtvVPHPMLtwN",
        "colab": {}
      },
      "source": [
        "print(m4)\n",
        "\n",
        "print(n4)"
      ],
      "execution_count": 0,
      "outputs": []
    },
    {
      "cell_type": "markdown",
      "metadata": {
        "colab_type": "text",
        "id": "010_x_4HLtwO"
      },
      "source": [
        "Now, we need to check if our matrix is correct. We can do this by first converting <b>blockMat</b> into a LocalMatrix, by using the <b>.toLocalMatrix()</b> function on our matrix. Store the result into a variable called <b>locBMat</b>"
      ]
    },
    {
      "cell_type": "code",
      "metadata": {
        "colab_type": "code",
        "id": "7T-s3p7rLtwP",
        "colab": {}
      },
      "source": [
        "locBMat = blockMat.toLocalMatrix()"
      ],
      "execution_count": 0,
      "outputs": []
    },
    {
      "cell_type": "markdown",
      "metadata": {
        "colab_type": "text",
        "id": "YXlO4_9wLtwQ"
      },
      "source": [
        "Now print out <b>locBMat</b> and its <b>type</b>. The result should model the original <b>Dense Matrix</b> and the type should be a DenseMatrix."
      ]
    },
    {
      "cell_type": "code",
      "metadata": {
        "colab_type": "code",
        "id": "kXH07bVALtwS",
        "colab": {}
      },
      "source": [
        "print(locBMat)\n",
        "print(type(locBMat))"
      ],
      "execution_count": 0,
      "outputs": []
    },
    {
      "cell_type": "markdown",
      "metadata": {
        "id": "o_izbJT1wL6R",
        "colab_type": "text"
      },
      "source": [
        "**Conclusion**\n",
        "\n",
        "Distributed matrix\n",
        "\n",
        "A distributed matrix has long-typed row and column indices and double-typed values, stored distributively in one or more RDDs. It is very important to choose the right format to store large and distributed matrices. Converting a distributed matrix to a different format may require a global shuffle, which is quite expensive. Four types of distributed matrices have been implemented so far.\n",
        "\n",
        "The basic type is called **RowMatrix**. A RowMatrix is a row-oriented distributed matrix without meaningful row indices, e.g., a collection of feature vectors. It is backed by an RDD of its rows, where each row is a local vector. We assume that the number of columns is not huge for a RowMatrix so that a single local vector can be reasonably communicated to the driver and can also be stored / operated on using a single node. An **IndexedRowMatrix** is similar to a RowMatrix but with row indices, which can be used for identifying rows and executing joins. A **CoordinateMatrix** is a distributed matrix stored in coordinate list (COO) format, backed by an RDD of its entries. A **BlockMatrix** is a distributed matrix backed by an RDD of MatrixBlock which is a tuple of (Int, Int, Matrix).\n",
        "\n",
        "**Note**\n",
        "\n",
        "The underlying RDDs of a distributed matrix must be deterministic, because we cache the matrix size. In general the use of non-deterministic RDDs can lead to errors."
      ]
    },
    {
      "cell_type": "markdown",
      "metadata": {
        "colab_type": "text",
        "id": "uEM9zWdXLtwT"
      },
      "source": [
        "---\n",
        "## <span style=\"color:#0b486b\">3. Matrix Conversions</span>\n",
        "\n",
        "\n",
        "In this bonus section, we will talk about a relationship between the different [types of matrices](https://www.emathzone.com/tutorials/algebra/types-of-matrices.html). You can convert between these matrices that we discussed with the following functions. <br>\n",
        "<ul>\n",
        "    <li>.toRowMatrix() converts the matrix to a RowMatrix</li>\n",
        "    <li>.toIndexedRowMatrix() converts the matrix to an IndexedRowMatrix</li>\n",
        "    <li>.toCoordinateMatrix() converts the matrix to a CoordinateMatrix</li>\n",
        "    <li>.toBlockMatrix() converts the matrix to a BlockMatrix</li>\n",
        "</ul>"
      ]
    },
    {
      "cell_type": "markdown",
      "metadata": {
        "colab_type": "text",
        "id": "BW_z4pUYLtwT"
      },
      "source": [
        "<a id = \"irmc\"></a>\n",
        "### <span style=\"color:#0b486b\">3.1  Indexed Row Matrix Conversions</span>\n",
        "\n",
        "The following conversions are supported for an IndexedRowMatrix:\n",
        "<ul>\n",
        "    <li>IndexedRowMatrix -> RowMatrix</li>\n",
        "    <li>IndexedRowMatrix -> CoordinateMatrix</li>\n",
        "    <li>IndexedRowMatrix -> BlockMatrix</li>\n",
        "</ul>"
      ]
    },
    {
      "cell_type": "code",
      "metadata": {
        "scrolled": false,
        "colab_type": "code",
        "id": "6fA6spiGLtwV",
        "colab": {}
      },
      "source": [
        "# Convert to a RowMatrix\n",
        "rMat = indRowMat.toRowMatrix()\n",
        "print(type(rMat))\n",
        "\n",
        "# Convert to a CoordinateMatrix\n",
        "cMat = indRowMat.toCoordinateMatrix()\n",
        "print(type(cMat))\n",
        "\n",
        "# Convert to a BlockMatrix\n",
        "bMat = indRowMat.toBlockMatrix()\n",
        "print(type(bMat))"
      ],
      "execution_count": 0,
      "outputs": []
    },
    {
      "cell_type": "markdown",
      "metadata": {
        "colab_type": "text",
        "id": "nAiWbc4yLtwW"
      },
      "source": [
        "<a id = \"cmc\"></a>\n",
        "### <span style=\"color:#0b486b\">3.2  Coordinate Matrix Conversions</span>\n",
        "\n",
        "The following conversions are supported for an CoordinateMatrix:\n",
        "<ul>\n",
        "    <li>CoordinateMatrix -> RowMatrix</li>\n",
        "    <li>CoordinateMatrix -> IndexedRowMatrix</li>\n",
        "    <li>CoordinateMatrix -> BlockMatrix</li>\n",
        "</ul>"
      ]
    },
    {
      "cell_type": "code",
      "metadata": {
        "scrolled": true,
        "colab_type": "code",
        "id": "SmfKNn9uLtwX",
        "colab": {}
      },
      "source": [
        "# Convert to a RowMatrix\n",
        "rMat2 = coordMat.toRowMatrix()\n",
        "print(type(rMat2))\n",
        "\n",
        "# Convert to an IndexedRowMatrix\n",
        "iRMat = coordMat.toIndexedRowMatrix()\n",
        "print(type(iRMat))\n",
        "\n",
        "# Convert to a BlockMatrix\n",
        "bMat2 = coordMat.toBlockMatrix()\n",
        "print(type(bMat2))"
      ],
      "execution_count": 0,
      "outputs": []
    },
    {
      "cell_type": "markdown",
      "metadata": {
        "colab_type": "text",
        "id": "m81USk1uLtwY"
      },
      "source": [
        "<a id = \"bmc\"></a>\n",
        "### <span style=\"color:#0b486b\">3.3  Block Matrix Conversions</span>\n",
        "\n",
        "\n",
        "The following conversions are supported for an BlockMatrix:\n",
        "<ul>\n",
        "    <li>BlockMatrix -> LocalMatrix (Can display the Matrix)</li>\n",
        "    <li>BlockMatrix -> IndexedRowMatrix</li>\n",
        "    <li>BlockMatrix -> CoordinateMatrix</li>\n",
        "</ul>"
      ]
    },
    {
      "cell_type": "code",
      "metadata": {
        "colab_type": "code",
        "id": "UomLrvNdLtwY",
        "colab": {}
      },
      "source": [
        "# Convert to a LocalMatrix\n",
        "lMat = blockMat.toLocalMatrix()\n",
        "print(type(lMat))\n",
        "\n",
        "# Convert to an IndexedRowMatrix\n",
        "iRMat2 = blockMat.toIndexedRowMatrix()\n",
        "print(type(iRMat2))\n",
        "\n",
        "# Convert to a CoordinateMatrix\n",
        "cMat2 = blockMat.toCoordinateMatrix()\n",
        "print(type(cMat2))"
      ],
      "execution_count": 0,
      "outputs": []
    }
  ]
}