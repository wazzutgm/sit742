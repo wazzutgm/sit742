{
    "nbformat_minor": 1, 
    "cells": [
        {
            "source": "# SIT742: Modern Data Science \n**(Week 07: Big Data Platform (II))**\n\n---\n- Materials in this module include resources collected from various open-source online repositories.\n- You are free to use, change and distribute this package.\n- If you found any issue/bug for this document, please submit an issue at [tulip-lab/sit742](https://github.com/tulip-lab/sit742/issues)\n\nPrepared by **SIT742 Teaching Team**\n\n---\n \n\n## Session 7C - Spark MLlib (2): OHE Attributes\n---\n\nNote that, for reference, you can look up the details of the relevant Spark methods in [Spark's Python API](https://spark.apache.org/docs/latest/api/python/pyspark.html#pyspark.RDD) and the relevant NumPy methods in the [NumPy Reference](http://docs.scipy.org/doc/numpy/reference/index.html)\n\n\n### Content\n\n\n### Part 1 Featurize categorical data using one-hot-encoding (OHE)\n\n1.a [One-hot-encoding](#ohe)\n\n1.b [Sparse vectors](#svec)\n\n1.c [OHE features as sparse vectors](#ohesv)\n\n1.d [Define a OHE function](#dohe)\n\n1.e [Apply OHE to a dataset](#aohe)\n\n\n### Part 2  Construct an OHE dictionary \n\n2.a [Pair RDD of (featureID, category)](#prdd)\n\n2.b [OHE Dictionary from distinct features](#ohedict)\n\n2.c [Automated creation of an OHE dictionary](#acohe)\n\n\n", 
            "cell_type": "markdown", 
            "metadata": {
                "colab_type": "text", 
                "id": "tQJYO5xve9cK"
            }
        }, 
        {
            "source": "<a id = \"ohe\"></a>", 
            "cell_type": "markdown", 
            "metadata": {
                "colab_type": "text", 
                "id": "isYvmfJke9cL"
            }
        }, 
        {
            "source": "\n---\n## <span style=\"color:#0b486b\">1. Featurize categorical data using one-hot-encoding</span>\n\n<a id = \"ohe\"></a>\n\n### <span style=\"color:#0b486b\">1.a One-hot-encoding</span>\n\n\nWe would like to develop code to convert categorical features to numerical ones, and to build intuition, we will work with a sample unlabeled dataset with three data points, with each data point representing an animal. The first feature indicates the type of animal (bear, cat, mouse); the second feature describes the animal's color (black, tabby); and the third (optional) feature describes what the animal eats (mouse, salmon).\n\nIn a one-hot-encoding (OHE) scheme, we want to represent each tuple of `(featureID, category)` via its own binary feature.  We can do this in Python by creating a dictionary that maps each tuple to a distinct integer, where the integer corresponds to a binary feature. To start, manually enter the entries in the OHE dictionary associated with the sample dataset by mapping the tuples to consecutive integers starting from zero,  ordering the tuples first by featureID and next by category.\n\nLater in this lab, we'll use OHE dictionaries to transform data points into compact lists of features that can be used in machine learning algorithms.", 
            "cell_type": "markdown", 
            "metadata": {
                "colab_type": "text", 
                "id": "L9CHSQvVe9cM"
            }
        }, 
        {
            "execution_count": null, 
            "cell_type": "code", 
            "metadata": {
                "colab_type": "code", 
                "id": "VooHV6GOfISd", 
                "colab": {}
            }, 
            "outputs": [], 
            "source": "!apt-get install openjdk-8-jdk-headless -qq > /dev/null\n!wget -q https://archive.apache.org/dist/spark/spark-2.4.0/spark-2.4.0-bin-hadoop2.7.tgz\n!tar xf spark-2.4.0-bin-hadoop2.7.tgz\n!pip install -q findspark\n\nimport os\nos.environ[\"JAVA_HOME\"] = \"/usr/lib/jvm/java-8-openjdk-amd64\"\nos.environ[\"SPARK_HOME\"] = \"/content/spark-2.4.0-bin-hadoop2.7\"\n\nimport findspark\nfindspark.init() \n\nfrom pyspark import SparkContext\nfrom pyspark.sql import SQLContext\nsc = SparkContext.getOrCreate()"
        }, 
        {
            "execution_count": null, 
            "cell_type": "code", 
            "metadata": {
                "colab_type": "code", 
                "id": "KKcNNt4Ae9cM", 
                "colab": {}
            }, 
            "outputs": [], 
            "source": "# Data for manual OHE\n# Note: the first data point does not include any value for the optional third feature\nsampleOne = [(0, 'mouse'), (1, 'black')]\nsampleTwo = [(0, 'cat'), (1, 'tabby'), (2, 'mouse')]\nsampleThree =  [(0, 'bear'), (1, 'black'), (2, 'salmon')]\nsampleDataRDD = sc.parallelize([sampleOne, sampleTwo, sampleThree])"
        }, 
        {
            "execution_count": null, 
            "cell_type": "code", 
            "metadata": {
                "colab_type": "code", 
                "id": "1MxCjvFte9cP", 
                "colab": {}
            }, 
            "outputs": [], 
            "source": "# TODO: Replace <FILL IN> with appropriate code\nsampleOHEDictManual = {}\nsampleOHEDictManual[(0,'bear')] = <FILL IN>\nsampleOHEDictManual[(0,'cat')] = <FILL IN>\nsampleOHEDictManual[(0,'mouse')] = <FILL IN>\nsampleOHEDictManual<FILL IN>\nsampleOHEDictManual<FILL IN>\nsampleOHEDictManual<FILL IN>\nsampleOHEDictManual<FILL IN>"
        }, 
        {
            "source": "<details><summary><font color=\"blue\"><b>Click here for solutions to exercise</b></font></summary>\n```python\nsampleOHEDictManual = {}\nsampleOHEDictManual[(0,'bear')] = 0\nsampleOHEDictManual[(0,'cat')] = 1\nsampleOHEDictManual[(0,'mouse')] = 2\n    \nsampleOHEDictManual[(1, 'tabby')] = 4 \nsampleOHEDictManual[(1, 'black')] = 3\nsampleOHEDictManual[(2, 'mouse')] = 5\nsampleOHEDictManual[(2, 'salmon')] = 6\n```", 
            "cell_type": "markdown", 
            "metadata": {
                "colab_type": "text", 
                "id": "Z0pkqF1He9cQ"
            }
        }, 
        {
            "source": "<a id = \"svec\"></a>\n\n### <span style=\"color:#0b486b\">1.b Sparse vectors</span>\n\nData points can typically be represented with a small number of non-zero OHE features relative to the total number of features that occur in the dataset.  By leveraging this sparsity and using sparse vector representations of OHE data, we can reduce storage and computational burdens.  Below are a few sample vectors represented as dense numpy arrays.  Use [SparseVector](https://spark.apache.org/docs/latest/api/python/pyspark.mllib.html#pyspark.mllib.linalg.SparseVector) to represent them in a sparse fashion, and verify that both the sparse and dense representations yield the same results when computing [dot products](http://en.wikipedia.org/wiki/Dot_product) (we will later use MLlib to train classifiers via gradient descent, and MLlib will need to compute dot products between SparseVectors and dense parameter vectors).\n\nUse `SparseVector(size, *args)` to create a new sparse vector where size is the length of the vector and args is either a dictionary, a list of (index, value) pairs, or two separate arrays of indices and values (sorted by index).  You'll need to create a sparse vector representation of each dense vector `aDense` and `bDense`.", 
            "cell_type": "markdown", 
            "metadata": {
                "colab_type": "text", 
                "id": "Vxu0tEUle9cU"
            }
        }, 
        {
            "execution_count": null, 
            "cell_type": "code", 
            "metadata": {
                "colab_type": "code", 
                "id": "5gl5CTqae9cV", 
                "colab": {}
            }, 
            "outputs": [], 
            "source": "import numpy as np\nfrom pyspark.mllib.linalg import SparseVector"
        }, 
        {
            "execution_count": null, 
            "cell_type": "code", 
            "metadata": {
                "colab_type": "code", 
                "id": "yyY2otoge9cW", 
                "colab": {}
            }, 
            "outputs": [], 
            "source": "# TODO: Replace <FILL IN> with appropriate code\naDense = np.array([0., 3., 0., 4.])\naSparse = <FILL IN>\n\nbDense = np.array([0., 0., 0., 1.])\nbSparse = <FILL IN>\n\nw = np.array([0.4, 3.1, -1.4, -.5])\nprint (aDense.dot(w))\nprint (aSparse.dot(w))\nprint (bDense.dot(w))\nprint (bSparse.dot(w))"
        }, 
        {
            "source": "<details><summary><font color=\"blue\"><b>Click here for solutions to exercise</b></font></summary>\n```python\naDense = np.array([0., 3., 0., 4.])\naSparse = SparseVector(4, [1, 3], [3., 4.])\nbDense = np.array([0., 0., 0., 1.])\nbSparse = SparseVector(4, [3], [1.0])\n```", 
            "cell_type": "markdown", 
            "metadata": {
                "colab_type": "text", 
                "id": "tVzBNtzhe9cY"
            }
        }, 
        {
            "source": "<a id = \"ohesv\"></a>\n\n### <span style=\"color:#0b486b\">1.c OHE features as sparse vectors</span>\n\nNow let's see how we can represent the OHE features for points in our sample dataset.  Using the mapping defined by the OHE dictionary from Part (1a), manually define OHE features for the three sample data points using SparseVector format.  Any feature that occurs in a point should have the value 1.0.  For example, the `DenseVector` for a point with features 2 and 4 would be `[0.0, 0.0, 1.0, 0.0, 1.0, 0.0, 0.0]`.", 
            "cell_type": "markdown", 
            "metadata": {
                "colab_type": "text", 
                "id": "XF5uOB3we9cb"
            }
        }, 
        {
            "execution_count": null, 
            "cell_type": "code", 
            "metadata": {
                "colab_type": "code", 
                "id": "yBRlYQk-e9cb", 
                "colab": {}
            }, 
            "outputs": [], 
            "source": "# Reminder of the sample features\n# sampleOne = [(0, 'mouse'), (1, 'black')]\n# sampleTwo = [(0, 'cat'), (1, 'tabby'), (2, 'mouse')]\n# sampleThree =  [(0, 'bear'), (1, 'black'), (2, 'salmon')]"
        }, 
        {
            "execution_count": null, 
            "cell_type": "code", 
            "metadata": {
                "colab_type": "code", 
                "id": "OLSzj3wMe9cd", 
                "colab": {}
            }, 
            "outputs": [], 
            "source": "# TODO: Replace <FILL IN> with appropriate code\nsampleOneOHEFeatManual = <FILL IN>\nsampleTwoOHEFeatManual = <FILL IN>\nsampleThreeOHEFeatManual = <FILL IN>"
        }, 
        {
            "source": "<details><summary><font color=\"blue\"><b>Click here for solutions to exercise</b></font></summary>\n```python\nsampleOneOHEFeatManual = SparseVector(7, [2, 3], [1.0, 1.0])\nsampleTwoOHEFeatManual = SparseVector(7, [1, 4, 5], [1.0, 1.0, 1.0])\nsampleThreeOHEFeatManual = SparseVector(7, [0, 3, 6], [1.0, 1.0, 1.0])\n```", 
            "cell_type": "markdown", 
            "metadata": {
                "colab_type": "text", 
                "id": "nCbgrXAxe9cf"
            }
        }, 
        {
            "source": "<a id = \"dohe\"></a>\n\n### <span style=\"color:#0b486b\">1.d Define a OHE function</span>\n\nNext we will use the OHE dictionary from Part (1a) to programatically generate OHE features from the original categorical data.  First write a function called `oneHotEncoding` that creates OHE feature vectors in `SparseVector` format.  Then use this function to create OHE features for the first sample data point and verify that the result matches the result from Part (1c).", 
            "cell_type": "markdown", 
            "metadata": {
                "colab_type": "text", 
                "id": "Yg5WyLa4e9ch"
            }
        }, 
        {
            "execution_count": null, 
            "cell_type": "code", 
            "metadata": {
                "colab_type": "code", 
                "id": "LkZZ1wJQe9ch", 
                "colab": {}
            }, 
            "outputs": [], 
            "source": "# TODO: Replace <FILL IN> with appropriate code\ndef oneHotEncoding(rawFeats, OHEDict, numOHEFeats):\n    \"\"\"Produce a one-hot-encoding from a list of features and an OHE dictionary.\n\n    Note:\n        You should ensure that the indices used to create a SparseVector are sorted.\n\n    Args:\n        rawFeats (list of (int, str)): The features corresponding to a single observation.  Each\n            feature consists of a tuple of featureID and the feature's value. (e.g. sampleOne)\n        OHEDict (dict): A mapping of (featureID, value) to unique integer.\n        numOHEFeats (int): The total number of unique OHE features (combinations of featureID and\n            value).\n\n    Returns:\n        SparseVector: A SparseVector of length numOHEFeats with indicies equal to the unique\n            identifiers for the (featureID, value) combinations that occur in the observation and\n            with values equal to 1.0.\n    \"\"\"\n    <FILL IN>\n\n# Calculate the number of features in sampleOHEDictManual\nnumSampleOHEFeats = <FILL IN>\n\n# Run oneHotEnoding on sampleOne\nsampleOneOHEFeat = <FILL IN>\n\nprint (sampleOneOHEFeat)"
        }, 
        {
            "source": "<details><summary><font color=\"blue\"><b>Click here for solutions to exercise</b></font></summary>\n```python\ndef oneHotEncoding(rawFeats, OHEDict, numOHEFeats):\n    \"\"\"Produce a one-hot-encoding from a list of features and an OHE dictionary.\n\n    Note:\n        You should ensure that the indices used to create a SparseVector are sorted.\n\n    Args:\n        rawFeats (list of (int, str)): The features corresponding to a single observation.  Each\n            feature consists of a tuple of featureID and the feature's value. (e.g. sampleOne)\n        OHEDict (dict): A mapping of (featureID, value) to unique integer.\n        numOHEFeats (int): The total number of unique OHE features (combinations of featureID and\n            value).\n\n    Returns:\n        SparseVector: A SparseVector of length numOHEFeats with indicies equal to the unique\n            identifiers for the (featureID, value) combinations that occur in the observation and\n            with values equal to 1.0.\n    \"\"\"\n    \n    sparse_ix = []\n    sparse_val = []\n    for f in rawFeats:\n        sparse_ix.append(OHEDict[f])\n        sparse_val.append(1)\n\n    # for the use of \"*\" here, refer to Section 4.7.4 of the following link:\n    # https://docs.python.org/2/tutorial/controlflow.html#tut-unpacking-arguments    \n    sparse_ix, sparse_val =   zip(*[(i, j) for i, j in sorted(zip(sparse_ix, sparse_val))])\n\n    return SparseVector(numOHEFeats, sparse_ix, sparse_val)\n\n#Calculate the number of features in sampleOHEDictManual\nnumSampleOHEFeats = len(sampleOHEDictManual)\n\n#Run oneHotEnoding on sampleOne\nsampleOneOHEFeat = oneHotEncoding(sampleOne, sampleOHEDictManual, numSampleOHEFeats)\n\n```", 
            "cell_type": "markdown", 
            "metadata": {
                "colab_type": "text", 
                "id": "z6FznsM5e9cj"
            }
        }, 
        {
            "source": "<a id = \"aohe\"></a>\n\n### <span style=\"color:#0b486b\">1.e Apply OHE to a dataset</span>\n\nFinally, use the function from Part (1d) to create OHE features for all 3 data points in the sample dataset.", 
            "cell_type": "markdown", 
            "metadata": {
                "colab_type": "text", 
                "id": "pw96Jfkme9cl"
            }
        }, 
        {
            "execution_count": null, 
            "cell_type": "code", 
            "metadata": {
                "colab_type": "code", 
                "id": "Tug9XPSve9cm", 
                "colab": {}
            }, 
            "outputs": [], 
            "source": "# TODO: Replace <FILL IN> with appropriate code\nsampleOHEData = sampleDataRDD.<FILL IN>\nprint (sampleOHEData.collect())"
        }, 
        {
            "source": "<details><summary><font color=\"blue\"><b>Click here for solutions to exercise</b></font></summary>\n```python\nsampleOHEData = sampleDataRDD.map(lambda x: oneHotEncoding(x, sampleOHEDictManual, numSampleOHEFeats))\n\n```", 
            "cell_type": "markdown", 
            "metadata": {
                "colab_type": "text", 
                "id": "BUa7jR4fe9co"
            }
        }, 
        {
            "source": "<a id = \"ohedict\"></a>", 
            "cell_type": "markdown", 
            "metadata": {
                "colab_type": "text", 
                "id": "zlqvEBB1e9cr"
            }
        }, 
        {
            "source": "---\n## <span style=\"color:#0b486b\">2. Construct an OHE dictionary</span>\n\n<a id = \"prdd\"></a>\n\n### <span style=\"color:#0b486b\">2.a Pair RDD of `(featureID, category)</span>\n\n\nTo start, create an RDD of distinct `(featureID, category)` tuples. In our sample dataset, the 7 items in the resulting RDD are `(0, 'bear')`, `(0, 'cat')`, `(0, 'mouse')`, `(1, 'black')`, `(1, 'tabby')`, `(2, 'mouse')`, `(2, 'salmon')`. Notably `'black'` appears twice in the dataset but only contributes one item to the RDD: `(1, 'black')`, while `'mouse'` also appears twice and contributes two items: `(0, 'mouse')` and `(2, 'mouse')`.  Use [flatMap](https://spark.apache.org/docs/latest/api/python/pyspark.html#pyspark.RDD.flatMap) and [distinct](https://spark.apache.org/docs/latest/api/python/pyspark.html#pyspark.RDD.distinct).", 
            "cell_type": "markdown", 
            "metadata": {
                "colab_type": "text", 
                "id": "k_69LrHre9cr"
            }
        }, 
        {
            "execution_count": null, 
            "cell_type": "code", 
            "metadata": {
                "colab_type": "code", 
                "id": "AjWwZ4Mge9cs", 
                "colab": {}
            }, 
            "outputs": [], 
            "source": "# TODO: Replace <FILL IN> with appropriate code\nsampleDistinctFeats = (sampleDataRDD\n                       <FILL IN>)"
        }, 
        {
            "source": "<details><summary><font color=\"blue\"><b>Click here for solutions to exercise</b></font></summary>\n```python\nsampleDistinctFeats = (sampleDataRDD\n                        .flatMap(lambda x: x )\n                        .distinct()\n                       )\n\n```", 
            "cell_type": "markdown", 
            "metadata": {
                "colab_type": "text", 
                "id": "FEuQQPjYe9cu"
            }
        }, 
        {
            "source": "<a id = \"ohedict\"></a>\n\n### <span style=\"color:#0b486b\">2.b OHE Dictionary from distinct features</span>\n\n\nNext, create an `RDD` of key-value tuples, where each `(featureID, category)` tuple in `sampleDistinctFeats` is a key and the values are distinct integers ranging from 0 to (number of keys - 1).  Then convert this `RDD` into a dictionary, which can be done using the `collectAsMap` action.  Note that there is no unique mapping from keys to values, as all we require is that each `(featureID, category)` key be mapped to a unique integer between 0 and the number of keys.  In this exercise, any valid mapping is acceptable.  Use [zipWithIndex](https://spark.apache.org/docs/latest/api/python/pyspark.html#pyspark.RDD.zipWithIndex) followed by [collectAsMap](https://spark.apache.org/docs/latest/api/python/pyspark.html#pyspark.RDD.collectAsMap).\n\nIn our sample dataset, one valid list of key-value tuples is: `[((0, 'bear'), 0), ((2, 'salmon'), 1), ((1, 'tabby'), 2), ((2, 'mouse'), 3), ((0, 'mouse'), 4), ((0, 'cat'), 5), ((1, 'black'), 6)]`. The dictionary defined in Part (1a) illustrates another valid mapping between keys and integers.", 
            "cell_type": "markdown", 
            "metadata": {
                "colab_type": "text", 
                "id": "Io8GiFi_e9cy"
            }
        }, 
        {
            "execution_count": null, 
            "cell_type": "code", 
            "metadata": {
                "colab_type": "code", 
                "id": "yyVh7b6Ae9cy", 
                "colab": {}
            }, 
            "outputs": [], 
            "source": "# TODO: Replace <FILL IN> with appropriate code\nsampleOHEDict = (sampleDistinctFeats\n                           <FILL IN>)\nprint (sampleOHEDict)"
        }, 
        {
            "source": "<details><summary><font color=\"blue\"><b>Click here for solutions to exercise</b></font></summary>\n```python\nsampleOHEDict = (sampleDistinctFeats\n                 .zipWithIndex()\n                 .collectAsMap()\n                )\n\n```", 
            "cell_type": "markdown", 
            "metadata": {
                "colab_type": "text", 
                "id": "oKb4ojR9e9c0"
            }
        }, 
        {
            "source": "<a id = \"acohe\"></a>\n\n### <span style=\"color:#0b486b\">2.c Automated creation of an OHE dictionary</span>\n\n\nNow use the code from Parts (2a) and (2b) to write a function that takes an input dataset and outputs an OHE dictionary.  Then use this function to create an OHE dictionary for the sample dataset, and verify that it matches the dictionary from Part (2b).", 
            "cell_type": "markdown", 
            "metadata": {
                "colab_type": "text", 
                "id": "hUH4ymvqe9c2"
            }
        }, 
        {
            "execution_count": null, 
            "cell_type": "code", 
            "metadata": {
                "colab_type": "code", 
                "id": "ZCNYcylBe9c2", 
                "colab": {}
            }, 
            "outputs": [], 
            "source": "# TODO: Replace <FILL IN> with appropriate code\ndef createOneHotDict(inputData):\n    \"\"\"Creates a one-hot-encoder dictionary based on the input data.\n\n    Args:\n        inputData (RDD of lists of (int, str)): An RDD of observations where each observation is\n            made up of a list of (featureID, value) tuples.\n\n    Returns:\n        dict: A dictionary where the keys are (featureID, value) tuples and map to values that are\n            unique integers.\n    \"\"\"\n    <FILL IN>\n\nsampleOHEDictAuto = <FILL IN>\nprint (sampleOHEDictAuto)"
        }, 
        {
            "source": "<details><summary><font color=\"blue\"><b>Click here for solutions to exercise</b></font></summary>\n```python\ndef createOneHotDict(inputData):\n    \"\"\"Creates a one-hot-encoder dictionary based on the input data.\n\n    Args:\n        inputData (RDD of lists of (int, str)): An RDD of observations where each observation is\n            made up of a list of (featureID, value) tuples.\n\n    Returns:\n        dict: A dictionary where the keys are (featureID, value) tuples and map to values that are\n            unique integers.\n    \"\"\"\n    dict = (inputData\n            .flatMap(lambda x: x)\n            .distinct()\n            .zipWithIndex()\n            .collectAsMap()\n            )\n    return dict\n\nsampleOHEDictAuto = createOneHotDict(sampleDataRDD)\n```", 
            "cell_type": "markdown", 
            "metadata": {
                "colab_type": "text", 
                "id": "tNb_BS-ae9c4"
            }
        }, 
        {
            "execution_count": null, 
            "cell_type": "code", 
            "metadata": {}, 
            "outputs": [], 
            "source": ""
        }
    ], 
    "metadata": {
        "kernelspec": {
            "display_name": "Python 3.5", 
            "name": "python3", 
            "language": "python"
        }, 
        "language_info": {
            "mimetype": "text/x-python", 
            "nbconvert_exporter": "python", 
            "version": "3.5.5", 
            "name": "python", 
            "file_extension": ".py", 
            "pygments_lexer": "ipython3", 
            "codemirror_mode": {
                "version": 3, 
                "name": "ipython"
            }
        }, 
        "colab": {
            "provenance": [], 
            "version": "0.3.2", 
            "toc_visible": true, 
            "name": "SIT742P07C-MLlib-OHE.ipynb"
        }
    }, 
    "nbformat": 4
}